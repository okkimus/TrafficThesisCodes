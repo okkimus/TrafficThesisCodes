{
 "cells": [
  {
   "cell_type": "code",
   "execution_count": 18,
   "metadata": {},
   "outputs": [
    {
     "name": "stdout",
     "output_type": "stream",
     "text": [
      "The autoreload extension is already loaded. To reload it, use:\n",
      "  %reload_ext autoreload\n"
     ]
    }
   ],
   "source": [
    "%load_ext autoreload\n",
    "%autoreload 2\n",
    "from DataPaths import Paths\n",
    "from DatasetReader import DatasetReader\n",
    "from HalfhourClusterer import HalfhourClusterer\n",
    "from ClusterVisualisation import visualise_model\n",
    "from ClusterVisualisation import visualise_models\n",
    "\n",
    "import pickle\n",
    "import numpy as np\n",
    "import pandas as pd"
   ]
  },
  {
   "cell_type": "code",
   "execution_count": 2,
   "metadata": {},
   "outputs": [],
   "source": [
    "dr = DatasetReader()\n",
    "year_data_paths = dr.read_directories(Paths.mean_pickles_v2).full_file_paths"
   ]
  },
  {
   "cell_type": "code",
   "execution_count": 26,
   "metadata": {},
   "outputs": [
    {
     "data": {
      "text/plain": [
       "['YOUR_PATH\\\\data\\\\mean_pickles_v2\\\\means_2016_from_1st_monday_february_3_weeks.pkl',\n",
       " 'YOUR_PATH\\\\data\\\\mean_pickles_v2\\\\means_2017_from_1st_monday_february_3_weeks.pkl',\n",
       " 'YOUR_PATH\\\\data\\\\mean_pickles_v2\\\\means_2020_from_1st_monday_february_3_weeks.pkl',\n",
       " 'YOUR_PATH\\\\data\\\\mean_pickles_v2\\\\means_2021_from_1st_monday_february_3_weeks.pkl']"
      ]
     },
     "execution_count": 26,
     "metadata": {},
     "output_type": "execute_result"
    }
   ],
   "source": [
    "retrain = True\n",
    "save_models = True\n",
    "model_prefix = \"pickled_halfhour_cluster\"\n",
    "\n",
    "year_data_paths"
   ]
  },
  {
   "cell_type": "code",
   "execution_count": 23,
   "metadata": {},
   "outputs": [],
   "source": [
    "filter = 15\n",
    "hhc_2016 = HalfhourClusterer(year_data_paths[0], filter)\n",
    "hhc_2017 = HalfhourClusterer(year_data_paths[1], filter)\n",
    "hhc_2020 = HalfhourClusterer(year_data_paths[2], filter)\n",
    "hhc_2021 = HalfhourClusterer(year_data_paths[3], filter)"
   ]
  },
  {
   "cell_type": "code",
   "execution_count": 24,
   "metadata": {},
   "outputs": [],
   "source": [
    "if retrain:\n",
    "  model_2016 = hhc_2016.train(6, True, False)\n",
    "  model_2017 = hhc_2017.train(6, True, False)\n",
    "  model_2020 = hhc_2020.train(6, True, False)\n",
    "  model_2021 = hhc_2021.train(6, True, False)\n",
    "else:\n",
    "  model_2016 = pd.read_pickle(\"halhour_cluster_2016.pkl\")\n",
    "  model_2017 = pd.read_pickle(\"halhour_cluster_2017.pkl\")\n",
    "  model_2020 = pd.read_pickle(\"halhour_cluster_2020.pkl\")\n",
    "  model_2021 = pd.read_pickle(\"halhour_cluster_2021.pkl\")"
   ]
  },
  {
   "cell_type": "code",
   "execution_count": 25,
   "metadata": {},
   "outputs": [],
   "source": [
    "preds_2016 = hhc_2016.predict(model_2016, True, False)\n",
    "preds_2017 = hhc_2017.predict(model_2017, True, False)\n",
    "preds_2020 = hhc_2020.predict(model_2020, True, False)\n",
    "preds_2021 = hhc_2021.predict(model_2021, True, False)"
   ]
  },
  {
   "cell_type": "code",
   "execution_count": 27,
   "metadata": {},
   "outputs": [],
   "source": [
    "%matplotlib qt\n",
    "\n",
    "# visualise_model(model_2016, preds_2016, hhc_2016.get_dataset(True, False), True, False)\n",
    "# visualise_model(model_2017, preds_2017, hhc_2017.get_dataset(True, False), True, False, \"g\")\n",
    "# visualise_model(model_2020, preds_2020, hhc_2020.get_dataset(True, False), True, False, \"b\")\n",
    "# visualise_model(model_2021, preds_2021, hhc_2021.get_dataset(True, False), True, False, \"y\")\n",
    "\n",
    "models = [model_2016, model_2017, model_2020, model_2021]\n",
    "colors = [\"r\", \"g\", \"b\", \"y\"]\n",
    "visualise_models(models, colors)"
   ]
  },
  {
   "cell_type": "code",
   "execution_count": 28,
   "metadata": {},
   "outputs": [],
   "source": [
    "if save_models:\n",
    "  years = [2016, 2017, 2020, 2021]\n",
    "  for i in range(len(models)):\n",
    "    filename = f\"{model_prefix}_{years[i]}.pkl\"\n",
    "    pickle.dump(models[i], open(filename, 'wb'))\n",
    "    # TO READ USE: pickle.load(open(\"pickled_halfhour_cluster_2016.pkl\", 'rb'))\n"
   ]
  },
  {
   "cell_type": "code",
   "execution_count": 31,
   "metadata": {},
   "outputs": [],
   "source": [
    "model_2016_unscaled = hhc_2016.train(6, False, False)\n",
    "model_2017_unscaled = hhc_2017.train(6, False, False)\n",
    "model_2020_unscaled = hhc_2020.train(6, False, False)\n",
    "model_2021_unscaled = hhc_2021.train(6, False, False)\n",
    "\n",
    "unscaled_models = [model_2016_unscaled, model_2017_unscaled, model_2020_unscaled, model_2021_unscaled]\n",
    "\n",
    "if save_models:\n",
    "  years = [2016, 2017, 2020, 2021]\n",
    "  for i in range(len(unscaled_models)):\n",
    "    filename = f\"{model_prefix}_unsclaed_{years[i]}.pkl\"\n",
    "    pickle.dump(unscaled_models [i], open(filename, 'wb'))\n",
    "    # TO READ USE: pickle.load(open(\"pickled_halfhour_cluster_2016.pkl\", 'rb'))"
   ]
  },
  {
   "cell_type": "code",
   "execution_count": 32,
   "metadata": {},
   "outputs": [],
   "source": [
    "visualise_models(unscaled_models, colors)"
   ]
  },
  {
   "cell_type": "code",
   "execution_count": 121,
   "metadata": {},
   "outputs": [],
   "source": [
    "from tslearn.metrics import dtw"
   ]
  },
  {
   "cell_type": "code",
   "execution_count": 33,
   "metadata": {},
   "outputs": [],
   "source": [
    "# Filter only TMS points in all sets"
   ]
  },
  {
   "cell_type": "code",
   "execution_count": 34,
   "metadata": {},
   "outputs": [],
   "source": [
    "def filter_only_lams_in_all_datasets(data_paths):\n",
    "  datas = []\n",
    "  for path in data_paths:\n",
    "    datas.append(pd.read_pickle(path))\n",
    "  \n",
    "  all_df = pd.concat(datas, axis=0)\n",
    "  grouped = all_df.groupby([\"lamId\", \"direction\"])\n",
    "  filtered = grouped.filter(lambda x: x[\"year\"].count() == len(data_paths))\n",
    "\n",
    "  return filtered"
   ]
  },
  {
   "cell_type": "code",
   "execution_count": 35,
   "metadata": {},
   "outputs": [],
   "source": [
    "all_datas = filter_only_lams_in_all_datasets(year_data_paths)"
   ]
  },
  {
   "cell_type": "code",
   "execution_count": 36,
   "metadata": {},
   "outputs": [],
   "source": [
    "def get_year_of_data(full_data, year):\n",
    "  return full_data[full_data[\"year\"] == year].reset_index()"
   ]
  },
  {
   "cell_type": "code",
   "execution_count": 37,
   "metadata": {},
   "outputs": [],
   "source": [
    "data_2016 = get_year_of_data(all_datas, 2016)\n",
    "data_2017 = get_year_of_data(all_datas, 2017)\n",
    "data_2020 = get_year_of_data(all_datas, 2020)\n",
    "data_2021 = get_year_of_data(all_datas, 2021)"
   ]
  },
  {
   "cell_type": "code",
   "execution_count": 38,
   "metadata": {},
   "outputs": [],
   "source": [
    "filter = 15\n",
    "hhc_2016_new = HalfhourClusterer(data_2016, filter)\n",
    "hhc_2017_new = HalfhourClusterer(data_2017, filter)\n",
    "hhc_2020_new = HalfhourClusterer(data_2020, filter)\n",
    "hhc_2021_new = HalfhourClusterer(data_2021, filter)"
   ]
  },
  {
   "cell_type": "code",
   "execution_count": 40,
   "metadata": {},
   "outputs": [],
   "source": [
    "model_2016_new = hhc_2016_new.train(6, True, False)\n",
    "model_2017_new = hhc_2017_new.train(6, True, False)\n",
    "model_2020_new = hhc_2020_new.train(6, True, False)\n",
    "model_2021_new = hhc_2021_new.train(6, True, False)"
   ]
  },
  {
   "cell_type": "code",
   "execution_count": 41,
   "metadata": {},
   "outputs": [],
   "source": [
    "preds_2016_new_scaled = hhc_2016_new.predict(model_2016_new, True, False)\n",
    "preds_2017_new_scaled = hhc_2017_new.predict(model_2017_new, True, False)\n",
    "preds_2020_new_scaled = hhc_2020_new.predict(model_2020_new, True, False)\n",
    "preds_2021_new_scaled = hhc_2021_new.predict(model_2021_new, True, False)"
   ]
  },
  {
   "cell_type": "code",
   "execution_count": 43,
   "metadata": {},
   "outputs": [],
   "source": [
    "models_new = [model_2016_new, model_2017_new, model_2020_new, model_2021_new]\n",
    "\n",
    "visualise_models(models_new, colors)\n"
   ]
  },
  {
   "cell_type": "code",
   "execution_count": null,
   "metadata": {},
   "outputs": [],
   "source": []
  },
  {
   "cell_type": "code",
   "execution_count": 5,
   "metadata": {},
   "outputs": [],
   "source": []
  },
  {
   "cell_type": "code",
   "execution_count": null,
   "metadata": {},
   "outputs": [],
   "source": []
  },
  {
   "cell_type": "code",
   "execution_count": 11,
   "metadata": {},
   "outputs": [],
   "source": []
  },
  {
   "cell_type": "code",
   "execution_count": 44,
   "metadata": {},
   "outputs": [],
   "source": []
  },
  {
   "cell_type": "code",
   "execution_count": null,
   "metadata": {},
   "outputs": [],
   "source": []
  },
  {
   "cell_type": "code",
   "execution_count": null,
   "metadata": {},
   "outputs": [],
   "source": []
  },
  {
   "cell_type": "code",
   "execution_count": 64,
   "metadata": {},
   "outputs": [],
   "source": []
  },
  {
   "cell_type": "code",
   "execution_count": 65,
   "metadata": {},
   "outputs": [],
   "source": []
  },
  {
   "cell_type": "code",
   "execution_count": 67,
   "metadata": {},
   "outputs": [],
   "source": []
  },
  {
   "cell_type": "code",
   "execution_count": 68,
   "metadata": {},
   "outputs": [],
   "source": []
  },
  {
   "cell_type": "code",
   "execution_count": null,
   "metadata": {},
   "outputs": [],
   "source": []
  },
  {
   "cell_type": "code",
   "execution_count": null,
   "metadata": {},
   "outputs": [],
   "source": []
  }
 ],
 "metadata": {
  "interpreter": {
   "hash": "49a81c4efa39f239a8cc65dcaf382d798311325939ac259be27f4efc1eb936dd"
  },
  "kernelspec": {
   "display_name": "Python 3.9.7 ('gradu')",
   "language": "python",
   "name": "python3"
  },
  "language_info": {
   "codemirror_mode": {
    "name": "ipython",
    "version": 3
   },
   "file_extension": ".py",
   "mimetype": "text/x-python",
   "name": "python",
   "nbconvert_exporter": "python",
   "pygments_lexer": "ipython3",
   "version": "3.9.7"
  },
  "orig_nbformat": 4
 },
 "nbformat": 4,
 "nbformat_minor": 2
}
