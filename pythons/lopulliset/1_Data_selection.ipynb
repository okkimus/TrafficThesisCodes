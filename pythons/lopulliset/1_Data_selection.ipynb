{
 "cells": [
  {
   "cell_type": "code",
   "execution_count": 1,
   "metadata": {},
   "outputs": [],
   "source": [
    "import DatasetReader\n",
    "from DataPaths import Paths\n",
    "import pandas as pd"
   ]
  },
  {
   "cell_type": "code",
   "execution_count": 2,
   "metadata": {},
   "outputs": [],
   "source": [
    "datareader = DatasetReader.DatasetReader()"
   ]
  },
  {
   "cell_type": "code",
   "execution_count": 7,
   "metadata": {},
   "outputs": [],
   "source": [
    "pickles = datareader.read_directories(Paths.full_year_pickle_path_v3).full_file_paths"
   ]
  },
  {
   "cell_type": "code",
   "execution_count": 8,
   "metadata": {},
   "outputs": [],
   "source": [
    "data_2016 = datareader.read_pickle(pickles[0])\n",
    "data_2017 = datareader.read_pickle(pickles[1])\n",
    "data_2020 = datareader.read_pickle(pickles[2])\n",
    "data_2021 = datareader.read_pickle(pickles[3])"
   ]
  },
  {
   "cell_type": "code",
   "execution_count": 9,
   "metadata": {},
   "outputs": [],
   "source": [
    "def print_lam_count(df, year):\n",
    "  c = df[\"lamId\"].unique().size\n",
    "  print(f\"Year {year}: {c} lams\")"
   ]
  },
  {
   "cell_type": "code",
   "execution_count": 10,
   "metadata": {},
   "outputs": [
    {
     "name": "stdout",
     "output_type": "stream",
     "text": [
      "Year 2016: 464 lams\n",
      "Year 2017: 474 lams\n",
      "Year 2020: 490 lams\n",
      "Year 2021: 492 lams\n"
     ]
    }
   ],
   "source": [
    "print_lam_count(data_2016, 2016)\n",
    "print_lam_count(data_2017, 2017)\n",
    "print_lam_count(data_2020, 2020)\n",
    "print_lam_count(data_2021, 2021)"
   ]
  },
  {
   "cell_type": "code",
   "execution_count": 13,
   "metadata": {},
   "outputs": [],
   "source": [
    "def common_lams(dfs):\n",
    "  lams = []\n",
    "  for df in dfs:\n",
    "    lams.append(df[\"lamId\"].unique())\n",
    "\n",
    "  common_lam = []\n",
    "  for lam_id in lams[0]:\n",
    "    is_common = True\n",
    "    for i in range(1, len(lams)):\n",
    "      if lam_id not in lams[i]:\n",
    "        is_common = False\n",
    "    if is_common:\n",
    "      common_lam.append(lam_id)\n",
    "    else:\n",
    "      print(f\"Left {lam_id} out\")\n",
    "  \n",
    "  return common_lam"
   ]
  },
  {
   "cell_type": "code",
   "execution_count": 14,
   "metadata": {},
   "outputs": [
    {
     "name": "stdout",
     "output_type": "stream",
     "text": [
      "Left 118 out\n"
     ]
    }
   ],
   "source": [
    "lams_in_all_years = common_lams([data_2016,data_2017,data_2020,data_2021])"
   ]
  },
  {
   "cell_type": "code",
   "execution_count": 15,
   "metadata": {},
   "outputs": [
    {
     "data": {
      "text/plain": [
       "463"
      ]
     },
     "execution_count": 15,
     "metadata": {},
     "output_type": "execute_result"
    }
   ],
   "source": [
    "len(lams_in_all_years)"
   ]
  },
  {
   "cell_type": "code",
   "execution_count": 16,
   "metadata": {},
   "outputs": [],
   "source": [
    "pd.DataFrame({ \"commonLams\": lams_in_all_years}).to_pickle(\"common_lams_v2.pkl\")"
   ]
  },
  {
   "cell_type": "code",
   "execution_count": null,
   "metadata": {},
   "outputs": [],
   "source": []
  }
 ],
 "metadata": {
  "interpreter": {
   "hash": "3c0b52ca80764a1dd840b1e249101c987e7c79ab6aa47aa3ae0c0a2c7735eb98"
  },
  "kernelspec": {
   "display_name": "Python 3.9.7 ('gradu')",
   "language": "python",
   "name": "python3"
  },
  "language_info": {
   "codemirror_mode": {
    "name": "ipython",
    "version": 3
   },
   "file_extension": ".py",
   "mimetype": "text/x-python",
   "name": "python",
   "nbconvert_exporter": "python",
   "pygments_lexer": "ipython3",
   "version": "3.9.7"
  },
  "orig_nbformat": 4
 },
 "nbformat": 4,
 "nbformat_minor": 2
}
