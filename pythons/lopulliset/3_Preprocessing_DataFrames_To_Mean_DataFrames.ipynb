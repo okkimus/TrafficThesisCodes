{
 "cells": [
  {
   "cell_type": "code",
   "execution_count": 1,
   "metadata": {},
   "outputs": [],
   "source": [
    "from DataPaths import Paths\n",
    "from DatasetReader import DatasetReader\n",
    "from MeanMaker import MeanMaker\n",
    "from DataFramer import DataFramer\n",
    "\n",
    "import numpy as np\n",
    "import pandas as pd\n",
    "import matplotlib.pyplot as plt"
   ]
  },
  {
   "cell_type": "code",
   "execution_count": 2,
   "metadata": {},
   "outputs": [],
   "source": [
    "mm = MeanMaker()\n",
    "dr = DatasetReader()\n",
    "framer = DataFramer(Paths.processed_image_path_v3, Paths.full_year_pickle_path_v3)\n",
    "common_lams = pd.read_pickle(\"common_lams_v2.pkl\")"
   ]
  },
  {
   "cell_type": "code",
   "execution_count": 5,
   "metadata": {},
   "outputs": [],
   "source": [
    "# Modify these parameters!\n",
    "selected_years = [2016, 2017, 2020, 2021]\n",
    "selected_feature = \"CarCount\""
   ]
  },
  {
   "cell_type": "code",
   "execution_count": 6,
   "metadata": {},
   "outputs": [],
   "source": [
    "for year in selected_years:\n",
    "  framer.pickle_year_with_common_lams(year, selected_feature, common_lams)"
   ]
  },
  {
   "cell_type": "code",
   "execution_count": 9,
   "metadata": {},
   "outputs": [
    {
     "data": {
      "text/plain": [
       "['YOUR_PATH\\\\data\\\\full_year_pickles_v3\\\\full_year_commonlams_2016_CarCount.pkl',\n",
       " 'YOUR_PATH\\\\data\\\\full_year_pickles_v3\\\\full_year_commonlams_2017_CarCount.pkl',\n",
       " 'YOUR_PATH\\\\data\\\\full_year_pickles_v3\\\\full_year_commonlams_2020_CarCount.pkl',\n",
       " 'YOUR_PATH\\\\data\\\\full_year_pickles_v3\\\\full_year_commonlams_2021_CarCount.pkl']"
      ]
     },
     "execution_count": 9,
     "metadata": {},
     "output_type": "execute_result"
    }
   ],
   "source": [
    "with_common = list(filter(lambda path: \"common\" in path, dr.read_directories(Paths.full_year_pickle_path_v3).full_file_paths))\n",
    "with_common"
   ]
  },
  {
   "cell_type": "code",
   "execution_count": 10,
   "metadata": {},
   "outputs": [],
   "source": [
    "def create_means_from_monday(path, year):\n",
    "  full_year = dr.read_pickle(path)\n",
    "  means = mm.create_means_from_monday(1, 2, year, 3, full_year, \"CarCount\")\n",
    "  means.to_pickle(f\"{Paths.mean_pickles_v2}\\\\means_commonlams_{year}_from_1st_monday_february_3_weeks.pkl\")"
   ]
  },
  {
   "cell_type": "code",
   "execution_count": 11,
   "metadata": {},
   "outputs": [
    {
     "name": "stdout",
     "output_type": "stream",
     "text": [
      "[32, 33, 34, 35, 36, 37, 38]\n",
      "[39, 40, 41, 42, 43, 44, 45]\n",
      "[46, 47, 48, 49, 50, 51, 52]\n",
      "[37, 38, 39, 40, 41, 42, 43]\n",
      "[44, 45, 46, 47, 48, 49, 50]\n",
      "[51, 52, 53, 54, 55, 56, 57]\n",
      "[34, 35, 36, 37, 38, 39, 40]\n",
      "[41, 42, 43, 44, 45, 46, 47]\n",
      "[48, 49, 50, 51, 52, 53, 54]\n",
      "[32, 33, 34, 35, 36, 37, 38]\n",
      "[39, 40, 41, 42, 43, 44, 45]\n",
      "[46, 47, 48, 49, 50, 51, 52]\n"
     ]
    }
   ],
   "source": [
    "years = [2016,2017,2020,2021]\n",
    "\n",
    "for i in range(len(with_common)):\n",
    "  create_means_from_monday(with_common[i], years[i])"
   ]
  },
  {
   "cell_type": "code",
   "execution_count": 12,
   "metadata": {},
   "outputs": [],
   "source": [
    "means_commonlams = list(filter(lambda path: \"common\" in path, dr.read_directories(Paths.mean_pickles_v2).full_file_paths))"
   ]
  },
  {
   "cell_type": "code",
   "execution_count": 21,
   "metadata": {},
   "outputs": [],
   "source": [
    "means_2016 = pd.read_pickle(means_commonlams[0])\n",
    "means_2017 = pd.read_pickle(means_commonlams[1])"
   ]
  },
  {
   "cell_type": "code",
   "execution_count": 22,
   "metadata": {},
   "outputs": [
    {
     "data": {
      "text/html": [
       "<div>\n",
       "<style scoped>\n",
       "    .dataframe tbody tr th:only-of-type {\n",
       "        vertical-align: middle;\n",
       "    }\n",
       "\n",
       "    .dataframe tbody tr th {\n",
       "        vertical-align: top;\n",
       "    }\n",
       "\n",
       "    .dataframe thead th {\n",
       "        text-align: right;\n",
       "    }\n",
       "</style>\n",
       "<table border=\"1\" class=\"dataframe\">\n",
       "  <thead>\n",
       "    <tr style=\"text-align: right;\">\n",
       "      <th></th>\n",
       "      <th>lamId</th>\n",
       "      <th>year</th>\n",
       "      <th>startDay</th>\n",
       "      <th>weeksInMean</th>\n",
       "      <th>direction</th>\n",
       "      <th>CarCount</th>\n",
       "    </tr>\n",
       "  </thead>\n",
       "  <tbody>\n",
       "    <tr>\n",
       "      <th>518</th>\n",
       "      <td>1005</td>\n",
       "      <td>2016</td>\n",
       "      <td>32</td>\n",
       "      <td>3</td>\n",
       "      <td>1</td>\n",
       "      <td>[0.3333333333333333, 0.0, 0.0, 0.0, 0.33333333...</td>\n",
       "    </tr>\n",
       "    <tr>\n",
       "      <th>519</th>\n",
       "      <td>1005</td>\n",
       "      <td>2016</td>\n",
       "      <td>32</td>\n",
       "      <td>3</td>\n",
       "      <td>2</td>\n",
       "      <td>[0.0, 0.0, 0.0, 0.0, 0.0, 0.0, 0.3333333333333...</td>\n",
       "    </tr>\n",
       "  </tbody>\n",
       "</table>\n",
       "</div>"
      ],
      "text/plain": [
       "     lamId  year  startDay  weeksInMean  direction  \\\n",
       "518   1005  2016        32            3          1   \n",
       "519   1005  2016        32            3          2   \n",
       "\n",
       "                                              CarCount  \n",
       "518  [0.3333333333333333, 0.0, 0.0, 0.0, 0.33333333...  \n",
       "519  [0.0, 0.0, 0.0, 0.0, 0.0, 0.0, 0.3333333333333...  "
      ]
     },
     "execution_count": 22,
     "metadata": {},
     "output_type": "execute_result"
    }
   ],
   "source": [
    "lam102_2016 = means_2016[means_2016[\"lamId\"]== 1005]\n",
    "lam102_2016"
   ]
  },
  {
   "cell_type": "code",
   "execution_count": 23,
   "metadata": {},
   "outputs": [
    {
     "data": {
      "text/plain": [
       "[<matplotlib.lines.Line2D at 0x1f918818be0>]"
      ]
     },
     "execution_count": 23,
     "metadata": {},
     "output_type": "execute_result"
    },
    {
     "data": {
      "image/png": "[encoded data removed]",
      "text/plain": [
       "<Figure size 432x288 with 1 Axes>"
      ]
     },
     "metadata": {
      "needs_background": "light"
     },
     "output_type": "display_data"
    }
   ],
   "source": [
    "plt.plot(lam102_2016.iloc[0][\"CarCount\"])"
   ]
  },
  {
   "cell_type": "code",
   "execution_count": 24,
   "metadata": {},
   "outputs": [],
   "source": [
    "lam102_means_2017 = means_2017[means_2017[\"lamId\"]== 1005]"
   ]
  },
  {
   "cell_type": "code",
   "execution_count": 26,
   "metadata": {},
   "outputs": [
    {
     "data": {
      "text/plain": [
       "[<matplotlib.lines.Line2D at 0x1f91c7fd220>]"
      ]
     },
     "execution_count": 26,
     "metadata": {},
     "output_type": "execute_result"
    },
    {
     "data": {
      "image/png": "[encoded data removed]",
      "text/plain": [
       "<Figure size 432x288 with 1 Axes>"
      ]
     },
     "metadata": {
      "needs_background": "light"
     },
     "output_type": "display_data"
    }
   ],
   "source": [
    "plt.plot(lam102_means_2017[\"CarCount\"].values[0])"
   ]
  },
  {
   "cell_type": "code",
   "execution_count": 27,
   "metadata": {},
   "outputs": [
    {
     "data": {
      "text/plain": [
       "592    [0.6666666666666666, 0.6666666666666666, 0.333...\n",
       "593    [0.0, 0.3333333333333333, 0.0, 0.0, 0.0, 0.0, ...\n",
       "Name: CarCount, dtype: object"
      ]
     },
     "execution_count": 27,
     "metadata": {},
     "output_type": "execute_result"
    }
   ],
   "source": [
    "lam102_means_2017[\"CarCount\"]"
   ]
  },
  {
   "cell_type": "code",
   "execution_count": null,
   "metadata": {},
   "outputs": [],
   "source": []
  },
  {
   "cell_type": "code",
   "execution_count": null,
   "metadata": {},
   "outputs": [],
   "source": []
  }
 ],
 "metadata": {
  "interpreter": {
   "hash": "49a81c4efa39f239a8cc65dcaf382d798311325939ac259be27f4efc1eb936dd"
  },
  "kernelspec": {
   "display_name": "Python 3.9.7 ('gradu')",
   "language": "python",
   "name": "python3"
  },
  "language_info": {
   "codemirror_mode": {
    "name": "ipython",
    "version": 3
   },
   "file_extension": ".py",
   "mimetype": "text/x-python",
   "name": "python",
   "nbconvert_exporter": "python",
   "pygments_lexer": "ipython3",
   "version": "3.9.7"
  },
  "orig_nbformat": 4
 },
 "nbformat": 4,
 "nbformat_minor": 2
}
