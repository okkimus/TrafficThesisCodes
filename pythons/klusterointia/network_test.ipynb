{
 "cells": [
  {
   "cell_type": "code",
   "execution_count": 1,
   "metadata": {},
   "outputs": [],
   "source": [
    "import networkx as nx\n",
    "import numpy as np\n",
    "import pylab as plt\n",
    "import MeanMaker\n",
    "import DatasetReader\n",
    "from DataPaths import Paths\n"
   ]
  },
  {
   "cell_type": "code",
   "execution_count": 2,
   "metadata": {},
   "outputs": [],
   "source": [
    "mm = MeanMaker.MeanMaker()\n",
    "dr = DatasetReader.DatasetReader()"
   ]
  },
  {
   "cell_type": "code",
   "execution_count": 3,
   "metadata": {},
   "outputs": [
    {
     "data": {
      "text/plain": [
       "Directories: ['testfolder']\n",
       "Files: ['full_year_2016_CarCount.pkl', 'full_year_2017_CarCount.pkl', 'full_year_2020_CarCount.pkl', 'full_year_2021_CarCount.pkl']\n",
       "Full file paths: ['YOUR_PATH\\\\data\\\\full_year_pickles\\\\full_year_2016_CarCount.pkl', 'YOUR_PATH\\\\data\\\\full_year_pickles\\\\full_year_2017_CarCount.pkl', 'YOUR_PATH\\\\data\\\\full_year_pickles\\\\full_year_2020_CarCount.pkl', 'YOUR_PATH\\\\data\\\\full_year_pickles\\\\full_year_2021_CarCount.pkl']"
      ]
     },
     "execution_count": 3,
     "metadata": {},
     "output_type": "execute_result"
    }
   ],
   "source": [
    "full_year_contents = dr.read_directories(Paths.full_year_pickle_path)\n",
    "full_year_contents"
   ]
  },
  {
   "cell_type": "code",
   "execution_count": 4,
   "metadata": {},
   "outputs": [
    {
     "name": "stdout",
     "output_type": "stream",
     "text": [
      "[34, 35, 36, 37, 38, 39, 40]\n",
      "[41, 42, 43, 44, 45, 46, 47]\n"
     ]
    }
   ],
   "source": [
    "year = 2020\n",
    "means_df = mm.create_means_from_monday(1, 2, year, 2, dr.read_pickle(\"YOUR_PATH\\\\data\\\\full_year_pickles\\\\full_year_2020_CarCount.pkl\"), \"CarCount\")\n"
   ]
  },
  {
   "cell_type": "code",
   "execution_count": 5,
   "metadata": {},
   "outputs": [
    {
     "name": "stderr",
     "output_type": "stream",
     "text": [
      "C:\\Users\\Mikko\\anaconda3\\envs\\gradu\\lib\\site-packages\\tslearn\\bases\\bases.py:15: UserWarning: h5py not installed, hdf5 features will not be supported.\n",
      "Install h5py to use hdf5 features: http://docs.h5py.org/\n",
      "  warn(h5py_msg)\n"
     ]
    }
   ],
   "source": [
    "from tslearn.metrics import dtw\n",
    "from tslearn.metrics import cdist_dtw\n",
    "from tslearn.utils import to_time_series_dataset\n",
    "from tslearn.preprocessing import TimeSeriesScalerMeanVariance\n",
    "import numpy as np"
   ]
  },
  {
   "cell_type": "code",
   "execution_count": 6,
   "metadata": {},
   "outputs": [],
   "source": [
    "row_count = means_df.shape[0]\n",
    "distance_matrix = np.zeros((row_count, row_count))\n",
    "data = to_time_series_dataset(means_df[\"CarCount\"])"
   ]
  },
  {
   "cell_type": "code",
   "execution_count": 7,
   "metadata": {},
   "outputs": [],
   "source": [
    "scaled_data = TimeSeriesScalerMeanVariance().fit_transform(data)"
   ]
  },
  {
   "cell_type": "code",
   "execution_count": null,
   "metadata": {},
   "outputs": [],
   "source": []
  },
  {
   "cell_type": "code",
   "execution_count": 8,
   "metadata": {},
   "outputs": [
    {
     "name": "stderr",
     "output_type": "stream",
     "text": [
      "[Parallel(n_jobs=6)]: Using backend ThreadingBackend with 6 concurrent workers.\n",
      "[Parallel(n_jobs=6)]: Done  38 tasks      | elapsed:    1.1s\n",
      "[Parallel(n_jobs=6)]: Done 188 tasks      | elapsed:    2.7s\n",
      "[Parallel(n_jobs=6)]: Done 438 tasks      | elapsed:    5.4s\n",
      "[Parallel(n_jobs=6)]: Done 788 tasks      | elapsed:    9.1s\n",
      "[Parallel(n_jobs=6)]: Done 1238 tasks      | elapsed:   13.9s\n",
      "[Parallel(n_jobs=6)]: Done 1788 tasks      | elapsed:   19.7s\n",
      "[Parallel(n_jobs=6)]: Done 2438 tasks      | elapsed:   26.8s\n",
      "[Parallel(n_jobs=6)]: Done 3188 tasks      | elapsed:   35.1s\n",
      "[Parallel(n_jobs=6)]: Done 4038 tasks      | elapsed:   44.0s\n",
      "[Parallel(n_jobs=6)]: Done 4988 tasks      | elapsed:   54.1s\n",
      "[Parallel(n_jobs=6)]: Done 6038 tasks      | elapsed:  1.1min\n",
      "[Parallel(n_jobs=6)]: Done 7188 tasks      | elapsed:  1.3min\n",
      "[Parallel(n_jobs=6)]: Done 8438 tasks      | elapsed:  1.5min\n",
      "[Parallel(n_jobs=6)]: Done 9788 tasks      | elapsed:  1.7min\n",
      "[Parallel(n_jobs=6)]: Done 11238 tasks      | elapsed:  2.0min\n",
      "[Parallel(n_jobs=6)]: Done 12788 tasks      | elapsed:  2.2min\n",
      "[Parallel(n_jobs=6)]: Done 14438 tasks      | elapsed:  2.5min\n",
      "[Parallel(n_jobs=6)]: Done 16188 tasks      | elapsed:  2.8min\n",
      "[Parallel(n_jobs=6)]: Done 18038 tasks      | elapsed:  3.2min\n",
      "[Parallel(n_jobs=6)]: Done 19988 tasks      | elapsed:  3.5min\n",
      "[Parallel(n_jobs=6)]: Done 22038 tasks      | elapsed:  3.9min\n",
      "[Parallel(n_jobs=6)]: Done 24188 tasks      | elapsed:  4.2min\n",
      "[Parallel(n_jobs=6)]: Done 26438 tasks      | elapsed:  4.6min\n",
      "[Parallel(n_jobs=6)]: Done 28788 tasks      | elapsed:  5.0min\n",
      "[Parallel(n_jobs=6)]: Done 31238 tasks      | elapsed:  5.4min\n",
      "[Parallel(n_jobs=6)]: Done 33788 tasks      | elapsed:  5.8min\n",
      "[Parallel(n_jobs=6)]: Done 36438 tasks      | elapsed:  6.2min\n",
      "[Parallel(n_jobs=6)]: Done 39188 tasks      | elapsed:  6.6min\n",
      "[Parallel(n_jobs=6)]: Done 42038 tasks      | elapsed:  7.1min\n",
      "[Parallel(n_jobs=6)]: Done 44988 tasks      | elapsed:  7.6min\n",
      "[Parallel(n_jobs=6)]: Done 48038 tasks      | elapsed:  8.1min\n",
      "[Parallel(n_jobs=6)]: Done 51188 tasks      | elapsed:  8.6min\n",
      "[Parallel(n_jobs=6)]: Done 54438 tasks      | elapsed:  9.1min\n",
      "[Parallel(n_jobs=6)]: Done 57788 tasks      | elapsed:  9.7min\n",
      "[Parallel(n_jobs=6)]: Done 61238 tasks      | elapsed: 10.2min\n",
      "[Parallel(n_jobs=6)]: Done 64788 tasks      | elapsed: 10.8min\n",
      "[Parallel(n_jobs=6)]: Done 68438 tasks      | elapsed: 11.4min\n",
      "[Parallel(n_jobs=6)]: Done 72188 tasks      | elapsed: 12.0min\n",
      "[Parallel(n_jobs=6)]: Done 76038 tasks      | elapsed: 12.6min\n",
      "[Parallel(n_jobs=6)]: Done 79988 tasks      | elapsed: 13.3min\n",
      "[Parallel(n_jobs=6)]: Done 84038 tasks      | elapsed: 13.9min\n",
      "[Parallel(n_jobs=6)]: Done 88188 tasks      | elapsed: 14.6min\n",
      "[Parallel(n_jobs=6)]: Done 92438 tasks      | elapsed: 15.3min\n",
      "[Parallel(n_jobs=6)]: Done 96788 tasks      | elapsed: 16.0min\n",
      "[Parallel(n_jobs=6)]: Done 101238 tasks      | elapsed: 16.7min\n",
      "[Parallel(n_jobs=6)]: Done 105788 tasks      | elapsed: 17.4min\n",
      "[Parallel(n_jobs=6)]: Done 110438 tasks      | elapsed: 18.2min\n",
      "[Parallel(n_jobs=6)]: Done 115188 tasks      | elapsed: 18.9min\n",
      "[Parallel(n_jobs=6)]: Done 120038 tasks      | elapsed: 19.7min\n",
      "[Parallel(n_jobs=6)]: Done 124988 tasks      | elapsed: 20.5min\n",
      "[Parallel(n_jobs=6)]: Done 130038 tasks      | elapsed: 21.3min\n",
      "[Parallel(n_jobs=6)]: Done 135188 tasks      | elapsed: 22.2min\n",
      "[Parallel(n_jobs=6)]: Done 140438 tasks      | elapsed: 23.0min\n",
      "[Parallel(n_jobs=6)]: Done 145788 tasks      | elapsed: 23.9min\n",
      "[Parallel(n_jobs=6)]: Done 151238 tasks      | elapsed: 24.8min\n",
      "[Parallel(n_jobs=6)]: Done 156788 tasks      | elapsed: 25.7min\n",
      "[Parallel(n_jobs=6)]: Done 162438 tasks      | elapsed: 26.6min\n",
      "[Parallel(n_jobs=6)]: Done 168188 tasks      | elapsed: 27.5min\n",
      "[Parallel(n_jobs=6)]: Done 174038 tasks      | elapsed: 28.5min\n",
      "[Parallel(n_jobs=6)]: Done 179988 tasks      | elapsed: 29.4min\n",
      "[Parallel(n_jobs=6)]: Done 186038 tasks      | elapsed: 30.4min\n",
      "[Parallel(n_jobs=6)]: Done 192188 tasks      | elapsed: 31.4min\n",
      "[Parallel(n_jobs=6)]: Done 198438 tasks      | elapsed: 32.4min\n",
      "[Parallel(n_jobs=6)]: Done 204788 tasks      | elapsed: 33.4min\n",
      "[Parallel(n_jobs=6)]: Done 211238 tasks      | elapsed: 34.4min\n",
      "[Parallel(n_jobs=6)]: Done 217788 tasks      | elapsed: 35.5min\n",
      "[Parallel(n_jobs=6)]: Done 224438 tasks      | elapsed: 36.6min\n",
      "[Parallel(n_jobs=6)]: Done 231188 tasks      | elapsed: 37.7min\n",
      "[Parallel(n_jobs=6)]: Done 238038 tasks      | elapsed: 38.8min\n",
      "[Parallel(n_jobs=6)]: Done 244988 tasks      | elapsed: 40.0min\n",
      "[Parallel(n_jobs=6)]: Done 252038 tasks      | elapsed: 41.2min\n",
      "[Parallel(n_jobs=6)]: Done 259188 tasks      | elapsed: 42.5min\n",
      "[Parallel(n_jobs=6)]: Done 266438 tasks      | elapsed: 43.7min\n",
      "[Parallel(n_jobs=6)]: Done 273788 tasks      | elapsed: 44.9min\n",
      "[Parallel(n_jobs=6)]: Done 281238 tasks      | elapsed: 46.2min\n",
      "[Parallel(n_jobs=6)]: Done 288788 tasks      | elapsed: 47.5min\n",
      "[Parallel(n_jobs=6)]: Done 296438 tasks      | elapsed: 48.8min\n",
      "[Parallel(n_jobs=6)]: Done 304188 tasks      | elapsed: 50.2min\n",
      "[Parallel(n_jobs=6)]: Done 312038 tasks      | elapsed: 51.5min\n",
      "[Parallel(n_jobs=6)]: Done 319988 tasks      | elapsed: 52.8min\n",
      "[Parallel(n_jobs=6)]: Done 328038 tasks      | elapsed: 54.2min\n",
      "[Parallel(n_jobs=6)]: Done 336188 tasks      | elapsed: 55.6min\n",
      "[Parallel(n_jobs=6)]: Done 344438 tasks      | elapsed: 57.0min\n",
      "[Parallel(n_jobs=6)]: Done 345696 out of 345696 | elapsed: 57.2min finished\n"
     ]
    }
   ],
   "source": [
    "dtw_dm = cdist_dtw(scaled_data, n_jobs=6, verbose=1)"
   ]
  },
  {
   "cell_type": "code",
   "execution_count": 10,
   "metadata": {},
   "outputs": [
    {
     "data": {
      "text/plain": [
       "array([[  5.19592634, -15.25211462],\n",
       "       [  4.08989807, -10.92953501],\n",
       "       [-17.96414018,  -4.03249701],\n",
       "       ...,\n",
       "       [  5.08923109, -10.22383714],\n",
       "       [ -0.41220696, -14.54882043],\n",
       "       [  2.41920624, -12.4966181 ]])"
      ]
     },
     "execution_count": 10,
     "metadata": {},
     "output_type": "execute_result"
    }
   ],
   "source": [
    "from sklearn.manifold import MDS"
   ]
  },
  {
   "cell_type": "code",
   "execution_count": 9,
   "metadata": {},
   "outputs": [
    {
     "ename": "ValueError",
     "evalue": "array must be 2-dimensional and square. shape = (832, 2)",
     "output_type": "error",
     "traceback": [
      "\u001b[1;31m---------------------------------------------------------------------------\u001b[0m",
      "\u001b[1;31mValueError\u001b[0m                                Traceback (most recent call last)",
      "\u001b[1;32m~\\AppData\\Local\\Temp/ipykernel_71676/646277284.py\u001b[0m in \u001b[0;36m<module>\u001b[1;34m\u001b[0m\n\u001b[0;32m      1\u001b[0m \u001b[0mdtw_dm\u001b[0m \u001b[1;33m=\u001b[0m \u001b[0mnp\u001b[0m\u001b[1;33m.\u001b[0m\u001b[0mload\u001b[0m\u001b[1;33m(\u001b[0m\u001b[1;34m\"distance_matrix_from_scaled_2020.npy\"\u001b[0m\u001b[1;33m)\u001b[0m\u001b[1;33m\u001b[0m\u001b[1;33m\u001b[0m\u001b[0m\n\u001b[0;32m      2\u001b[0m \u001b[0membedding\u001b[0m \u001b[1;33m=\u001b[0m \u001b[0mMDS\u001b[0m\u001b[1;33m(\u001b[0m\u001b[0mn_components\u001b[0m\u001b[1;33m=\u001b[0m\u001b[1;36m2\u001b[0m\u001b[1;33m,\u001b[0m \u001b[0mdissimilarity\u001b[0m\u001b[1;33m=\u001b[0m\u001b[1;34m\"precomputed\"\u001b[0m\u001b[1;33m)\u001b[0m\u001b[1;33m\u001b[0m\u001b[1;33m\u001b[0m\u001b[0m\n\u001b[1;32m----> 3\u001b[1;33m \u001b[0mtransformed\u001b[0m \u001b[1;33m=\u001b[0m \u001b[0membedding\u001b[0m\u001b[1;33m.\u001b[0m\u001b[0mfit_transform\u001b[0m\u001b[1;33m(\u001b[0m\u001b[0mdtw_dm\u001b[0m\u001b[1;33m)\u001b[0m\u001b[1;33m\u001b[0m\u001b[1;33m\u001b[0m\u001b[0m\n\u001b[0m",
      "\u001b[1;32m~\\anaconda3\\envs\\gradu\\lib\\site-packages\\sklearn\\manifold\\_mds.py\u001b[0m in \u001b[0;36mfit_transform\u001b[1;34m(self, X, y, init)\u001b[0m\n\u001b[0;32m    532\u001b[0m             )\n\u001b[0;32m    533\u001b[0m \u001b[1;33m\u001b[0m\u001b[0m\n\u001b[1;32m--> 534\u001b[1;33m         self.embedding_, self.stress_, self.n_iter_ = smacof(\n\u001b[0m\u001b[0;32m    535\u001b[0m             \u001b[0mself\u001b[0m\u001b[1;33m.\u001b[0m\u001b[0mdissimilarity_matrix_\u001b[0m\u001b[1;33m,\u001b[0m\u001b[1;33m\u001b[0m\u001b[1;33m\u001b[0m\u001b[0m\n\u001b[0;32m    536\u001b[0m             \u001b[0mmetric\u001b[0m\u001b[1;33m=\u001b[0m\u001b[0mself\u001b[0m\u001b[1;33m.\u001b[0m\u001b[0mmetric\u001b[0m\u001b[1;33m,\u001b[0m\u001b[1;33m\u001b[0m\u001b[1;33m\u001b[0m\u001b[0m\n",
      "\u001b[1;32m~\\anaconda3\\envs\\gradu\\lib\\site-packages\\sklearn\\manifold\\_mds.py\u001b[0m in \u001b[0;36msmacof\u001b[1;34m(dissimilarities, metric, n_components, init, n_init, n_jobs, max_iter, verbose, eps, random_state, return_n_iter)\u001b[0m\n\u001b[0;32m    267\u001b[0m     \u001b[1;32mif\u001b[0m \u001b[0meffective_n_jobs\u001b[0m\u001b[1;33m(\u001b[0m\u001b[0mn_jobs\u001b[0m\u001b[1;33m)\u001b[0m \u001b[1;33m==\u001b[0m \u001b[1;36m1\u001b[0m\u001b[1;33m:\u001b[0m\u001b[1;33m\u001b[0m\u001b[1;33m\u001b[0m\u001b[0m\n\u001b[0;32m    268\u001b[0m         \u001b[1;32mfor\u001b[0m \u001b[0mit\u001b[0m \u001b[1;32min\u001b[0m \u001b[0mrange\u001b[0m\u001b[1;33m(\u001b[0m\u001b[0mn_init\u001b[0m\u001b[1;33m)\u001b[0m\u001b[1;33m:\u001b[0m\u001b[1;33m\u001b[0m\u001b[1;33m\u001b[0m\u001b[0m\n\u001b[1;32m--> 269\u001b[1;33m             pos, stress, n_iter_ = _smacof_single(\n\u001b[0m\u001b[0;32m    270\u001b[0m                 \u001b[0mdissimilarities\u001b[0m\u001b[1;33m,\u001b[0m\u001b[1;33m\u001b[0m\u001b[1;33m\u001b[0m\u001b[0m\n\u001b[0;32m    271\u001b[0m                 \u001b[0mmetric\u001b[0m\u001b[1;33m=\u001b[0m\u001b[0mmetric\u001b[0m\u001b[1;33m,\u001b[0m\u001b[1;33m\u001b[0m\u001b[1;33m\u001b[0m\u001b[0m\n",
      "\u001b[1;32m~\\anaconda3\\envs\\gradu\\lib\\site-packages\\sklearn\\manifold\\_mds.py\u001b[0m in \u001b[0;36m_smacof_single\u001b[1;34m(dissimilarities, metric, n_components, init, max_iter, verbose, eps, random_state)\u001b[0m\n\u001b[0;32m     76\u001b[0m         \u001b[0mThe\u001b[0m \u001b[0mnumber\u001b[0m \u001b[0mof\u001b[0m \u001b[0miterations\u001b[0m \u001b[0mcorresponding\u001b[0m \u001b[0mto\u001b[0m \u001b[0mthe\u001b[0m \u001b[0mbest\u001b[0m \u001b[0mstress\u001b[0m\u001b[1;33m.\u001b[0m\u001b[1;33m\u001b[0m\u001b[1;33m\u001b[0m\u001b[0m\n\u001b[0;32m     77\u001b[0m     \"\"\"\n\u001b[1;32m---> 78\u001b[1;33m     \u001b[0mdissimilarities\u001b[0m \u001b[1;33m=\u001b[0m \u001b[0mcheck_symmetric\u001b[0m\u001b[1;33m(\u001b[0m\u001b[0mdissimilarities\u001b[0m\u001b[1;33m,\u001b[0m \u001b[0mraise_exception\u001b[0m\u001b[1;33m=\u001b[0m\u001b[1;32mTrue\u001b[0m\u001b[1;33m)\u001b[0m\u001b[1;33m\u001b[0m\u001b[1;33m\u001b[0m\u001b[0m\n\u001b[0m\u001b[0;32m     79\u001b[0m \u001b[1;33m\u001b[0m\u001b[0m\n\u001b[0;32m     80\u001b[0m     \u001b[0mn_samples\u001b[0m \u001b[1;33m=\u001b[0m \u001b[0mdissimilarities\u001b[0m\u001b[1;33m.\u001b[0m\u001b[0mshape\u001b[0m\u001b[1;33m[\u001b[0m\u001b[1;36m0\u001b[0m\u001b[1;33m]\u001b[0m\u001b[1;33m\u001b[0m\u001b[1;33m\u001b[0m\u001b[0m\n",
      "\u001b[1;32m~\\anaconda3\\envs\\gradu\\lib\\site-packages\\sklearn\\utils\\validation.py\u001b[0m in \u001b[0;36mcheck_symmetric\u001b[1;34m(array, tol, raise_warning, raise_exception)\u001b[0m\n\u001b[0;32m   1107\u001b[0m     \"\"\"\n\u001b[0;32m   1108\u001b[0m     \u001b[1;32mif\u001b[0m \u001b[1;33m(\u001b[0m\u001b[0marray\u001b[0m\u001b[1;33m.\u001b[0m\u001b[0mndim\u001b[0m \u001b[1;33m!=\u001b[0m \u001b[1;36m2\u001b[0m\u001b[1;33m)\u001b[0m \u001b[1;32mor\u001b[0m \u001b[1;33m(\u001b[0m\u001b[0marray\u001b[0m\u001b[1;33m.\u001b[0m\u001b[0mshape\u001b[0m\u001b[1;33m[\u001b[0m\u001b[1;36m0\u001b[0m\u001b[1;33m]\u001b[0m \u001b[1;33m!=\u001b[0m \u001b[0marray\u001b[0m\u001b[1;33m.\u001b[0m\u001b[0mshape\u001b[0m\u001b[1;33m[\u001b[0m\u001b[1;36m1\u001b[0m\u001b[1;33m]\u001b[0m\u001b[1;33m)\u001b[0m\u001b[1;33m:\u001b[0m\u001b[1;33m\u001b[0m\u001b[1;33m\u001b[0m\u001b[0m\n\u001b[1;32m-> 1109\u001b[1;33m         raise ValueError(\n\u001b[0m\u001b[0;32m   1110\u001b[0m             \u001b[1;34m\"array must be 2-dimensional and square. shape = {0}\"\u001b[0m\u001b[1;33m.\u001b[0m\u001b[0mformat\u001b[0m\u001b[1;33m(\u001b[0m\u001b[0marray\u001b[0m\u001b[1;33m.\u001b[0m\u001b[0mshape\u001b[0m\u001b[1;33m)\u001b[0m\u001b[1;33m\u001b[0m\u001b[1;33m\u001b[0m\u001b[0m\n\u001b[0;32m   1111\u001b[0m         )\n",
      "\u001b[1;31mValueError\u001b[0m: array must be 2-dimensional and square. shape = (832, 2)"
     ]
    }
   ],
   "source": [
    "embedding = MDS(n_components=2, dissimilarity=\"precomputed\")\n",
    "transformed = embedding.fit_transform(dtw_dm)"
   ]
  },
  {
   "cell_type": "code",
   "execution_count": 11,
   "metadata": {},
   "outputs": [
    {
     "data": {
      "text/plain": [
       "<matplotlib.collections.PathCollection at 0x1fdc644d310>"
      ]
     },
     "execution_count": 11,
     "metadata": {},
     "output_type": "execute_result"
    },
    {
     "data": {
      "image/png": "[encoded data removed]",
      "text/plain": [
       "<Figure size 432x288 with 1 Axes>"
      ]
     },
     "metadata": {
      "needs_background": "light"
     },
     "output_type": "display_data"
    }
   ],
   "source": [
    "plt.scatter(transformed[:,0], transformed[:,1])"
   ]
  },
  {
   "cell_type": "code",
   "execution_count": 12,
   "metadata": {},
   "outputs": [
    {
     "data": {
      "text/plain": [
       "array([ 5.19592634e+00,  4.08989807e+00, -1.79641402e+01, -1.58132593e+01,\n",
       "       -1.71498915e+01, -1.26263400e+01, -1.59094248e+01, -1.52116463e+01,\n",
       "        4.12732171e+00,  1.41547608e+00, -1.53888022e+01, -1.31296772e+01,\n",
       "       -1.87291061e+01, -1.97301806e+01, -1.84715066e+01, -1.36721754e+01,\n",
       "       -1.22683204e+01, -1.17378672e+01, -1.41505102e+01, -1.14181944e+01,\n",
       "       -1.16479278e+01, -1.47363041e+01, -1.31120536e+01, -1.56777469e+01,\n",
       "       -1.65040521e+01, -1.80694586e+01, -6.36212451e+00, -9.69250143e+00,\n",
       "        1.56462012e+01,  1.53791924e+01,  8.20307847e-01,  3.50388305e-02,\n",
       "       -1.55626280e+01, -1.41952297e+01, -1.03363509e+01, -1.30331927e+01,\n",
       "       -1.61037437e+01, -1.31805744e+01, -8.39819019e+00, -4.88114519e+00,\n",
       "        1.32279994e+01,  1.27308276e+01, -1.24931449e+01, -1.44163347e+01,\n",
       "        9.62705018e+00,  3.78836283e+00,  1.30278276e+01,  1.08812116e+01,\n",
       "       -1.17489555e+01, -1.23290955e+01, -1.53461783e+01, -1.77045810e+01,\n",
       "       -1.42822216e+01, -1.67965549e+01, -1.68168947e+01, -1.46756124e+01,\n",
       "       -3.06624346e+00, -9.46667726e+00,  1.24698863e+01, -1.80599354e+00,\n",
       "       -6.74341175e+00, -2.31249991e+00,  6.17198833e+00,  5.99825967e+00,\n",
       "       -9.46805940e+00, -8.38275119e+00, -1.09166166e+01, -1.24321398e+01,\n",
       "        1.40716220e+01,  1.09723136e+01, -1.34030494e+01, -1.40916735e+01,\n",
       "        3.41693396e+00,  4.90676789e+00,  7.38875518e+00,  3.12840789e+00,\n",
       "       -1.38735703e+01, -1.44148875e+01,  8.54814910e+00,  8.85124206e+00,\n",
       "        1.25646793e+01,  2.35663353e+00,  1.50593037e+01,  1.52963355e+01,\n",
       "        1.65535836e+01,  1.43252015e+01, -1.96033617e+01, -1.71227255e+01,\n",
       "        1.62577543e+01,  1.56231896e+01, -1.66838601e+01, -1.95092515e+01,\n",
       "       -1.83692967e+01, -1.94501046e+01, -1.16829355e+01, -1.11411925e+01,\n",
       "       -8.33861816e+00, -4.55727273e+00, -3.46360890e+00, -1.59004087e+00,\n",
       "       -1.27948812e+01, -1.11440261e+01, -1.24725626e+01, -1.17692227e+01,\n",
       "       -1.26946961e+01, -1.38606914e+01, -1.24186911e+01, -1.39769384e+01,\n",
       "       -1.03088348e+01, -1.17166838e+01, -1.12869288e+01, -1.19936366e+01,\n",
       "       -1.65411243e+01, -1.35231484e+01, -5.70276353e+00, -4.43359905e+00,\n",
       "       -1.26140382e+01, -1.68668837e+01, -1.74023370e+01, -1.88097590e+01,\n",
       "       -1.89745750e+01, -1.15506267e+01, -1.85127981e+01, -1.66044896e+01,\n",
       "       -6.93830184e+00, -1.02711514e+01,  6.05114915e+00, -3.47314730e+00,\n",
       "       -1.24466604e+01, -1.70817987e+01, -1.27246530e+01, -1.18441907e+01,\n",
       "       -1.09126095e+01, -1.07398197e+01, -1.04188639e+01, -9.87639243e+00,\n",
       "       -1.78216475e+01, -1.57150714e+01, -1.30392525e+01, -1.33509731e+01,\n",
       "       -1.29079003e+01, -1.04638854e+01, -1.38265309e+01, -1.77998537e+01,\n",
       "       -1.25460553e+01, -1.39888077e+01, -1.45254146e+01, -1.40656962e+01,\n",
       "       -1.61225633e+01, -1.70925592e+01, -1.48484938e+01, -1.44215907e+01,\n",
       "       -1.15974550e+01, -1.27371253e+01, -7.92867416e+00, -1.18996976e+01,\n",
       "       -2.52080502e+00,  4.62258202e-01, -1.92780526e+01, -1.95850498e+01,\n",
       "       -1.77234947e+01, -1.72450817e+01,  8.72163662e-01,  7.02101215e-01,\n",
       "        1.93119627e+00,  3.41722403e+00,  4.45068114e+00,  3.98720431e+00,\n",
       "        9.55524437e+00,  3.70312129e+00,  1.05034149e+01,  2.95335119e+00,\n",
       "        1.12973091e+01,  2.89616287e+00, -1.01776856e+01, -1.26517923e+01,\n",
       "       -1.61134360e+01, -1.92842996e+01, -1.45311543e+01, -1.83274661e+01,\n",
       "       -4.25947537e+00, -6.22061324e+00, -1.41649830e+01, -1.18309287e+01,\n",
       "        8.21271303e+00,  1.27186849e+01,  1.04242275e+01,  1.24955576e+01,\n",
       "       -1.07788389e+01, -1.40428360e+01, -3.74219665e+00, -5.05510279e+00,\n",
       "       -4.65835801e+00,  5.24270618e+00,  9.94756561e+00,  3.61011670e+00,\n",
       "        7.63742493e+00,  5.16466596e+00, -1.22582912e+01, -1.30487990e+01,\n",
       "        1.20769690e+00,  2.05784874e+00,  1.02524823e+01,  4.37189405e+00,\n",
       "        1.11674157e+01,  6.34211292e+00,  6.86709256e+00,  1.83862998e+00,\n",
       "        4.47329774e+00,  4.44968896e+00,  1.34385414e+01,  6.69896911e+00,\n",
       "        7.99294215e+00,  4.34041214e+00,  8.26632369e+00,  8.92024053e+00,\n",
       "        2.60967995e+00,  5.62301427e+00,  8.76586426e+00, -7.97817418e+00,\n",
       "        5.15902327e+00,  1.32029272e+01, -1.07556880e+01, -9.67660697e+00,\n",
       "       -8.03505588e-01,  3.37592490e+00, -2.54546530e+00,  5.05508634e-02,\n",
       "       -7.56054068e+00, -4.79829587e+00, -1.47989957e+01, -1.72688254e+01,\n",
       "       -1.65898264e+01, -1.46204875e+01, -1.40725817e+01, -1.11689572e+01,\n",
       "       -1.57409201e+01, -1.66861370e+01, -9.87499072e+00, -1.23976264e+01,\n",
       "       -3.14277928e+00, -2.88336776e+00, -7.44583056e+00, -4.97811236e+00,\n",
       "        8.56222536e-01, -2.81487834e+00,  1.80735059e+00, -7.65576863e-02,\n",
       "        2.70761596e+00, -7.19049820e-01,  3.06465895e+00,  4.80594012e+00,\n",
       "        8.33391548e+00,  4.47964038e+00, -9.86297323e+00, -1.01175502e+01,\n",
       "        6.99041884e-02,  2.86345976e+00,  7.17160508e+00,  6.06849933e+00,\n",
       "       -8.03444955e-01, -4.87679030e+00,  8.78368468e+00,  9.40299759e+00,\n",
       "       -3.31831930e+00, -8.09634323e-01,  1.10235436e+01,  9.05858952e-01,\n",
       "        9.74881100e+00, -2.82789970e-01,  9.11230096e+00, -1.66156875e+00,\n",
       "        1.54237871e+00, -2.17038457e+00, -1.41113313e+00,  2.02857390e-01,\n",
       "        3.91190942e-01, -7.86448542e-01,  2.05667757e+00, -1.40991348e+00,\n",
       "       -3.51653254e+00, -2.26389426e+00, -1.27610567e+00, -1.01148334e-01,\n",
       "       -1.77981272e+01, -1.76172791e+01,  1.38603793e+01, -1.15083392e+00,\n",
       "        7.58220639e+00,  4.02113959e+00,  9.51986678e+00,  2.48692681e+00,\n",
       "        9.73871012e+00,  2.42874476e+00,  8.92515287e+00,  5.20113084e+00,\n",
       "        1.28332528e+00,  7.02702131e+00,  1.06413446e+01,  6.86543794e-01,\n",
       "        8.16654233e+00, -2.74076007e+00, -6.05505465e+00, -6.76596372e+00,\n",
       "        9.93071002e+00,  1.43580530e+01, -7.40332023e+00, -3.42686114e+00,\n",
       "        4.39628154e+00,  3.84933614e+00,  7.26119375e-01,  6.83558488e+00,\n",
       "       -1.14247574e+01, -1.31363782e+01,  1.54780976e+01,  1.06360701e+01,\n",
       "        4.80908998e-01,  2.34774718e+00, -1.04704270e+01, -1.10423866e+01,\n",
       "        7.94612017e+00,  1.14623305e+01, -1.65987131e+01, -1.69154079e+01,\n",
       "        1.27149219e+01,  1.25848745e+01, -4.78076972e+00, -7.83999315e+00,\n",
       "       -1.43563197e+01, -1.29380959e+01, -9.62122639e+00, -1.34772025e+01,\n",
       "       -1.09129255e+01, -8.66967039e+00,  1.05119291e+01, -2.31711964e+00,\n",
       "        1.46981745e+01,  8.80641600e+00,  6.86176354e+00,  6.19653410e+00,\n",
       "        3.03995843e+00,  5.91065947e+00, -8.66886929e+00, -7.63672272e+00,\n",
       "       -2.32381878e+00,  6.19427481e-01,  9.14870489e+00,  8.56202918e+00,\n",
       "       -1.16128713e+01, -1.26682606e+01, -2.82286002e+00, -1.67888428e+00,\n",
       "       -3.55043264e+00, -5.43635787e+00, -1.41466120e+01, -1.66353695e+01,\n",
       "        8.02978831e+00,  9.17440947e+00, -1.08708549e+01, -1.39965974e+01,\n",
       "       -1.33484586e+01, -1.40597617e+01, -1.74032414e+01, -1.59700869e+01,\n",
       "       -9.04954078e+00, -4.27139580e+00, -1.36001494e+01, -1.80691861e+01,\n",
       "       -2.82476225e+00,  6.10066404e+00, -1.70046171e+01, -1.88556062e+01,\n",
       "       -1.50591629e+01, -1.77404546e+01, -1.44589938e+01,  4.20058657e+01,\n",
       "       -1.21766998e+01, -1.62776866e+01, -1.48940203e+01, -1.26595411e+01,\n",
       "       -4.88674409e+00,  3.14687698e+00,  1.16205566e+01,  2.50801280e+00,\n",
       "        5.13031199e+00,  1.28255141e+01, -8.23004574e+00, -1.12419994e+01,\n",
       "        1.97460599e+00, -1.93931275e+00,  8.35217902e+00,  9.81546612e+00,\n",
       "        7.08607095e+00,  1.83487912e+00,  3.32278149e+00,  2.99560391e+00,\n",
       "        3.66494067e+00,  8.65030030e+00,  9.14817335e+00,  6.48256735e+00,\n",
       "        3.93801234e+00,  6.96210140e+00,  4.84855202e+00,  4.59318908e+00,\n",
       "        1.21250059e+01,  9.28595498e+00,  4.82316272e+00,  5.31084621e+00,\n",
       "       -4.02520284e+00, -6.48045337e+00, -2.16082339e+00, -2.92327376e+00,\n",
       "        2.17472856e+00,  3.43410197e+00, -4.25726783e+00, -3.02636475e+00,\n",
       "       -2.69142367e+00, -2.36774454e+00, -6.07296288e+00, -7.58460362e+00,\n",
       "        7.35225050e+00,  9.94302772e+00,  2.66023016e+00,  1.20682530e+00,\n",
       "        6.04954648e+00,  6.66276300e+00, -2.27981387e+00,  4.07412868e-01,\n",
       "       -1.76481279e+00, -2.13200470e+00, -1.58024430e+00,  2.55033429e+00,\n",
       "        9.10283836e+00,  7.05329138e+00,  8.16115189e+00,  6.31136067e+00,\n",
       "       -4.17447545e+00, -3.85896529e+00,  2.15754204e+00,  4.49442080e+00,\n",
       "       -1.58318349e+01, -1.66719260e+01,  1.05565490e+01,  3.43890174e+00,\n",
       "       -5.79612888e+00, -1.21083975e+01, -1.27348935e+01, -1.28163895e+01,\n",
       "        1.06061063e+01,  3.19969743e+00,  8.65532628e+00,  3.95753726e+00,\n",
       "        5.11057498e+00,  5.90551517e+00, -3.95622681e+00, -5.67793180e+00,\n",
       "        1.74509170e-01, -1.74713676e+00,  5.49394364e+00,  7.16341679e+00,\n",
       "       -5.27732808e+00,  8.59068923e+00, -6.88480652e+00, -1.28068124e+01,\n",
       "        9.37665375e+00,  3.08795034e+00,  7.84556736e+00,  6.77071566e+00,\n",
       "        8.31991853e+00,  1.50359612e+00, -1.87335978e+00,  4.43732582e+00,\n",
       "        1.26744170e+01,  1.37869157e+01,  5.65515503e+00,  1.12244020e+01,\n",
       "        9.17345445e+00,  8.71503322e+00,  1.14056668e+01, -5.45560962e+00,\n",
       "        6.38915761e+00,  2.08933377e+01, -2.76811115e+00, -1.33890095e+00,\n",
       "        1.65826432e+01,  1.56348916e+01,  1.13369741e+01,  8.40115286e+00,\n",
       "        5.27720935e+00,  6.91844904e+00,  2.79650119e+00,  1.87418832e+00,\n",
       "        8.13078655e+00,  7.25745409e+00,  1.88689643e+00, -2.54960290e+00,\n",
       "        7.84722961e+00,  5.89121498e+00,  1.42708675e+01,  9.40474655e+00,\n",
       "        1.73519424e+01,  1.60228189e+01,  9.12280003e+00,  5.46566201e-01,\n",
       "        1.75534235e+01,  1.70119206e+01,  5.24124168e+00,  6.48415430e+00,\n",
       "        6.20205930e+00,  7.79288906e+00,  1.29193892e+00,  3.78074488e+00,\n",
       "        1.99111722e+00,  1.10204776e+00,  1.98609135e+00,  4.30765997e-02,\n",
       "        1.39680456e+00,  1.74984205e+00,  6.20679939e-01,  4.95679730e+00,\n",
       "       -1.02011403e+01,  6.94803878e+00,  3.56077747e+00,  1.29393580e+00,\n",
       "        4.80878999e+00,  9.53405609e+00,  1.09820483e+01,  5.24556459e+00,\n",
       "       -7.73309673e+00, -8.36215045e+00, -1.37531447e+01, -8.32830972e+00,\n",
       "        4.83332381e+00,  1.02828413e+01,  2.62538310e-01,  3.36258950e+00,\n",
       "       -1.38327981e+01, -1.04084386e+01,  4.71988345e+00,  4.30136430e+00,\n",
       "        9.28142106e+00,  2.11976379e+00,  1.44544021e+01,  5.27361586e+00,\n",
       "       -1.80585710e+00,  1.48316460e+00, -3.74116973e+00,  1.98643637e+00,\n",
       "        3.27877196e+00,  6.71161781e+00, -4.91981322e+00,  7.00965960e+00,\n",
       "        7.12107963e+00,  8.44432918e-01, -2.95750923e-01, -2.59634966e-01,\n",
       "        4.15934754e+00,  3.06963510e+00,  1.34229646e+01,  1.01619239e+01,\n",
       "       -1.70089533e+01, -1.58731660e+01, -1.71317370e+01, -1.79365253e+01,\n",
       "        1.07480727e+01,  5.08282555e+00, -1.54583113e+01, -1.65174823e+01,\n",
       "       -1.51544097e+01, -1.60231879e+01, -6.31685240e+00, -3.56848210e+00,\n",
       "        1.00656832e+01,  1.20503771e+00,  1.04896315e+01,  2.34319931e+00,\n",
       "       -9.24275132e-01,  7.15999167e+00, -1.18204196e+00,  5.86737544e+00,\n",
       "        2.69645567e+00,  7.93638514e+00, -1.58817999e+01, -1.63481240e+01,\n",
       "        1.38521327e+01,  5.93946468e+00,  1.13510445e+01,  7.76043531e+00,\n",
       "       -2.63659870e+00, -5.53121134e-01,  6.52305132e+00,  8.15357949e+00,\n",
       "        2.76006800e-01,  1.19614996e+01,  9.46767420e+00,  5.91885648e+00,\n",
       "       -1.00421980e+01, -1.15246479e+01,  9.26262762e+00,  8.75937099e+00,\n",
       "        7.95454066e+00,  7.72295781e+00,  8.00405858e+00,  5.24759118e+00,\n",
       "        8.90290553e+00, -3.32933897e+00, -1.48530900e+01, -1.61385695e+01,\n",
       "       -8.38915424e+00, -5.00510258e+00,  6.48282897e+00, -2.31269278e+00,\n",
       "        1.70355920e+01,  9.88038098e+00,  1.20588451e-01,  9.32890750e+00,\n",
       "       -1.70125315e+00,  1.09723571e+01,  1.12883871e+00, -2.31562135e+00,\n",
       "        1.62976140e+01,  7.48820336e+00,  4.06981133e-01,  2.17184852e+00,\n",
       "        1.48691886e+00,  4.67658613e+00, -1.75470129e+01, -1.89167752e+01,\n",
       "        9.80065468e+00,  2.30852502e+00,  6.71270548e+00,  4.68423358e-01,\n",
       "        1.22187740e+01,  4.68469538e+00,  2.74019288e+00,  2.72799487e+00,\n",
       "        1.44705996e+01,  4.56777534e+00, -2.33735481e+00,  5.24135500e+00,\n",
       "        1.41706435e+00,  3.18810501e+00,  1.51770488e+01,  2.03782345e+01,\n",
       "        9.07265994e+00,  1.21304139e+01, -1.32784307e+01, -1.35548745e+01,\n",
       "        1.15246518e+01,  7.13091155e-01,  1.32159683e+01,  8.57295540e+00,\n",
       "        1.57629080e+01,  1.10969661e+01,  1.76118012e+01,  1.94141685e+01,\n",
       "       -2.16753381e+00,  5.13210308e+01,  1.75358574e+01,  2.19770658e+01,\n",
       "        2.54487745e+00, -5.49410510e+00,  1.72727619e+01,  3.91851196e+00,\n",
       "        1.16054059e+01,  8.36992243e+00,  1.08640180e+01,  5.40911409e+00,\n",
       "       -1.36752759e+01, -1.28300977e+01, -1.85452551e+01, -1.74525966e+01,\n",
       "       -5.21860382e+00, -4.12638045e+00,  2.41343383e+00,  8.18769075e-01,\n",
       "       -1.88258119e+01, -1.76905996e+01, -1.37015570e+01, -1.56296573e+01,\n",
       "        5.93939896e+00,  3.67186579e+00,  1.88938598e+00, -2.76107099e+00,\n",
       "        1.49042549e+01,  1.10676481e+01, -1.97557262e+01, -1.58129907e+01,\n",
       "       -1.86915283e+01, -1.95133968e+01,  9.82916651e+00, -3.47860922e+00,\n",
       "        2.40571352e+01,  9.72131632e-01, -1.93505984e+00, -7.42161093e-01,\n",
       "       -1.39147066e+00,  1.16175326e+01,  7.31010848e-01,  2.97818897e+00,\n",
       "        9.90445295e+00,  4.81377851e+00,  1.01832256e+01,  6.12182828e+00,\n",
       "        1.35168840e+01,  1.59613326e+01, -5.61884229e+00, -2.38134288e+00,\n",
       "        1.85557198e+01,  1.46469935e+01,  1.22344245e+01,  1.47558106e+01,\n",
       "        1.23549180e+01,  1.27542358e+01,  1.21630714e+01,  1.03894467e+01,\n",
       "       -8.13642157e+00,  6.72101931e-01,  1.89787062e+01,  1.42822716e+01,\n",
       "        7.10107533e+00,  4.34639478e+00,  2.44392899e+01,  1.76923915e+01,\n",
       "       -1.07941408e+00,  5.71899014e+00,  1.06813213e+01,  9.67972850e+00,\n",
       "       -5.36526271e+00, -3.23515348e+00,  6.10314562e+00, -4.86824760e+00,\n",
       "        3.28785991e+00,  3.40727497e+00,  8.10162176e+00, -3.76261421e-02,\n",
       "        1.90351778e+01,  5.66099003e+00,  1.62146837e+01,  6.76547696e+00,\n",
       "        1.21496459e+01,  1.27875773e+00,  7.36470020e+00,  1.31578940e+01,\n",
       "        3.29845466e+00,  9.44590741e+00,  4.89826160e+00,  3.25575790e+00,\n",
       "       -4.04890660e-01,  8.08666589e+00,  1.16901824e+01,  1.31707479e+01,\n",
       "        4.06182979e+00,  4.56862011e+00,  1.30506841e+01,  1.08315928e+01,\n",
       "        1.15197410e+00,  6.85155966e+00,  9.56411230e+00,  3.85456523e+00,\n",
       "        2.83186246e+00,  4.88969822e+00, -2.60487213e+00, -1.13970406e+00,\n",
       "       -3.85301267e+00, -5.70131601e+00,  4.89497369e+01,  6.22740843e+00,\n",
       "        7.31217905e+00,  7.74611223e+00,  6.54024609e+00,  8.06170201e+00,\n",
       "        1.17605277e+01,  1.18863871e+01,  1.52320843e+01,  1.45553336e+01,\n",
       "        1.83075620e+01,  3.37204044e+00,  7.48551980e+00,  9.80661930e+00,\n",
       "       -1.34966346e+00,  8.97275927e+00,  1.96381986e+01,  1.62586473e+01,\n",
       "        1.86501734e+01,  2.34107411e+01,  1.66671248e-01,  7.29011863e+00,\n",
       "       -4.77356679e+00, -4.81601543e+00, -1.31937930e+00,  8.09883111e+00,\n",
       "        1.31031502e+01,  1.09563610e+01,  1.09465203e+01,  1.01825816e+01,\n",
       "        8.77533310e+00,  9.03228986e+00,  1.26730433e+01,  5.78047969e+00,\n",
       "        7.30888841e+00,  4.56749915e+00,  2.34851866e+00,  5.00975429e+00,\n",
       "        1.20186286e+01,  6.35024320e+00,  1.11895141e+01,  2.25421998e-01,\n",
       "        9.06454498e+00, -2.22355858e+00,  7.99027436e+00,  6.72171411e+00,\n",
       "       -5.31503588e-01, -1.45036212e+00, -9.77624642e-01,  7.81911230e+00,\n",
       "       -1.53305610e+00,  5.46437765e+00, -1.29735548e+01, -1.09908387e+01,\n",
       "        4.78181433e+00,  2.52304081e+00,  6.66236540e+00,  6.07160657e+00,\n",
       "       -7.94257919e+00, -3.10268040e+00,  1.09121963e+01,  4.94925890e+00,\n",
       "        4.90134601e+00,  5.08923109e+00, -4.12206965e-01,  2.41920624e+00])"
      ]
     },
     "execution_count": 12,
     "metadata": {},
     "output_type": "execute_result"
    }
   ],
   "source": [
    "transformed[:,0]"
   ]
  },
  {
   "cell_type": "code",
   "execution_count": 11,
   "metadata": {},
   "outputs": [],
   "source": [
    "transformed = np.load(\"distance_matrix_from_scaled_2020.npy\")\n",
    "\n",
    "means_df[\"MDS_data_x\"] = transformed[:,0]\n",
    "means_df[\"MDS_data_y\"] = transformed[:,1]"
   ]
  },
  {
   "cell_type": "code",
   "execution_count": 12,
   "metadata": {},
   "outputs": [
    {
     "data": {
      "text/html": [
       "<div>\n",
       "<style scoped>\n",
       "    .dataframe tbody tr th:only-of-type {\n",
       "        vertical-align: middle;\n",
       "    }\n",
       "\n",
       "    .dataframe tbody tr th {\n",
       "        vertical-align: top;\n",
       "    }\n",
       "\n",
       "    .dataframe thead th {\n",
       "        text-align: right;\n",
       "    }\n",
       "</style>\n",
       "<table border=\"1\" class=\"dataframe\">\n",
       "  <thead>\n",
       "    <tr style=\"text-align: right;\">\n",
       "      <th></th>\n",
       "      <th>lamId</th>\n",
       "      <th>year</th>\n",
       "      <th>startDay</th>\n",
       "      <th>weeksInMean</th>\n",
       "      <th>direction</th>\n",
       "      <th>CarCount</th>\n",
       "      <th>MDS_data_x</th>\n",
       "      <th>MDS_data_y</th>\n",
       "    </tr>\n",
       "  </thead>\n",
       "  <tbody>\n",
       "    <tr>\n",
       "      <th>0</th>\n",
       "      <td>1</td>\n",
       "      <td>2020</td>\n",
       "      <td>34</td>\n",
       "      <td>2</td>\n",
       "      <td>1</td>\n",
       "      <td>[12.0, 8.0, 3.0, 5.5, 5.5, 10.5, 5.5, 4.0, 4.5...</td>\n",
       "      <td>5.195926</td>\n",
       "      <td>-15.252115</td>\n",
       "    </tr>\n",
       "    <tr>\n",
       "      <th>1</th>\n",
       "      <td>1</td>\n",
       "      <td>2020</td>\n",
       "      <td>34</td>\n",
       "      <td>2</td>\n",
       "      <td>2</td>\n",
       "      <td>[0.5, 9.5, 14.0, 7.0, 3.0, 4.5, 8.0, 5.0, 4.0,...</td>\n",
       "      <td>4.089898</td>\n",
       "      <td>-10.929535</td>\n",
       "    </tr>\n",
       "    <tr>\n",
       "      <th>2</th>\n",
       "      <td>3</td>\n",
       "      <td>2020</td>\n",
       "      <td>34</td>\n",
       "      <td>2</td>\n",
       "      <td>1</td>\n",
       "      <td>[18.0, 11.5, 21.0, 15.5, 29.0, 12.5, 7.0, 15.5...</td>\n",
       "      <td>-17.964140</td>\n",
       "      <td>-4.032497</td>\n",
       "    </tr>\n",
       "    <tr>\n",
       "      <th>3</th>\n",
       "      <td>3</td>\n",
       "      <td>2020</td>\n",
       "      <td>34</td>\n",
       "      <td>2</td>\n",
       "      <td>2</td>\n",
       "      <td>[8.0, 5.5, 2.0, 7.0, 11.5, 12.5, 12.0, 7.0, 4....</td>\n",
       "      <td>-15.813259</td>\n",
       "      <td>6.343890</td>\n",
       "    </tr>\n",
       "    <tr>\n",
       "      <th>4</th>\n",
       "      <td>4</td>\n",
       "      <td>2020</td>\n",
       "      <td>34</td>\n",
       "      <td>2</td>\n",
       "      <td>1</td>\n",
       "      <td>[26.5, 28.0, 19.5, 18.5, 29.0, 16.0, 21.5, 23....</td>\n",
       "      <td>-17.149891</td>\n",
       "      <td>-6.427502</td>\n",
       "    </tr>\n",
       "    <tr>\n",
       "      <th>...</th>\n",
       "      <td>...</td>\n",
       "      <td>...</td>\n",
       "      <td>...</td>\n",
       "      <td>...</td>\n",
       "      <td>...</td>\n",
       "      <td>...</td>\n",
       "      <td>...</td>\n",
       "      <td>...</td>\n",
       "    </tr>\n",
       "    <tr>\n",
       "      <th>827</th>\n",
       "      <td>1603</td>\n",
       "      <td>2020</td>\n",
       "      <td>34</td>\n",
       "      <td>2</td>\n",
       "      <td>2</td>\n",
       "      <td>[3.0, 1.5, 3.0, 5.0, 1.0, 1.0, 3.0, 1.0, 2.0, ...</td>\n",
       "      <td>4.949259</td>\n",
       "      <td>-6.660198</td>\n",
       "    </tr>\n",
       "    <tr>\n",
       "      <th>828</th>\n",
       "      <td>1606</td>\n",
       "      <td>2020</td>\n",
       "      <td>34</td>\n",
       "      <td>2</td>\n",
       "      <td>1</td>\n",
       "      <td>[11.5, 9.5, 4.5, 5.5, 8.0, 7.0, 4.5, 8.5, 3.0,...</td>\n",
       "      <td>4.901346</td>\n",
       "      <td>-13.827429</td>\n",
       "    </tr>\n",
       "    <tr>\n",
       "      <th>829</th>\n",
       "      <td>1606</td>\n",
       "      <td>2020</td>\n",
       "      <td>34</td>\n",
       "      <td>2</td>\n",
       "      <td>2</td>\n",
       "      <td>[3.0, 3.5, 3.0, 1.0, 4.0, 5.0, 4.5, 0.5, 3.0, ...</td>\n",
       "      <td>5.089231</td>\n",
       "      <td>-10.223837</td>\n",
       "    </tr>\n",
       "    <tr>\n",
       "      <th>830</th>\n",
       "      <td>1607</td>\n",
       "      <td>2020</td>\n",
       "      <td>34</td>\n",
       "      <td>2</td>\n",
       "      <td>1</td>\n",
       "      <td>[9.5, 7.0, 4.0, 7.0, 9.5, 6.5, 7.0, 3.0, 3.0, ...</td>\n",
       "      <td>-0.412207</td>\n",
       "      <td>-14.548820</td>\n",
       "    </tr>\n",
       "    <tr>\n",
       "      <th>831</th>\n",
       "      <td>1607</td>\n",
       "      <td>2020</td>\n",
       "      <td>34</td>\n",
       "      <td>2</td>\n",
       "      <td>2</td>\n",
       "      <td>[3.0, 4.0, 5.5, 5.5, 2.0, 6.0, 3.0, 3.0, 2.5, ...</td>\n",
       "      <td>2.419206</td>\n",
       "      <td>-12.496618</td>\n",
       "    </tr>\n",
       "  </tbody>\n",
       "</table>\n",
       "<p>832 rows × 8 columns</p>\n",
       "</div>"
      ],
      "text/plain": [
       "     lamId  year  startDay  weeksInMean  direction  \\\n",
       "0        1  2020        34            2          1   \n",
       "1        1  2020        34            2          2   \n",
       "2        3  2020        34            2          1   \n",
       "3        3  2020        34            2          2   \n",
       "4        4  2020        34            2          1   \n",
       "..     ...   ...       ...          ...        ...   \n",
       "827   1603  2020        34            2          2   \n",
       "828   1606  2020        34            2          1   \n",
       "829   1606  2020        34            2          2   \n",
       "830   1607  2020        34            2          1   \n",
       "831   1607  2020        34            2          2   \n",
       "\n",
       "                                              CarCount  MDS_data_x  MDS_data_y  \n",
       "0    [12.0, 8.0, 3.0, 5.5, 5.5, 10.5, 5.5, 4.0, 4.5...    5.195926  -15.252115  \n",
       "1    [0.5, 9.5, 14.0, 7.0, 3.0, 4.5, 8.0, 5.0, 4.0,...    4.089898  -10.929535  \n",
       "2    [18.0, 11.5, 21.0, 15.5, 29.0, 12.5, 7.0, 15.5...  -17.964140   -4.032497  \n",
       "3    [8.0, 5.5, 2.0, 7.0, 11.5, 12.5, 12.0, 7.0, 4....  -15.813259    6.343890  \n",
       "4    [26.5, 28.0, 19.5, 18.5, 29.0, 16.0, 21.5, 23....  -17.149891   -6.427502  \n",
       "..                                                 ...         ...         ...  \n",
       "827  [3.0, 1.5, 3.0, 5.0, 1.0, 1.0, 3.0, 1.0, 2.0, ...    4.949259   -6.660198  \n",
       "828  [11.5, 9.5, 4.5, 5.5, 8.0, 7.0, 4.5, 8.5, 3.0,...    4.901346  -13.827429  \n",
       "829  [3.0, 3.5, 3.0, 1.0, 4.0, 5.0, 4.5, 0.5, 3.0, ...    5.089231  -10.223837  \n",
       "830  [9.5, 7.0, 4.0, 7.0, 9.5, 6.5, 7.0, 3.0, 3.0, ...   -0.412207  -14.548820  \n",
       "831  [3.0, 4.0, 5.5, 5.5, 2.0, 6.0, 3.0, 3.0, 2.5, ...    2.419206  -12.496618  \n",
       "\n",
       "[832 rows x 8 columns]"
      ]
     },
     "execution_count": 12,
     "metadata": {},
     "output_type": "execute_result"
    }
   ],
   "source": [
    "means_df"
   ]
  },
  {
   "cell_type": "code",
   "execution_count": 13,
   "metadata": {},
   "outputs": [],
   "source": [
    "from tslearn.clustering import KShape"
   ]
  },
  {
   "cell_type": "code",
   "execution_count": 14,
   "metadata": {},
   "outputs": [],
   "source": [
    "ks = KShape(3, random_state=1)"
   ]
  },
  {
   "cell_type": "code",
   "execution_count": 15,
   "metadata": {},
   "outputs": [],
   "source": [
    "preds = ks.fit_predict(scaled_data)"
   ]
  },
  {
   "cell_type": "code",
   "execution_count": 16,
   "metadata": {},
   "outputs": [],
   "source": [
    "color_options = [i for i in range(0, 265, 28)]\n",
    "colors = []\n",
    "\n",
    "for pred in preds:\n",
    "  colors.append(color_options[pred])"
   ]
  },
  {
   "cell_type": "code",
   "execution_count": 17,
   "metadata": {},
   "outputs": [
    {
     "data": {
      "text/plain": [
       "<matplotlib.collections.PathCollection at 0x20601c7f100>"
      ]
     },
     "execution_count": 17,
     "metadata": {},
     "output_type": "execute_result"
    }
   ],
   "source": [
    "%matplotlib qt \n",
    "\n",
    "plt.scatter(means_df[\"MDS_data_x\"], means_df[\"MDS_data_y\"], c=colors, alpha=0.5)"
   ]
  },
  {
   "cell_type": "code",
   "execution_count": 30,
   "metadata": {},
   "outputs": [],
   "source": [
    "plt.figure()\n",
    "for yi in range(9):\n",
    "    plt.subplot(3, 3, 1 + yi)\n",
    "    for xx in scaled_data[preds == yi][:15]:\n",
    "        plt.plot(xx.ravel(), \"k-\", alpha=.2)\n",
    "    plt.plot(ks.cluster_centers_[yi].ravel(), \"r-\")\n",
    "    plt.xlim(0, 2016)\n",
    "    plt.ylim(-4, 4)\n",
    "    plt.title(\"Cluster %d\" % (yi + 1))\n",
    "\n",
    "plt.tight_layout()\n",
    "plt.show()"
   ]
  },
  {
   "cell_type": "code",
   "execution_count": 19,
   "metadata": {},
   "outputs": [],
   "source": [
    "np.save(\"distance_matrix_from_scaled_2020.npy\", transformed)"
   ]
  },
  {
   "cell_type": "code",
   "execution_count": 32,
   "metadata": {},
   "outputs": [],
   "source": [
    "from sklearn.neighbors import KNeighborsClassifier"
   ]
  },
  {
   "cell_type": "code",
   "execution_count": 33,
   "metadata": {},
   "outputs": [],
   "source": [
    "neigh = KNeighborsClassifier(n_neighbors=9)"
   ]
  },
  {
   "cell_type": "code",
   "execution_count": 53,
   "metadata": {},
   "outputs": [],
   "source": [
    "from sklearn.cluster import KMeans\n",
    "kmeans = KMeans(n_clusters=5, random_state=0).fit(transformed)"
   ]
  },
  {
   "cell_type": "code",
   "execution_count": 54,
   "metadata": {},
   "outputs": [],
   "source": [
    "kmeans_preds = kmeans.predict(transformed)"
   ]
  },
  {
   "cell_type": "code",
   "execution_count": 55,
   "metadata": {},
   "outputs": [
    {
     "data": {
      "text/plain": [
       "<matplotlib.collections.PathCollection at 0x1fdd6c13820>"
      ]
     },
     "execution_count": 55,
     "metadata": {},
     "output_type": "execute_result"
    }
   ],
   "source": [
    "color_options = [i for i in range(0, 265, 28)]\n",
    "kmeans_colors = []\n",
    "\n",
    "for pred in kmeans_preds:\n",
    "  kmeans_colors.append(color_options[pred])\n",
    "plt.scatter(means_df[\"MDS_data_x\"], means_df[\"MDS_data_y\"], c=kmeans_colors, alpha=0.5)"
   ]
  },
  {
   "cell_type": "code",
   "execution_count": 73,
   "metadata": {},
   "outputs": [],
   "source": [
    "class_1_timeseries = scaled_data[np.array(kmeans_colors) == 0 * 28]"
   ]
  },
  {
   "cell_type": "code",
   "execution_count": null,
   "metadata": {},
   "outputs": [],
   "source": []
  },
  {
   "cell_type": "code",
   "execution_count": 74,
   "metadata": {},
   "outputs": [],
   "source": [
    "for i in range(len(class_1_timeseries)):\n",
    "  plt.plot(class_1_timeseries[i])\n",
    "plt.show()"
   ]
  },
  {
   "cell_type": "code",
   "execution_count": 76,
   "metadata": {},
   "outputs": [],
   "source": [
    "from tslearn.clustering import TimeSeriesKMeans"
   ]
  },
  {
   "cell_type": "code",
   "execution_count": 77,
   "metadata": {},
   "outputs": [],
   "source": [
    "ts_kmeans = TimeSeriesKMeans(n_clusters=9, verbose=True, random_state=1)"
   ]
  },
  {
   "cell_type": "code",
   "execution_count": 78,
   "metadata": {},
   "outputs": [
    {
     "name": "stdout",
     "output_type": "stream",
     "text": [
      "1078.931 --> 682.806 --> 667.121 --> 659.963 --> 655.241 --> 652.291 --> 650.397 --> 649.385 --> 648.660 --> 647.929 --> 647.538 --> 647.333 --> 647.118 --> 646.968 --> 646.833 --> 646.682 --> 646.478 --> 646.269 --> 645.987 --> 645.599 --> 645.196 --> 644.883 --> 644.493 --> 644.161 --> 644.079 --> 643.985 --> 643.782 --> 643.705 --> 643.672 --> 643.639 --> 643.589 --> 643.480 --> 643.331 --> 643.319 --> 643.319 --> \n"
     ]
    }
   ],
   "source": [
    "ts_kmeans_preds = ts_kmeans.fit_predict(scaled_data)\n"
   ]
  },
  {
   "cell_type": "code",
   "execution_count": 81,
   "metadata": {},
   "outputs": [
    {
     "data": {
      "text/plain": [
       "<matplotlib.collections.PathCollection at 0x1fddc09bb50>"
      ]
     },
     "execution_count": 81,
     "metadata": {},
     "output_type": "execute_result"
    }
   ],
   "source": [
    "color_options = [i for i in range(0, 265, 28)]\n",
    "ts_kmeans_colors = []\n",
    "\n",
    "for pred in ts_kmeans_preds:\n",
    "  ts_kmeans_colors.append(color_options[pred])\n",
    "plt.scatter(means_df[\"MDS_data_x\"], means_df[\"MDS_data_y\"], c=ts_kmeans_colors, alpha=0.5)"
   ]
  },
  {
   "cell_type": "code",
   "execution_count": 83,
   "metadata": {},
   "outputs": [],
   "source": [
    "import statsmodels.api as sm"
   ]
  },
  {
   "cell_type": "code",
   "execution_count": 84,
   "metadata": {},
   "outputs": [
    {
     "ename": "ValueError",
     "evalue": "You must specify a period or x must be a pandas object with a PeriodIndex or a DatetimeIndex with a freq not set to None",
     "output_type": "error",
     "traceback": [
      "\u001b[1;31m---------------------------------------------------------------------------\u001b[0m",
      "\u001b[1;31mValueError\u001b[0m                                Traceback (most recent call last)",
      "\u001b[1;32m~\\AppData\\Local\\Temp/ipykernel_5924/322327118.py\u001b[0m in \u001b[0;36m<module>\u001b[1;34m\u001b[0m\n\u001b[1;32m----> 1\u001b[1;33m \u001b[0mres\u001b[0m \u001b[1;33m=\u001b[0m \u001b[0msm\u001b[0m\u001b[1;33m.\u001b[0m\u001b[0mtsa\u001b[0m\u001b[1;33m.\u001b[0m\u001b[0mseasonal_decompose\u001b[0m\u001b[1;33m(\u001b[0m\u001b[0mscaled_data\u001b[0m\u001b[1;33m[\u001b[0m\u001b[1;36m0\u001b[0m\u001b[1;33m]\u001b[0m\u001b[1;33m)\u001b[0m\u001b[1;33m\u001b[0m\u001b[1;33m\u001b[0m\u001b[0m\n\u001b[0m\u001b[0;32m      2\u001b[0m \u001b[0mresplot\u001b[0m \u001b[1;33m=\u001b[0m \u001b[0mres\u001b[0m\u001b[1;33m.\u001b[0m\u001b[0mplot\u001b[0m\u001b[1;33m(\u001b[0m\u001b[1;33m)\u001b[0m\u001b[1;33m\u001b[0m\u001b[1;33m\u001b[0m\u001b[0m\n",
      "\u001b[1;32m~\\anaconda3\\envs\\gradu\\lib\\site-packages\\statsmodels\\tsa\\seasonal.py\u001b[0m in \u001b[0;36mseasonal_decompose\u001b[1;34m(x, model, filt, period, two_sided, extrapolate_trend)\u001b[0m\n\u001b[0;32m    157\u001b[0m             \u001b[0mperiod\u001b[0m \u001b[1;33m=\u001b[0m \u001b[0mpfreq\u001b[0m\u001b[1;33m\u001b[0m\u001b[1;33m\u001b[0m\u001b[0m\n\u001b[0;32m    158\u001b[0m         \u001b[1;32melse\u001b[0m\u001b[1;33m:\u001b[0m\u001b[1;33m\u001b[0m\u001b[1;33m\u001b[0m\u001b[0m\n\u001b[1;32m--> 159\u001b[1;33m             raise ValueError(\n\u001b[0m\u001b[0;32m    160\u001b[0m                 \u001b[1;34m\"You must specify a period or x must be a pandas object with \"\u001b[0m\u001b[1;33m\u001b[0m\u001b[1;33m\u001b[0m\u001b[0m\n\u001b[0;32m    161\u001b[0m                 \u001b[1;34m\"a PeriodIndex or a DatetimeIndex with a freq not set to None\"\u001b[0m\u001b[1;33m\u001b[0m\u001b[1;33m\u001b[0m\u001b[0m\n",
      "\u001b[1;31mValueError\u001b[0m: You must specify a period or x must be a pandas object with a PeriodIndex or a DatetimeIndex with a freq not set to None"
     ]
    }
   ],
   "source": [
    "res = sm.tsa.seasonal_decompose(scaled_data[0])\n",
    "resplot = res.plot()"
   ]
  },
  {
   "cell_type": "code",
   "execution_count": null,
   "metadata": {},
   "outputs": [],
   "source": []
  }
 ],
 "metadata": {
  "interpreter": {
   "hash": "3c0b52ca80764a1dd840b1e249101c987e7c79ab6aa47aa3ae0c0a2c7735eb98"
  },
  "kernelspec": {
   "display_name": "Python 3.9.7 64-bit ('gradu': conda)",
   "language": "python",
   "name": "python3"
  },
  "language_info": {
   "codemirror_mode": {
    "name": "ipython",
    "version": 3
   },
   "file_extension": ".py",
   "mimetype": "text/x-python",
   "name": "python",
   "nbconvert_exporter": "python",
   "pygments_lexer": "ipython3",
   "version": "3.9.7"
  },
  "orig_nbformat": 4
 },
 "nbformat": 4,
 "nbformat_minor": 2
}
