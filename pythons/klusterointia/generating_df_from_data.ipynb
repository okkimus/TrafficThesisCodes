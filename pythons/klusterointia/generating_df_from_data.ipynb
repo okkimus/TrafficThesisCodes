{
 "cells": [
  {
   "cell_type": "code",
   "execution_count": 3,
   "metadata": {},
   "outputs": [],
   "source": [
    "from os import listdir\n",
    "import numpy as np\n",
    "import pandas as pd\n",
    "import matplotlib.pyplot as plt\n",
    "from PIL import Image\n",
    "import datetime "
   ]
  },
  {
   "cell_type": "code",
   "execution_count": 2,
   "metadata": {},
   "outputs": [],
   "source": [
    "lam_point_data = \"YOUR_PATH\\\\data\\\\lam_point_data\""
   ]
  },
  {
   "cell_type": "code",
   "execution_count": 10,
   "metadata": {},
   "outputs": [],
   "source": [
    "weekday_index = [\"mon\", \"tue\", \"wed\", \"thu\", \"fri\", \"sat\", \"sun\"]\n",
    "\n",
    "def read_image_data(path):\n",
    "    img_name = path.split(\"\\\\\")[-1]\n",
    "    split_name = img_name.split(\"_\")\n",
    "    year = int(split_name[-1][:4])\n",
    "    lam_id = split_name[4]\n",
    "    img = Image.open(path)\n",
    "    width, height = img.size\n",
    "    img_bytes = img.tobytes()\n",
    "    first_day_index = datetime.datetime(year, 1, 1).weekday()\n",
    "\n",
    "    data = np.array([])\n",
    "    \n",
    "    for i in range(width):\n",
    "        is_empty = img_bytes[(height-2) * width + i] == 255\n",
    "        if not is_empty:\n",
    "            col = img_bytes[i:(height-2)*width:width]\n",
    "            data[weekday_index[(first_day_index + i)%7]].append(np.array(bytearray(col), dtype=\"uint8\"))\n",
    "                            \n",
    "    count = 0\n",
    "    for day in weekday_index:\n",
    "        count += len(data[day])\n",
    "    \n",
    "    print(f\"Found {count} non-empty days for lam {lam_id}\")\n",
    "    return data\n",
    "        "
   ]
  },
  {
   "cell_type": "code",
   "execution_count": 11,
   "metadata": {},
   "outputs": [
    {
     "name": "stdout",
     "output_type": "stream",
     "text": [
      "Found 365 non-empty days for lam 1\n"
     ]
    }
   ],
   "source": [
    "test_data = read_image_data(f\"{lam_point_data}\\\\CarCount\\\\CarCount_interval5_greyscale_lam_1_year_2016.bmp\")"
   ]
  },
  {
   "cell_type": "code",
   "execution_count": null,
   "metadata": {},
   "outputs": [],
   "source": []
  },
  {
   "cell_type": "code",
   "execution_count": null,
   "metadata": {},
   "outputs": [],
   "source": []
  }
 ],
 "metadata": {
  "interpreter": {
   "hash": "3c0b52ca80764a1dd840b1e249101c987e7c79ab6aa47aa3ae0c0a2c7735eb98"
  },
  "kernelspec": {
   "display_name": "Python 3 (ipykernel)",
   "language": "python",
   "name": "python3"
  },
  "language_info": {
   "codemirror_mode": {
    "name": "ipython",
    "version": 3
   },
   "file_extension": ".py",
   "mimetype": "text/x-python",
   "name": "python",
   "nbconvert_exporter": "python",
   "pygments_lexer": "ipython3",
   "version": "3.9.7"
  }
 },
 "nbformat": 4,
 "nbformat_minor": 4
}
