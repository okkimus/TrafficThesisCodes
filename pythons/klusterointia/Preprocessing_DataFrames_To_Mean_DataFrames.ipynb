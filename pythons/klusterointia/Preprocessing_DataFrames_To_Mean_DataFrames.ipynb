{
 "cells": [
  {
   "cell_type": "code",
   "execution_count": 1,
   "metadata": {},
   "outputs": [],
   "source": [
    "from DataPaths import Paths\n",
    "from DatasetReader import DatasetReader\n",
    "from MeanMaker import MeanMaker\n",
    "from DataFramer import DataFramer\n",
    "\n",
    "import numpy as np\n",
    "import pandas as pd\n",
    "import matplotlib.pyplot as plt"
   ]
  },
  {
   "cell_type": "code",
   "execution_count": 2,
   "metadata": {},
   "outputs": [],
   "source": [
    "mm = MeanMaker()\n",
    "dr = DatasetReader()\n",
    "framer = DataFramer(Paths.processed_image_path_v2, Paths.full_year_pickle_path_v2)"
   ]
  },
  {
   "cell_type": "code",
   "execution_count": 9,
   "metadata": {},
   "outputs": [],
   "source": [
    "# Modify these parameters!\n",
    "selected_years = [2016, 2017, 2020, 2021]\n",
    "selected_feature = \"CarCount\""
   ]
  },
  {
   "cell_type": "code",
   "execution_count": 10,
   "metadata": {},
   "outputs": [],
   "source": [
    "for year in selected_years:\n",
    "  framer.pickle_year(year, selected_feature)"
   ]
  },
  {
   "cell_type": "code",
   "execution_count": 11,
   "metadata": {},
   "outputs": [
    {
     "data": {
      "text/plain": [
       "Directories: []\n",
       "Files: ['full_year_2016_CarCount.pkl', 'full_year_2017_CarCount.pkl', 'full_year_2020_CarCount.pkl', 'full_year_2021_CarCount.pkl']\n",
       "Full file paths: ['YOUR_PATH\\\\data\\\\full_year_pickles_v2\\\\full_year_2016_CarCount.pkl', 'YOUR_PATH\\\\data\\\\full_year_pickles_v2\\\\full_year_2017_CarCount.pkl', 'YOUR_PATH\\\\data\\\\full_year_pickles_v2\\\\full_year_2020_CarCount.pkl', 'YOUR_PATH\\\\data\\\\full_year_pickles_v2\\\\full_year_2021_CarCount.pkl']"
      ]
     },
     "execution_count": 11,
     "metadata": {},
     "output_type": "execute_result"
    }
   ],
   "source": [
    "dr.read_directories(Paths.full_year_pickle_path_v2)"
   ]
  },
  {
   "cell_type": "code",
   "execution_count": 12,
   "metadata": {},
   "outputs": [
    {
     "name": "stdout",
     "output_type": "stream",
     "text": [
      "[32, 33, 34, 35, 36, 37, 38]\n",
      "[39, 40, 41, 42, 43, 44, 45]\n",
      "[46, 47, 48, 49, 50, 51, 52]\n"
     ]
    }
   ],
   "source": [
    "full_year_2016 = dr.read_pickle(\"YOUR_PATH\\\\data\\\\full_year_pickles_v2\\\\full_year_2016_CarCount.pkl\")\n",
    "means_2016 = mm.create_means_from_monday(1, 2, 2016, 3, full_year_2016, \"CarCount\")\n",
    "means_2016.to_pickle(f\"{Paths.mean_pickles}\\\\means_2016_from_1st_monday_february_3_weeks.pkl\")"
   ]
  },
  {
   "cell_type": "code",
   "execution_count": 13,
   "metadata": {},
   "outputs": [
    {
     "name": "stdout",
     "output_type": "stream",
     "text": [
      "[37, 38, 39, 40, 41, 42, 43]\n",
      "[44, 45, 46, 47, 48, 49, 50]\n",
      "[51, 52, 53, 54, 55, 56, 57]\n"
     ]
    }
   ],
   "source": [
    "full_year_2017 = dr.read_pickle(\"YOUR_PATH\\\\data\\\\full_year_pickles_v2\\\\full_year_2017_CarCount.pkl\")\n",
    "means_2017 = mm.create_means_from_monday(1, 2, 2017, 3, full_year_2017, \"CarCount\")\n",
    "means_2017.to_pickle(f\"{Paths.mean_pickles}\\\\means_2017_from_1st_monday_february_3_weeks.pkl\")"
   ]
  },
  {
   "cell_type": "code",
   "execution_count": 14,
   "metadata": {},
   "outputs": [
    {
     "name": "stdout",
     "output_type": "stream",
     "text": [
      "[34, 35, 36, 37, 38, 39, 40]\n",
      "[41, 42, 43, 44, 45, 46, 47]\n",
      "[48, 49, 50, 51, 52, 53, 54]\n"
     ]
    }
   ],
   "source": [
    "full_year_2020 = dr.read_pickle(\"YOUR_PATH\\\\data\\\\full_year_pickles_v2\\\\full_year_2020_CarCount.pkl\")\n",
    "means_2020 = mm.create_means_from_monday(1, 2, 2020, 3, full_year_2020, \"CarCount\")\n",
    "means_2020.to_pickle(f\"{Paths.mean_pickles}\\\\means_2020_from_1st_monday_february_3_weeks.pkl\")"
   ]
  },
  {
   "cell_type": "code",
   "execution_count": 15,
   "metadata": {},
   "outputs": [
    {
     "name": "stdout",
     "output_type": "stream",
     "text": [
      "[32, 33, 34, 35, 36, 37, 38]\n",
      "[39, 40, 41, 42, 43, 44, 45]\n",
      "[46, 47, 48, 49, 50, 51, 52]\n"
     ]
    }
   ],
   "source": [
    "full_year_2021 = dr.read_pickle(\"YOUR_PATH\\\\data\\\\full_year_pickles_v2\\\\full_year_2021_CarCount.pkl\")\n",
    "means_2021 = mm.create_means_from_monday(1, 2, 2021, 3, full_year_2021, \"CarCount\")\n",
    "means_2021.to_pickle(f\"{Paths.mean_pickles}\\\\means_2021_from_1st_monday_february_3_weeks.pkl\")"
   ]
  },
  {
   "cell_type": "code",
   "execution_count": 16,
   "metadata": {},
   "outputs": [],
   "source": [
    "lam102_2016 = full_year_2016[full_year_2016[\"lamId\"]== 102]"
   ]
  },
  {
   "cell_type": "code",
   "execution_count": 17,
   "metadata": {},
   "outputs": [
    {
     "data": {
      "text/plain": [
       "[<matplotlib.lines.Line2D at 0x2a9631cb880>]"
      ]
     },
     "execution_count": 17,
     "metadata": {},
     "output_type": "execute_result"
    },
    {
     "data": {
      "image/png": "[encoded data removed]",
      "text/plain": [
       "<Figure size 432x288 with 1 Axes>"
      ]
     },
     "metadata": {
      "needs_background": "light"
     },
     "output_type": "display_data"
    }
   ],
   "source": [
    "plt.plot(lam102_2016.iloc[64+2*7*2][\"CarCount\"])"
   ]
  },
  {
   "cell_type": "code",
   "execution_count": 18,
   "metadata": {},
   "outputs": [],
   "source": [
    "lam102_means_2016 = means_2017[means_2017[\"lamId\"]== 102]"
   ]
  },
  {
   "cell_type": "code",
   "execution_count": 19,
   "metadata": {},
   "outputs": [
    {
     "data": {
      "text/plain": [
       "[<matplotlib.lines.Line2D at 0x2a948cd4880>]"
      ]
     },
     "execution_count": 19,
     "metadata": {},
     "output_type": "execute_result"
    },
    {
     "data": {
      "image/png": "[encoded data removed]",
      "text/plain": [
       "<Figure size 432x288 with 1 Axes>"
      ]
     },
     "metadata": {
      "needs_background": "light"
     },
     "output_type": "display_data"
    }
   ],
   "source": [
    "plt.plot(lam102_means_2016[\"CarCount\"].values[0][:288])"
   ]
  },
  {
   "cell_type": "code",
   "execution_count": 20,
   "metadata": {},
   "outputs": [
    {
     "data": {
      "text/plain": [
       "12    [1.3333333333333333, 3.0, 2.6666666666666665, ...\n",
       "13    [1.6666666666666667, 0.6666666666666666, 1.0, ...\n",
       "Name: CarCount, dtype: object"
      ]
     },
     "execution_count": 20,
     "metadata": {},
     "output_type": "execute_result"
    }
   ],
   "source": [
    "lam102_means_2016[\"CarCount\"]"
   ]
  },
  {
   "cell_type": "code",
   "execution_count": 21,
   "metadata": {},
   "outputs": [
    {
     "data": {
      "text/plain": [
       "dtype('int32')"
      ]
     },
     "execution_count": 21,
     "metadata": {},
     "output_type": "execute_result"
    }
   ],
   "source": [
    "means_2016[\"CarCount\"].apply(lambda x: x.astype(int)).iloc[0].dtype"
   ]
  },
  {
   "cell_type": "code",
   "execution_count": null,
   "metadata": {},
   "outputs": [],
   "source": []
  }
 ],
 "metadata": {
  "interpreter": {
   "hash": "3c0b52ca80764a1dd840b1e249101c987e7c79ab6aa47aa3ae0c0a2c7735eb98"
  },
  "kernelspec": {
   "display_name": "Python 3.9.7 64-bit ('gradu': conda)",
   "language": "python",
   "name": "python3"
  },
  "language_info": {
   "codemirror_mode": {
    "name": "ipython",
    "version": 3
   },
   "file_extension": ".py",
   "mimetype": "text/x-python",
   "name": "python",
   "nbconvert_exporter": "python",
   "pygments_lexer": "ipython3",
   "version": "3.9.7"
  },
  "orig_nbformat": 4
 },
 "nbformat": 4,
 "nbformat_minor": 2
}
