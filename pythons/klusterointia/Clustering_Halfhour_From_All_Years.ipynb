{
 "cells": [
  {
   "cell_type": "code",
   "execution_count": 56,
   "metadata": {},
   "outputs": [
    {
     "name": "stdout",
     "output_type": "stream",
     "text": [
      "The autoreload extension is already loaded. To reload it, use:\n",
      "  %reload_ext autoreload\n"
     ]
    }
   ],
   "source": [
    "%load_ext autoreload\n",
    "%autoreload 2\n",
    "from DataPaths import Paths\n",
    "from DatasetReader import DatasetReader\n",
    "from HalfhourClusterer import HalfhourClusterer\n",
    "from ClusterVisualisation import visualise_model\n",
    "\n",
    "import numpy as np"
   ]
  },
  {
   "cell_type": "code",
   "execution_count": 4,
   "metadata": {},
   "outputs": [],
   "source": [
    "dr = DatasetReader()\n",
    "year_data_paths = dr.read_directories(Paths.mean_pickles).full_file_paths"
   ]
  },
  {
   "cell_type": "code",
   "execution_count": 7,
   "metadata": {},
   "outputs": [
    {
     "data": {
      "text/plain": [
       "['YOUR_PATH\\\\data\\\\mean_pickles\\\\\\\\means_2016_from_1st_monday_february_3_weeks.pkl',\n",
       " 'YOUR_PATH\\\\data\\\\mean_pickles\\\\\\\\means_2017_from_1st_monday_february_3_weeks.pkl',\n",
       " 'YOUR_PATH\\\\data\\\\mean_pickles\\\\\\\\means_2020_from_1st_monday_february_3_weeks.pkl',\n",
       " 'YOUR_PATH\\\\data\\\\mean_pickles\\\\\\\\means_2021_from_1st_monday_february_3_weeks.pkl']"
      ]
     },
     "execution_count": 7,
     "metadata": {},
     "output_type": "execute_result"
    }
   ],
   "source": [
    "year_data_paths"
   ]
  },
  {
   "cell_type": "code",
   "execution_count": 115,
   "metadata": {},
   "outputs": [],
   "source": [
    "filter = 15\n",
    "hhc_2016 = HalfhourClusterer(year_data_paths[0], filter)\n",
    "hhc_2017 = HalfhourClusterer(year_data_paths[1], filter)\n",
    "hhc_2020 = HalfhourClusterer(year_data_paths[2], filter)\n",
    "hhc_2021 = HalfhourClusterer(year_data_paths[3], filter)"
   ]
  },
  {
   "cell_type": "code",
   "execution_count": 116,
   "metadata": {},
   "outputs": [],
   "source": [
    "model_2016 = hhc_2016.train(6, True, False)\n",
    "model_2017 = hhc_2017.train(6, True, False)\n",
    "model_2020 = hhc_2020.train(6, True, False)\n",
    "model_2021 = hhc_2021.train(6, True, False)"
   ]
  },
  {
   "cell_type": "code",
   "execution_count": 117,
   "metadata": {},
   "outputs": [],
   "source": [
    "preds_2016 = hhc_2016.predict(model_2016, True, False)\n",
    "preds_2017 = hhc_2017.predict(model_2017, True, False)\n",
    "preds_2020 = hhc_2020.predict(model_2020, True, False)\n",
    "preds_2021 = hhc_2021.predict(model_2021, True, False)"
   ]
  },
  {
   "cell_type": "code",
   "execution_count": 118,
   "metadata": {},
   "outputs": [],
   "source": [
    "%matplotlib qt\n",
    "\n",
    "visualise_model(model_2016, preds_2016, hhc_2016.get_dataset(True, False), True, False)\n",
    "visualise_model(model_2017, preds_2017, hhc_2017.get_dataset(True, False), True, False, \"g\")\n",
    "visualise_model(model_2020, preds_2020, hhc_2020.get_dataset(True, False), True, False, \"b\")\n",
    "visualise_model(model_2021, preds_2021, hhc_2021.get_dataset(True, False), True, False, \"y\")\n"
   ]
  },
  {
   "cell_type": "code",
   "execution_count": 119,
   "metadata": {},
   "outputs": [],
   "source": [
    "model_2016_unscaled = hhc_2016.train(6, False, False)\n",
    "model_2017_unscaled = hhc_2017.train(6, False, False)\n",
    "model_2020_unscaled = hhc_2020.train(6, False, False)\n",
    "model_2021_unscaled = hhc_2021.train(6, False, False)"
   ]
  },
  {
   "cell_type": "code",
   "execution_count": 120,
   "metadata": {},
   "outputs": [],
   "source": [
    "visualise_model(model_2016_unscaled, hhc_2016.predict(model_2016_unscaled, True, False), hhc_2016.get_dataset(True, False), True, False)\n",
    "visualise_model(model_2017_unscaled, hhc_2017.predict(model_2017_unscaled, True, False), hhc_2017.get_dataset(True, False), True, False, \"g\")\n",
    "visualise_model(model_2020_unscaled, hhc_2020.predict(model_2020_unscaled, True, False), hhc_2020.get_dataset(True, False), True, False, \"b\")\n",
    "visualise_model(model_2021_unscaled, hhc_2021.predict(model_2021_unscaled, True, False), hhc_2021.get_dataset(True, False), True, False, \"y\")"
   ]
  },
  {
   "cell_type": "code",
   "execution_count": 121,
   "metadata": {},
   "outputs": [],
   "source": [
    "from tslearn.metrics import dtw"
   ]
  },
  {
   "cell_type": "code",
   "execution_count": 122,
   "metadata": {},
   "outputs": [],
   "source": [
    "def find_closest_clusters(model_list):\n",
    "  models = len(model_list)\n",
    "  classes = model_list[0].n_clusters\n",
    "  all_pairs = []\n",
    "\n",
    "  for i in range(1, models):\n",
    "    m1 = model_list[i-1]\n",
    "    m2 = model_list[i]\n",
    "    dtws = np.zeros((classes, classes))\n",
    "    for j in range(classes):\n",
    "      cluster1 = m1.cluster_centers_[j].ravel()\n",
    "      for k in range(classes):\n",
    "        cluster2 = m2.cluster_centers_[k].ravel()\n",
    "        dtws[j, k] = dtw(cluster1, cluster2, sakoe_chiba_radius=5)\n",
    "    mask = np.ones((classes, classes))\n",
    "    pairs = []\n",
    "\n",
    "    while len(pairs) != classes:\n",
    "      mask, place = row_or_column_filled(mask)\n",
    "      \n",
    "      if (len(place) == 2):\n",
    "        pairs.append(place)\n",
    "      else:\n",
    "        mask = fill_largest_to_mask(dtws, mask)\n",
    "    \n",
    "    all_pairs.append(pairs)\n",
    "\n",
    "  return all_pairs\n",
    "\n",
    "def fill_largest_to_mask(matrix, mask):\n",
    "  new_mask = mask.copy()\n",
    "  largest = 0\n",
    "  largest_i = 0\n",
    "  largest_j = 0\n",
    "  matrix_size = matrix.shape[0]\n",
    "  for i in range(matrix_size):\n",
    "    for j in range(matrix_size):\n",
    "      if mask[i, j] == 1 and matrix[i, j] > largest:\n",
    "        largest = matrix[i, j]\n",
    "        largest_i = i\n",
    "        largest_j = j\n",
    "  \n",
    "  new_mask[largest_i, largest_j] = 0\n",
    "  return new_mask\n",
    "\n",
    "def find_one_col(mask, col):\n",
    "  for i in range(len(mask[col])):\n",
    "    if mask[i, col] == 1:\n",
    "      return i\n",
    "\n",
    "def find_one_row(mask, row):\n",
    "  for i in range(len(mask[row])):\n",
    "    if mask[row, i] == 1:\n",
    "      return i\n",
    "\n",
    "def row_or_column_filled(mask):\n",
    "  mask_l = mask.shape[0]\n",
    "  new_mask = mask.copy()\n",
    "  for i in range(mask_l):\n",
    "    if mask[i,:].sum() == 1:\n",
    "      row = find_one_row(mask, i)\n",
    "      new_mask[i,:] = 0\n",
    "      new_mask[:,row] = 0\n",
    "      return new_mask, (row, i)\n",
    "    elif mask[:,i].sum() == 1:\n",
    "      col = find_one_col(mask, i)\n",
    "      new_mask[col,:] = 0\n",
    "      new_mask[:,i] = 0\n",
    "      return new_mask, (i, col)\n",
    "  return new_mask, ()\n",
    "\n",
    "\n",
    "  "
   ]
  },
  {
   "cell_type": "code",
   "execution_count": 123,
   "metadata": {},
   "outputs": [],
   "source": [
    "all_models = [model_2016_unscaled, model_2017_unscaled, model_2020_unscaled, model_2021_unscaled]"
   ]
  },
  {
   "cell_type": "code",
   "execution_count": 124,
   "metadata": {},
   "outputs": [],
   "source": [
    "pairs = find_closest_clusters(all_models)"
   ]
  },
  {
   "cell_type": "code",
   "execution_count": 125,
   "metadata": {},
   "outputs": [
    {
     "data": {
      "text/plain": [
       "[[(4, 5), (1, 2), (5, 4), (3, 0), (0, 1), (2, 3)],\n",
       " [(4, 4), (5, 1), (0, 5), (3, 3), (1, 0), (2, 2)],\n",
       " [(2, 4), (0, 0), (4, 5), (3, 3), (1, 1), (5, 2)]]"
      ]
     },
     "execution_count": 125,
     "metadata": {},
     "output_type": "execute_result"
    }
   ],
   "source": [
    "pairs"
   ]
  },
  {
   "cell_type": "code",
   "execution_count": 126,
   "metadata": {},
   "outputs": [],
   "source": [
    "similar_clusters = []\n",
    "for i in range(6):\n",
    "  clusters = [i]\n",
    "  comparator = i\n",
    "  for pair_list in pairs:\n",
    "    skip = False\n",
    "    j = 0\n",
    "    while not skip:\n",
    "      pair = pair_list[j]\n",
    "      j += 1\n",
    "      if pair[0] == comparator:\n",
    "        comparator = pair[1]\n",
    "        clusters.append(pair[1])\n",
    "        skip = True\n",
    "  similar_clusters.append(clusters)\n",
    "\n"
   ]
  },
  {
   "cell_type": "code",
   "execution_count": 127,
   "metadata": {},
   "outputs": [
    {
     "data": {
      "text/plain": [
       "[[0, 1, 0, 0],\n",
       " [1, 2, 2, 4],\n",
       " [2, 3, 3, 3],\n",
       " [3, 0, 5, 2],\n",
       " [4, 5, 1, 1],\n",
       " [5, 4, 4, 5]]"
      ]
     },
     "execution_count": 127,
     "metadata": {},
     "output_type": "execute_result"
    }
   ],
   "source": [
    "# PLOT SIMILAR CLUSTERS TOGETHER\n",
    "similar_clusters"
   ]
  },
  {
   "cell_type": "code",
   "execution_count": 128,
   "metadata": {},
   "outputs": [],
   "source": [
    "model_dir = \"YOUR_PATH\\\\models\\\\\"\n",
    "\n",
    "model_2016.to_pickle(f\"{model_dir}model_2016\")\n",
    "model_2017.to_pickle(f\"{model_dir}model_2017\")\n",
    "model_2020.to_pickle(f\"{model_dir}model_2020\")\n",
    "model_2021.to_pickle(f\"{model_dir}model_2021\")\n",
    "model_2016_unscaled.to_pickle(f\"{model_dir}model_2016_unscaled\")\n",
    "model_2017_unscaled.to_pickle(f\"{model_dir}model_2017_unscaled\")\n",
    "model_2020_unscaled.to_pickle(f\"{model_dir}model_2020_unscaled\")\n",
    "model_2021_unscaled.to_pickle(f\"{model_dir}model_2021_unscaled\")"
   ]
  },
  {
   "cell_type": "code",
   "execution_count": 154,
   "metadata": {},
   "outputs": [],
   "source": [
    "import matplotlib.pyplot as plt\n",
    "\n",
    "def visualise_clusters(models, cluster_similarity):\n",
    "  class_c = models[0].n_clusters\n",
    "\n",
    "  cluster_center_groups = []\n",
    "  # For each cluster find all similar centers from all models\n",
    "  for i in range(class_c):\n",
    "    centers = []\n",
    "    for j in range(len(models)):\n",
    "      centers.append(models[j].cluster_centers_[cluster_similarity[i][j]].ravel())\n",
    "    cluster_center_groups.append(centers)\n",
    "\n",
    "  for asd in range(len(cluster_center_groups)):\n",
    "    cluster_group = cluster_center_groups[asd]\n",
    "    plt.subplot(int(class_c / 3), 3, asd+1)\n",
    "    for cluster_center in cluster_group:\n",
    "      plt.plot(cluster_center)\n",
    "    plt.xlim(0, 336)\n",
    "    plt.ylim(-2, 800)\n",
    "\n",
    "  plt.tight_layout()\n",
    "  plt.show()"
   ]
  },
  {
   "cell_type": "code",
   "execution_count": 155,
   "metadata": {},
   "outputs": [],
   "source": [
    "visualise_clusters(all_models, similar_clusters)"
   ]
  },
  {
   "cell_type": "code",
   "execution_count": 10,
   "metadata": {},
   "outputs": [],
   "source": [
    "import pandas as pd"
   ]
  },
  {
   "cell_type": "code",
   "execution_count": 5,
   "metadata": {},
   "outputs": [],
   "source": [
    "models = dr.read_directories(Paths.model_path).full_file_paths"
   ]
  },
  {
   "cell_type": "code",
   "execution_count": 6,
   "metadata": {},
   "outputs": [
    {
     "data": {
      "text/plain": [
       "['YOUR_PATH\\\\models\\\\\\\\model_2016',\n",
       " 'YOUR_PATH\\\\models\\\\\\\\model_2016_unscaled',\n",
       " 'YOUR_PATH\\\\models\\\\\\\\model_2017',\n",
       " 'YOUR_PATH\\\\models\\\\\\\\model_2017_unscaled',\n",
       " 'YOUR_PATH\\\\models\\\\\\\\model_2020',\n",
       " 'YOUR_PATH\\\\models\\\\\\\\model_2020_unscaled',\n",
       " 'YOUR_PATH\\\\models\\\\\\\\model_2021',\n",
       " 'YOUR_PATH\\\\models\\\\\\\\model_2021_unscaled']"
      ]
     },
     "execution_count": 6,
     "metadata": {},
     "output_type": "execute_result"
    }
   ],
   "source": [
    "models"
   ]
  },
  {
   "cell_type": "code",
   "execution_count": 11,
   "metadata": {},
   "outputs": [],
   "source": [
    "means_data_2016_feb_3weeks = pd.read_pickle(year_data_paths[0])"
   ]
  },
  {
   "cell_type": "code",
   "execution_count": 44,
   "metadata": {},
   "outputs": [],
   "source": [
    "def filter_only_lams_in_all_datasets(data_paths):\n",
    "  datas = []\n",
    "  for path in data_paths:\n",
    "    datas.append(pd.read_pickle(path))\n",
    "  \n",
    "  all_df = pd.concat(datas, axis=0)\n",
    "  grouped = all_df.groupby([\"lamId\", \"direction\"])\n",
    "  filtered = grouped.filter(lambda x: x[\"year\"].count() == len(data_paths))\n",
    "\n",
    "  return filtered"
   ]
  },
  {
   "cell_type": "code",
   "execution_count": 47,
   "metadata": {},
   "outputs": [],
   "source": [
    "all_datas = filter_only_lams_in_all_datasets(year_data_paths)"
   ]
  },
  {
   "cell_type": "code",
   "execution_count": 63,
   "metadata": {},
   "outputs": [],
   "source": [
    "def get_year_of_data(full_data, year):\n",
    "  return full_data[full_data[\"year\"] == year].reset_index()"
   ]
  },
  {
   "cell_type": "code",
   "execution_count": 64,
   "metadata": {},
   "outputs": [],
   "source": [
    "data_2016 = get_year_of_data(all_datas, 2016)\n",
    "data_2017 = get_year_of_data(all_datas, 2017)\n",
    "data_2020 = get_year_of_data(all_datas, 2020)\n",
    "data_2021 = get_year_of_data(all_datas, 2021)"
   ]
  },
  {
   "cell_type": "code",
   "execution_count": 65,
   "metadata": {},
   "outputs": [],
   "source": [
    "filter = 15\n",
    "hhc_2016_new = HalfhourClusterer(data_2016, filter)\n",
    "hhc_2017_new = HalfhourClusterer(data_2017, filter)\n",
    "hhc_2020_new = HalfhourClusterer(data_2020, filter)\n",
    "hhc_2021_new = HalfhourClusterer(data_2021, filter)"
   ]
  },
  {
   "cell_type": "code",
   "execution_count": 67,
   "metadata": {},
   "outputs": [],
   "source": [
    "model_2016_new = hhc_2016_new.train(6, True, False)\n",
    "model_2017_new = hhc_2017_new.train(6, True, False)\n",
    "model_2020_new = hhc_2020_new.train(6, True, False)\n",
    "model_2021_new = hhc_2021_new.train(6, True, False)"
   ]
  },
  {
   "cell_type": "code",
   "execution_count": 68,
   "metadata": {},
   "outputs": [],
   "source": [
    "preds_2016_new_scaled = hhc_2016_new.predict(model_2016_new, True, False)\n",
    "preds_2017_new_scaled = hhc_2017_new.predict(model_2017_new, True, False)\n",
    "preds_2020_new_scaled = hhc_2020_new.predict(model_2020_new, True, False)\n",
    "preds_2021_new_scaled = hhc_2021_new.predict(model_2021_new, True, False)"
   ]
  },
  {
   "cell_type": "code",
   "execution_count": 69,
   "metadata": {},
   "outputs": [],
   "source": [
    "%matplotlib qt\n",
    "\n",
    "visualise_model(model_2016_new, preds_2016_new_scaled, hhc_2016_new.get_dataset(True, False), True, False)\n",
    "visualise_model(model_2017_new, preds_2017_new_scaled, hhc_2017_new.get_dataset(True, False), True, False, \"g\")\n",
    "visualise_model(model_2020_new, preds_2020_new_scaled, hhc_2020_new.get_dataset(True, False), True, False, \"b\")\n",
    "visualise_model(model_2021_new, preds_2021_new_scaled, hhc_2021_new.get_dataset(True, False), True, False, \"y\")\n"
   ]
  },
  {
   "cell_type": "code",
   "execution_count": null,
   "metadata": {},
   "outputs": [],
   "source": []
  }
 ],
 "metadata": {
  "interpreter": {
   "hash": "3c0b52ca80764a1dd840b1e249101c987e7c79ab6aa47aa3ae0c0a2c7735eb98"
  },
  "kernelspec": {
   "display_name": "Python 3.9.7 ('gradu')",
   "language": "python",
   "name": "python3"
  },
  "language_info": {
   "codemirror_mode": {
    "name": "ipython",
    "version": 3
   },
   "file_extension": ".py",
   "mimetype": "text/x-python",
   "name": "python",
   "nbconvert_exporter": "python",
   "pygments_lexer": "ipython3",
   "version": "3.9.7"
  },
  "orig_nbformat": 4
 },
 "nbformat": 4,
 "nbformat_minor": 2
}
