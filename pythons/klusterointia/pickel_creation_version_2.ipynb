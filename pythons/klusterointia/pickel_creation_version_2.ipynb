{
 "cells": [
  {
   "cell_type": "code",
   "execution_count": 40,
   "metadata": {},
   "outputs": [],
   "source": [
    "from LamIndexer import LamIndexer\n",
    "from os import listdir\n",
    "from PIL import Image\n",
    "from calendar import isleap\n",
    "import numpy as np\n",
    "import pandas as pd\n",
    "\n",
    "# Mitä tarvitaan:\n",
    "# - tiedostot\n",
    "# - tiedot mikä indeksi on mikä lamId\n"
   ]
  },
  {
   "cell_type": "code",
   "execution_count": 57,
   "metadata": {},
   "outputs": [],
   "source": [
    "selected_year = 2016\n",
    "days_in_selected_year = 366 if isleap(2016) else 365\n",
    "\n",
    "day_range = range(1, days_in_selected_year + 1)\n",
    "image_file_path = f\"YOUR_PATH\\\\data\\\\processed_image_files\\\\{selected_year}\"\n",
    "day_path = lambda day: f\"{image_file_path}\\\\{day}\"\n",
    "feature_names = [\"CarCount\", \"CarSpeedMean\", \"CarSpeedMax\", \"CarSpeedMin\"]\n",
    "lam_indexer = LamIndexer()"
   ]
  },
  {
   "cell_type": "code",
   "execution_count": 62,
   "metadata": {},
   "outputs": [],
   "source": [
    "def create_dataframe(img_list, day_index, year, feature_names):\n",
    "  lam_ids_list = []\n",
    "  directions_list = []\n",
    "  data_list = []\n",
    "  for i in range(len(img_list)):\n",
    "    img = img_list[i]\n",
    "    width, height = img.size\n",
    "    lam_ids = []\n",
    "    directions = []\n",
    "    data = []\n",
    "    img_bytes = img.tobytes()\n",
    "    for i in range(width):\n",
    "      is_empty = img_bytes[(height-2) * width + i] == 255\n",
    "      if not is_empty:\n",
    "          col = img_bytes[i:(height-2)*width:width]\n",
    "          lam_id = lam_indexer.get_lam_id_for_index(i)\n",
    "          direction = (i % 2) + 1\n",
    "          lam_ids.append(lam_id)\n",
    "          directions.append(direction)\n",
    "          data.append(np.array(bytearray(col), dtype=\"uint\"))\n",
    "    lam_ids_list.append(lam_ids)      \n",
    "    directions_list.append(directions)      \n",
    "    data_list.append(data) \n",
    "  # sanity check\n",
    "  if len(set([len(ids) for ids in lam_ids_list])) != 1:\n",
    "    print(\"ERROR!!!\")\n",
    "  \n",
    "  df_data = {\"lamId\": lam_ids_list[0], \"dayIndex\": day_index, \"year\": year, \"direction\": directions_list[0]}\n",
    "  for i in range(len(feature_names)):\n",
    "    feat = feature_names[i]\n",
    "    df_data[feat] = data_list[i]\n",
    "\n",
    "  result_df = pd.DataFrame(df_data)\n",
    "  return result_df\n",
    "\n",
    "\n",
    "  "
   ]
  },
  {
   "cell_type": "code",
   "execution_count": 63,
   "metadata": {},
   "outputs": [],
   "source": [
    "def handle_day(day_index, feature_names, year):\n",
    "  day_p = day_path(day_index)\n",
    "  files_for_day = listdir(day_p)\n",
    "  day_data = []\n",
    "  for file in files_for_day:\n",
    "    file_split = file.split(\"_\")\n",
    "    if file_split[0] in feature_names:\n",
    "      img = Image.open(f\"{day_p}\\\\{file}\")\n",
    "      day_data.append(img)\n",
    "  if len(day_data) == len(feature_names):\n",
    "    return create_dataframe(day_data, day_index, year, feature_names)\n",
    "  else:\n",
    "    print(f\"Couldn't find all features for day {day_index}\")\n",
    "  \n",
    "  "
   ]
  },
  {
   "cell_type": "code",
   "execution_count": 73,
   "metadata": {},
   "outputs": [],
   "source": [
    "full_year_data = []\n",
    "for day in day_range:\n",
    "  result = handle_day(day, feature_names, selected_year)\n",
    "  full_year_data.append(result)"
   ]
  },
  {
   "cell_type": "code",
   "execution_count": 74,
   "metadata": {},
   "outputs": [],
   "source": [
    "full_df = pd.concat(full_year_data)"
   ]
  },
  {
   "cell_type": "code",
   "execution_count": 77,
   "metadata": {},
   "outputs": [],
   "source": [
    "pickle_save_path = f\"YOUR_PATH\\\\data\\\\pickels_v2\\\\aggregated_car_data_{selected_year}.pkl\"\n",
    "full_df.to_pickle(pickle_save_path)"
   ]
  },
  {
   "cell_type": "code",
   "execution_count": null,
   "metadata": {},
   "outputs": [],
   "source": []
  },
  {
   "cell_type": "code",
   "execution_count": null,
   "metadata": {},
   "outputs": [],
   "source": []
  }
 ],
 "metadata": {
  "interpreter": {
   "hash": "3c0b52ca80764a1dd840b1e249101c987e7c79ab6aa47aa3ae0c0a2c7735eb98"
  },
  "kernelspec": {
   "display_name": "Python 3.9.7 64-bit ('gradu': conda)",
   "language": "python",
   "name": "python3"
  },
  "language_info": {
   "codemirror_mode": {
    "name": "ipython",
    "version": 3
   },
   "file_extension": ".py",
   "mimetype": "text/x-python",
   "name": "python",
   "nbconvert_exporter": "python",
   "pygments_lexer": "ipython3",
   "version": "3.9.7"
  },
  "orig_nbformat": 4
 },
 "nbformat": 4,
 "nbformat_minor": 2
}
