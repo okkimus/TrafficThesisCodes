{
 "cells": [
  {
   "cell_type": "code",
   "execution_count": 1,
   "metadata": {},
   "outputs": [],
   "source": [
    "import pandas as pd\n",
    "import numpy as np\n",
    "import matplotlib.pyplot as plt\n"
   ]
  },
  {
   "cell_type": "code",
   "execution_count": 2,
   "metadata": {},
   "outputs": [],
   "source": [
    "pickel_dir_path = \"YOUR_PATH\\\\data\\\\pickels_v2\"\n",
    "\n",
    "means_data = pd.read_pickle(f\"{pickel_dir_path}\\\\aggregated_car_data_2016_from_day_32_3_weeks_means.pkl\")"
   ]
  },
  {
   "cell_type": "code",
   "execution_count": 18,
   "metadata": {},
   "outputs": [],
   "source": [
    "mbd = means_data[\"mean_both_directions\"]"
   ]
  },
  {
   "cell_type": "code",
   "execution_count": 22,
   "metadata": {},
   "outputs": [],
   "source": [
    "sums = []\n",
    "for i in range(mbd.shape[0]):\n",
    "  sum = np.sum(mbd.iloc[i])\n",
    "  sums.append(sum)"
   ]
  },
  {
   "cell_type": "code",
   "execution_count": 42,
   "metadata": {},
   "outputs": [],
   "source": [
    "sums_n = np.array(sums)\n",
    "low_traffic_indices = np.where(sums_n < 288*5)"
   ]
  },
  {
   "cell_type": "code",
   "execution_count": 47,
   "metadata": {},
   "outputs": [],
   "source": [
    "listified = list(low_traffic_indices[0])\n",
    "low_traffic = means_data.iloc[listified]"
   ]
  },
  {
   "cell_type": "code",
   "execution_count": 66,
   "metadata": {},
   "outputs": [],
   "source": [
    "high_traffic_df = means_data.reset_index().drop(listified)"
   ]
  },
  {
   "cell_type": "code",
   "execution_count": 67,
   "metadata": {},
   "outputs": [
    {
     "data": {
      "text/html": [
       "<div>\n",
       "<style scoped>\n",
       "    .dataframe tbody tr th:only-of-type {\n",
       "        vertical-align: middle;\n",
       "    }\n",
       "\n",
       "    .dataframe tbody tr th {\n",
       "        vertical-align: top;\n",
       "    }\n",
       "\n",
       "    .dataframe thead th {\n",
       "        text-align: right;\n",
       "    }\n",
       "</style>\n",
       "<table border=\"1\" class=\"dataframe\">\n",
       "  <thead>\n",
       "    <tr style=\"text-align: right;\">\n",
       "      <th></th>\n",
       "      <th>lamId</th>\n",
       "      <th>lamIds</th>\n",
       "      <th>day_indices</th>\n",
       "      <th>mean_both_directions</th>\n",
       "      <th>mean_dir_1</th>\n",
       "      <th>mean_dir_2</th>\n",
       "    </tr>\n",
       "  </thead>\n",
       "  <tbody>\n",
       "    <tr>\n",
       "      <th>0</th>\n",
       "      <td>1</td>\n",
       "      <td>1</td>\n",
       "      <td>32</td>\n",
       "      <td>[4.205426356589147, 5.065217391304347, 4.78623...</td>\n",
       "      <td>[4.666666666666667, 9.333333333333334, 6.33333...</td>\n",
       "      <td>[3.0, 6.666666666666667, 7.0, 3.0, 3.333333333...</td>\n",
       "    </tr>\n",
       "    <tr>\n",
       "      <th>1</th>\n",
       "      <td>99</td>\n",
       "      <td>99</td>\n",
       "      <td>32</td>\n",
       "      <td>[9.713178294573643, 9.032608695652174, 8.47826...</td>\n",
       "      <td>[9.666666666666666, 7.666666666666667, 9.66666...</td>\n",
       "      <td>[15.666666666666666, 13.333333333333334, 10.33...</td>\n",
       "    </tr>\n",
       "    <tr>\n",
       "      <th>2</th>\n",
       "      <td>102</td>\n",
       "      <td>102</td>\n",
       "      <td>32</td>\n",
       "      <td>[4.426356589147287, 4.75, 4.634057971014492, 4...</td>\n",
       "      <td>[5.666666666666667, 6.0, 9.0, 7.33333333333333...</td>\n",
       "      <td>[3.0, 6.0, 2.3333333333333335, 8.6666666666666...</td>\n",
       "    </tr>\n",
       "    <tr>\n",
       "      <th>3</th>\n",
       "      <td>103</td>\n",
       "      <td>103</td>\n",
       "      <td>32</td>\n",
       "      <td>[7.1434108527131785, 7.278985507246377, 7.2028...</td>\n",
       "      <td>[7.666666666666667, 5.333333333333333, 12.0, 1...</td>\n",
       "      <td>[5.666666666666667, 10.333333333333334, 4.6666...</td>\n",
       "    </tr>\n",
       "    <tr>\n",
       "      <th>4</th>\n",
       "      <td>104</td>\n",
       "      <td>104</td>\n",
       "      <td>32</td>\n",
       "      <td>[5.135658914728682, 5.22463768115942, 5.003623...</td>\n",
       "      <td>[9.666666666666666, 8.666666666666666, 6.33333...</td>\n",
       "      <td>[2.0, 3.0, 4.0, 2.3333333333333335, 3.66666666...</td>\n",
       "    </tr>\n",
       "    <tr>\n",
       "      <th>...</th>\n",
       "      <td>...</td>\n",
       "      <td>...</td>\n",
       "      <td>...</td>\n",
       "      <td>...</td>\n",
       "      <td>...</td>\n",
       "      <td>...</td>\n",
       "    </tr>\n",
       "    <tr>\n",
       "      <th>387</th>\n",
       "      <td>1603</td>\n",
       "      <td>1603</td>\n",
       "      <td>32</td>\n",
       "      <td>[3.22093023255814, 3.3804347826086962, 2.42028...</td>\n",
       "      <td>[5.666666666666667, 8.0, 3.0, 3.33333333333333...</td>\n",
       "      <td>[3.3333333333333335, 2.0, 0.6666666666666666, ...</td>\n",
       "    </tr>\n",
       "    <tr>\n",
       "      <th>388</th>\n",
       "      <td>1604</td>\n",
       "      <td>1604</td>\n",
       "      <td>32</td>\n",
       "      <td>[3.8682170542635657, 3.4565217391304346, 2.847...</td>\n",
       "      <td>[6.333333333333333, 6.0, 4.666666666666667, 1....</td>\n",
       "      <td>[5.333333333333333, 3.0, 1.3333333333333333, 0...</td>\n",
       "    </tr>\n",
       "    <tr>\n",
       "      <th>389</th>\n",
       "      <td>1605</td>\n",
       "      <td>1605</td>\n",
       "      <td>32</td>\n",
       "      <td>[3.0426356589147288, 3.0905797101449277, 2.684...</td>\n",
       "      <td>[4.333333333333333, 4.0, 1.3333333333333333, 5...</td>\n",
       "      <td>[2.3333333333333335, 4.333333333333333, 3.6666...</td>\n",
       "    </tr>\n",
       "    <tr>\n",
       "      <th>390</th>\n",
       "      <td>1606</td>\n",
       "      <td>1606</td>\n",
       "      <td>32</td>\n",
       "      <td>[3.1589147286821704, 3.278985507246377, 3.4637...</td>\n",
       "      <td>[3.0, 3.0, 2.6666666666666665, 6.3333333333333...</td>\n",
       "      <td>[1.6666666666666667, 3.6666666666666665, 5.0, ...</td>\n",
       "    </tr>\n",
       "    <tr>\n",
       "      <th>391</th>\n",
       "      <td>1607</td>\n",
       "      <td>1607</td>\n",
       "      <td>32</td>\n",
       "      <td>[4.100775193798449, 3.8804347826086953, 3.8260...</td>\n",
       "      <td>[4.666666666666667, 6.0, 4.333333333333333, 5....</td>\n",
       "      <td>[5.0, 2.0, 3.6666666666666665, 5.0, 3.0, 3.0, ...</td>\n",
       "    </tr>\n",
       "  </tbody>\n",
       "</table>\n",
       "<p>317 rows × 6 columns</p>\n",
       "</div>"
      ],
      "text/plain": [
       "     lamId  lamIds  day_indices  \\\n",
       "0        1       1           32   \n",
       "1       99      99           32   \n",
       "2      102     102           32   \n",
       "3      103     103           32   \n",
       "4      104     104           32   \n",
       "..     ...     ...          ...   \n",
       "387   1603    1603           32   \n",
       "388   1604    1604           32   \n",
       "389   1605    1605           32   \n",
       "390   1606    1606           32   \n",
       "391   1607    1607           32   \n",
       "\n",
       "                                  mean_both_directions  \\\n",
       "0    [4.205426356589147, 5.065217391304347, 4.78623...   \n",
       "1    [9.713178294573643, 9.032608695652174, 8.47826...   \n",
       "2    [4.426356589147287, 4.75, 4.634057971014492, 4...   \n",
       "3    [7.1434108527131785, 7.278985507246377, 7.2028...   \n",
       "4    [5.135658914728682, 5.22463768115942, 5.003623...   \n",
       "..                                                 ...   \n",
       "387  [3.22093023255814, 3.3804347826086962, 2.42028...   \n",
       "388  [3.8682170542635657, 3.4565217391304346, 2.847...   \n",
       "389  [3.0426356589147288, 3.0905797101449277, 2.684...   \n",
       "390  [3.1589147286821704, 3.278985507246377, 3.4637...   \n",
       "391  [4.100775193798449, 3.8804347826086953, 3.8260...   \n",
       "\n",
       "                                            mean_dir_1  \\\n",
       "0    [4.666666666666667, 9.333333333333334, 6.33333...   \n",
       "1    [9.666666666666666, 7.666666666666667, 9.66666...   \n",
       "2    [5.666666666666667, 6.0, 9.0, 7.33333333333333...   \n",
       "3    [7.666666666666667, 5.333333333333333, 12.0, 1...   \n",
       "4    [9.666666666666666, 8.666666666666666, 6.33333...   \n",
       "..                                                 ...   \n",
       "387  [5.666666666666667, 8.0, 3.0, 3.33333333333333...   \n",
       "388  [6.333333333333333, 6.0, 4.666666666666667, 1....   \n",
       "389  [4.333333333333333, 4.0, 1.3333333333333333, 5...   \n",
       "390  [3.0, 3.0, 2.6666666666666665, 6.3333333333333...   \n",
       "391  [4.666666666666667, 6.0, 4.333333333333333, 5....   \n",
       "\n",
       "                                            mean_dir_2  \n",
       "0    [3.0, 6.666666666666667, 7.0, 3.0, 3.333333333...  \n",
       "1    [15.666666666666666, 13.333333333333334, 10.33...  \n",
       "2    [3.0, 6.0, 2.3333333333333335, 8.6666666666666...  \n",
       "3    [5.666666666666667, 10.333333333333334, 4.6666...  \n",
       "4    [2.0, 3.0, 4.0, 2.3333333333333335, 3.66666666...  \n",
       "..                                                 ...  \n",
       "387  [3.3333333333333335, 2.0, 0.6666666666666666, ...  \n",
       "388  [5.333333333333333, 3.0, 1.3333333333333333, 0...  \n",
       "389  [2.3333333333333335, 4.333333333333333, 3.6666...  \n",
       "390  [1.6666666666666667, 3.6666666666666665, 5.0, ...  \n",
       "391  [5.0, 2.0, 3.6666666666666665, 5.0, 3.0, 3.0, ...  \n",
       "\n",
       "[317 rows x 6 columns]"
      ]
     },
     "execution_count": 67,
     "metadata": {},
     "output_type": "execute_result"
    }
   ],
   "source": [
    "high_traffic_df"
   ]
  },
  {
   "cell_type": "code",
   "execution_count": 68,
   "metadata": {},
   "outputs": [],
   "source": [
    "high_traffic_df.to_pickle(f\"{pickel_dir_path}\\\\aggregated_car_data_2016_from_day_32_3_weeks_means_low_traffic_removed.pkl\")"
   ]
  },
  {
   "cell_type": "code",
   "execution_count": 69,
   "metadata": {},
   "outputs": [
    {
     "name": "stderr",
     "output_type": "stream",
     "text": [
      "C:\\Users\\Mikko\\anaconda3\\envs\\gradu\\lib\\site-packages\\tslearn\\bases\\bases.py:15: UserWarning: h5py not installed, hdf5 features will not be supported.\n",
      "Install h5py to use hdf5 features: http://docs.h5py.org/\n",
      "  warn(h5py_msg)\n"
     ]
    }
   ],
   "source": [
    "from tslearn.clustering import KShape\n",
    "from tslearn.clustering import TimeSeriesKMeans\n",
    "from tslearn.preprocessing import TimeSeriesScalerMeanVariance\n",
    "from tslearn.utils import to_time_series_dataset"
   ]
  },
  {
   "cell_type": "code",
   "execution_count": 95,
   "metadata": {},
   "outputs": [],
   "source": [
    "seed = 1\n",
    "transformed_data = to_time_series_dataset(high_traffic_df[\"mean_dir_2\"].to_numpy())\n",
    "scaled = TimeSeriesScalerMeanVariance(mu=0., std=1.).fit_transform(transformed_data)"
   ]
  },
  {
   "cell_type": "code",
   "execution_count": 96,
   "metadata": {},
   "outputs": [],
   "source": [
    "kshape = KShape(3, random_state=seed)\n",
    "preds_kshape = kshape.fit_predict(scaled)"
   ]
  },
  {
   "cell_type": "code",
   "execution_count": 97,
   "metadata": {},
   "outputs": [
    {
     "data": {
      "text/plain": [
       "array([   1,   99,  102,  103,  104,  105,  106,  107,  108,  109,  110,\n",
       "        111,  112,  114,  115,  116,  117,  118,  119,  122,  123,  124,\n",
       "        125,  126,  127,  128,  129,  130,  131,  133,  134,  135,  136,\n",
       "        137,  138,  139,  140,  141,  142,  143,  144,  145,  146,  147,\n",
       "        149,  150,  151,  152,  153,  155,  156,  159,  160,  162,  163,\n",
       "        164,  165,  167,  168,  169,  175,  176,  177,  178,  179,  184,\n",
       "        185,  186,  187,  188,  189,  190,  191,  192,  193,  194,  195,\n",
       "        196,  197,  198,  203,  204,  205,  206,  207,  208,  209,  210,\n",
       "        211,  221,  223,  224,  226,  227,  230,  231,  232,  233,  234,\n",
       "        235,  237,  238,  239,  240,  242,  243,  244,  245,  247,  248,\n",
       "        249,  251,  252,  254,  257,  302,  303,  304,  305,  401,  403,\n",
       "        404,  405,  406,  407,  408,  421,  422,  424,  425,  426,  428,\n",
       "        429,  430,  431,  432,  433,  435,  436,  437,  438,  439,  440,\n",
       "        441,  442,  443,  445,  446,  447,  448,  449,  450,  451,  453,\n",
       "        455,  456,  457,  458,  460,  461,  462,  463,  464,  465,  466,\n",
       "        521,  522,  524,  529,  530,  531,  533,  534,  535,  547,  550,\n",
       "        556,  558,  559,  560,  561,  562,  563,  564,  572,  573,  574,\n",
       "        575,  576,  577,  578,  579,  580,  581,  583,  586,  587,  591,\n",
       "        592,  594,  595,  596,  599,  602,  603,  604,  605,  623,  628,\n",
       "        629,  630,  631,  632,  701,  705,  724,  726,  727,  729,  730,\n",
       "        731,  733,  801,  803,  804,  821,  824,  825,  826,  827,  828,\n",
       "        832,  833,  834,  835,  836,  902,  903,  904,  905,  922,  923,\n",
       "        925,  927,  928,  929,  930,  931,  932,  933,  934,  935,  936,\n",
       "        998, 1052, 1104, 1121, 1123, 1124, 1201, 1202, 1203, 1204, 1205,\n",
       "       1221, 1223, 1226, 1227, 1228, 1229, 1231, 1235, 1236, 1237, 1238,\n",
       "       1239, 1243, 1244, 1246, 1247, 1248, 1249, 1250, 1251, 1254, 1255,\n",
       "       1301, 1322, 1323, 1329, 1401, 1404, 1424, 1431, 1437, 1438, 1439,\n",
       "       1441, 1450, 1451, 1452, 1453, 1454, 1455, 1456, 1457, 1458, 1459,\n",
       "       1460, 1463, 1601, 1602, 1603, 1604, 1605, 1606, 1607], dtype=int64)"
      ]
     },
     "execution_count": 97,
     "metadata": {},
     "output_type": "execute_result"
    }
   ],
   "source": [
    "high_traffic_df[\"lamIds\"].values"
   ]
  },
  {
   "cell_type": "code",
   "execution_count": 98,
   "metadata": {},
   "outputs": [
    {
     "data": {
      "text/plain": [
       "array([0, 0, 0, 0, 0, 0, 0, 2, 0, 2, 0, 0, 0, 0, 0, 2, 0, 1, 0, 0, 0, 1,\n",
       "       1, 2, 0, 2, 1, 0, 2, 0, 0, 0, 0, 0, 0, 0, 1, 0, 0, 0, 2, 2, 2, 2,\n",
       "       2, 2, 0, 2, 0, 2, 0, 1, 2, 2, 2, 2, 2, 2, 1, 2, 0, 0, 0, 0, 0, 0,\n",
       "       0, 0, 0, 0, 0, 0, 0, 0, 0, 1, 1, 1, 1, 0, 0, 1, 0, 1, 0, 0, 1, 1,\n",
       "       1, 1, 1, 1, 1, 1, 0, 0, 1, 1, 0, 1, 1, 1, 1, 1, 1, 0, 0, 0, 0, 0,\n",
       "       0, 1, 0, 0, 1, 0, 0, 0, 1, 1, 0, 0, 0, 0, 1, 0, 0, 1, 0, 1, 2, 1,\n",
       "       0, 0, 0, 0, 1, 1, 1, 0, 1, 2, 1, 1, 2, 0, 1, 1, 0, 1, 1, 0, 0, 1,\n",
       "       0, 2, 1, 0, 0, 1, 0, 0, 1, 0, 0, 1, 1, 1, 1, 0, 1, 2, 1, 2, 2, 1,\n",
       "       1, 1, 1, 1, 1, 0, 1, 1, 0, 1, 1, 0, 0, 0, 0, 0, 1, 2, 1, 1, 1, 1,\n",
       "       1, 1, 1, 1, 1, 1, 1, 0, 2, 2, 2, 1, 1, 1, 1, 1, 1, 2, 1, 0, 2, 1,\n",
       "       1, 1, 1, 0, 2, 1, 1, 1, 1, 0, 0, 1, 0, 0, 0, 0, 2, 0, 1, 1, 1, 1,\n",
       "       1, 1, 2, 1, 1, 1, 1, 1, 0, 1, 1, 0, 2, 1, 1, 1, 1, 1, 1, 1, 0, 0,\n",
       "       2, 0, 1, 0, 0, 1, 0, 0, 1, 2, 1, 0, 1, 1, 0, 1, 1, 1, 1, 1, 0, 1,\n",
       "       2, 1, 1, 1, 1, 1, 2, 1, 1, 1, 1, 1, 2, 1, 1, 1, 1, 1, 1, 1, 2, 1,\n",
       "       0, 1, 0, 0, 0, 0, 0, 0, 0], dtype=int64)"
      ]
     },
     "execution_count": 98,
     "metadata": {},
     "output_type": "execute_result"
    }
   ],
   "source": [
    "preds_kshape"
   ]
  },
  {
   "cell_type": "code",
   "execution_count": 99,
   "metadata": {},
   "outputs": [
    {
     "ename": "IndexError",
     "evalue": "index 3 is out of bounds for axis 0 with size 3",
     "output_type": "error",
     "traceback": [
      "\u001b[1;31m---------------------------------------------------------------------------\u001b[0m",
      "\u001b[1;31mIndexError\u001b[0m                                Traceback (most recent call last)",
      "\u001b[1;32m~\\AppData\\Local\\Temp/ipykernel_42188/1592559904.py\u001b[0m in \u001b[0;36m<module>\u001b[1;34m\u001b[0m\n\u001b[0;32m      4\u001b[0m     \u001b[1;32mfor\u001b[0m \u001b[0mxx\u001b[0m \u001b[1;32min\u001b[0m \u001b[0mscaled\u001b[0m\u001b[1;33m[\u001b[0m\u001b[0mpreds_kshape\u001b[0m \u001b[1;33m==\u001b[0m \u001b[0myi\u001b[0m\u001b[1;33m]\u001b[0m\u001b[1;33m:\u001b[0m\u001b[1;33m\u001b[0m\u001b[1;33m\u001b[0m\u001b[0m\n\u001b[0;32m      5\u001b[0m         \u001b[0mplt\u001b[0m\u001b[1;33m.\u001b[0m\u001b[0mplot\u001b[0m\u001b[1;33m(\u001b[0m\u001b[0mxx\u001b[0m\u001b[1;33m.\u001b[0m\u001b[0mravel\u001b[0m\u001b[1;33m(\u001b[0m\u001b[1;33m)\u001b[0m\u001b[1;33m,\u001b[0m \u001b[1;34m\"k-\"\u001b[0m\u001b[1;33m,\u001b[0m \u001b[0malpha\u001b[0m\u001b[1;33m=\u001b[0m\u001b[1;36m.2\u001b[0m\u001b[1;33m)\u001b[0m\u001b[1;33m\u001b[0m\u001b[1;33m\u001b[0m\u001b[0m\n\u001b[1;32m----> 6\u001b[1;33m     \u001b[0mplt\u001b[0m\u001b[1;33m.\u001b[0m\u001b[0mplot\u001b[0m\u001b[1;33m(\u001b[0m\u001b[0mkshape\u001b[0m\u001b[1;33m.\u001b[0m\u001b[0mcluster_centers_\u001b[0m\u001b[1;33m[\u001b[0m\u001b[0myi\u001b[0m\u001b[1;33m]\u001b[0m\u001b[1;33m.\u001b[0m\u001b[0mravel\u001b[0m\u001b[1;33m(\u001b[0m\u001b[1;33m)\u001b[0m\u001b[1;33m,\u001b[0m \u001b[1;34m\"r-\"\u001b[0m\u001b[1;33m)\u001b[0m\u001b[1;33m\u001b[0m\u001b[1;33m\u001b[0m\u001b[0m\n\u001b[0m\u001b[0;32m      7\u001b[0m     \u001b[0mplt\u001b[0m\u001b[1;33m.\u001b[0m\u001b[0mxlim\u001b[0m\u001b[1;33m(\u001b[0m\u001b[1;36m0\u001b[0m\u001b[1;33m,\u001b[0m \u001b[0mscaled\u001b[0m\u001b[1;33m.\u001b[0m\u001b[0mshape\u001b[0m\u001b[1;33m[\u001b[0m\u001b[1;36m1\u001b[0m\u001b[1;33m]\u001b[0m\u001b[1;33m)\u001b[0m\u001b[1;33m\u001b[0m\u001b[1;33m\u001b[0m\u001b[0m\n\u001b[0;32m      8\u001b[0m     \u001b[0mplt\u001b[0m\u001b[1;33m.\u001b[0m\u001b[0mylim\u001b[0m\u001b[1;33m(\u001b[0m\u001b[1;33m-\u001b[0m\u001b[1;36m4\u001b[0m\u001b[1;33m,\u001b[0m \u001b[1;36m4\u001b[0m\u001b[1;33m)\u001b[0m\u001b[1;33m\u001b[0m\u001b[1;33m\u001b[0m\u001b[0m\n",
      "\u001b[1;31mIndexError\u001b[0m: index 3 is out of bounds for axis 0 with size 3"
     ]
    },
    {
     "data": {
      "image/png": "[encoded data removed]",
      "text/plain": [
       "<Figure size 432x288 with 4 Axes>"
      ]
     },
     "metadata": {
      "needs_background": "light"
     },
     "output_type": "display_data"
    }
   ],
   "source": [
    "plt.figure()\n",
    "for yi in range(5):\n",
    "    plt.subplot(3, 2, 1 + yi)\n",
    "    for xx in scaled[preds_kshape == yi]:\n",
    "        plt.plot(xx.ravel(), \"k-\", alpha=.2)\n",
    "    plt.plot(kshape.cluster_centers_[yi].ravel(), \"r-\")\n",
    "    plt.xlim(0, scaled.shape[1])\n",
    "    plt.ylim(-4, 4)\n",
    "    plt.title(\"Cluster %d\" % (yi + 1))\n",
    "\n",
    "plt.tight_layout()\n",
    "plt.show()"
   ]
  },
  {
   "cell_type": "code",
   "execution_count": null,
   "metadata": {},
   "outputs": [],
   "source": []
  }
 ],
 "metadata": {
  "interpreter": {
   "hash": "3c0b52ca80764a1dd840b1e249101c987e7c79ab6aa47aa3ae0c0a2c7735eb98"
  },
  "kernelspec": {
   "display_name": "Python 3.9.7 64-bit ('gradu': conda)",
   "language": "python",
   "name": "python3"
  },
  "language_info": {
   "codemirror_mode": {
    "name": "ipython",
    "version": 3
   },
   "file_extension": ".py",
   "mimetype": "text/x-python",
   "name": "python",
   "nbconvert_exporter": "python",
   "pygments_lexer": "ipython3",
   "version": "3.9.7"
  },
  "orig_nbformat": 4
 },
 "nbformat": 4,
 "nbformat_minor": 2
}
