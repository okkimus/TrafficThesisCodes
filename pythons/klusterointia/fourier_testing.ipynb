{
 "cells": [
  {
   "cell_type": "code",
   "execution_count": 19,
   "metadata": {},
   "outputs": [],
   "source": [
    "import statsmodels.api as sm\n",
    "from DataPaths import Paths\n",
    "from DatasetReader import DatasetReader\n",
    "import numpy as np\n",
    "import matplotlib.pyplot as plt\n",
    "import pandas as pd"
   ]
  },
  {
   "cell_type": "code",
   "execution_count": 2,
   "metadata": {},
   "outputs": [],
   "source": [
    "# res = sm.tsa.seasonal_decompose(data.co2)\n",
    "# resplot = res.plot()"
   ]
  },
  {
   "cell_type": "code",
   "execution_count": 4,
   "metadata": {},
   "outputs": [],
   "source": [
    "# Get year of CarCount data\n",
    "dr = DatasetReader()\n",
    "contents = dr.read_directories(Paths.full_year_pickle_path)"
   ]
  },
  {
   "cell_type": "code",
   "execution_count": 5,
   "metadata": {},
   "outputs": [
    {
     "data": {
      "text/plain": [
       "Directories: ['testfolder']\n",
       "Files: ['full_year_2016_CarCount.pkl', 'full_year_2017_CarCount.pkl', 'full_year_2020_CarCount.pkl', 'full_year_2021_CarCount.pkl']\n",
       "Full file paths: ['YOUR_PATH\\\\data\\\\full_year_pickles\\\\full_year_2016_CarCount.pkl', 'YOUR_PATH\\\\data\\\\full_year_pickles\\\\full_year_2017_CarCount.pkl', 'YOUR_PATH\\\\data\\\\full_year_pickles\\\\full_year_2020_CarCount.pkl', 'YOUR_PATH\\\\data\\\\full_year_pickles\\\\full_year_2021_CarCount.pkl']"
      ]
     },
     "execution_count": 5,
     "metadata": {},
     "output_type": "execute_result"
    }
   ],
   "source": [
    "contents"
   ]
  },
  {
   "cell_type": "code",
   "execution_count": 57,
   "metadata": {},
   "outputs": [],
   "source": [
    "path_2021 = \"YOUR_PATH\\\\data\\\\full_year_pickles\\\\full_year_2020_CarCount.pkl\"\n",
    "df = dr.read_pickle(path_2021)"
   ]
  },
  {
   "cell_type": "code",
   "execution_count": 58,
   "metadata": {},
   "outputs": [],
   "source": [
    "lam_1 = df[df[\"lamId\"] == 99]\n",
    "lam_1_dir_1 = lam_1[lam_1[\"direction\"] == 1]\n",
    "one_weekday = lam_1_dir_1[lam_1_dir_1[\"day\"] % 7 == 0]"
   ]
  },
  {
   "cell_type": "code",
   "execution_count": 59,
   "metadata": {},
   "outputs": [],
   "source": [
    "year_of_lam_1 = np.concatenate(one_weekday[\"CarCount\"].values)"
   ]
  },
  {
   "cell_type": "code",
   "execution_count": 60,
   "metadata": {},
   "outputs": [
    {
     "data": {
      "text/plain": [
       "(14688,)"
      ]
     },
     "execution_count": 60,
     "metadata": {},
     "output_type": "execute_result"
    }
   ],
   "source": [
    "year_of_lam_1.shape"
   ]
  },
  {
   "cell_type": "code",
   "execution_count": 62,
   "metadata": {},
   "outputs": [
    {
     "data": {
      "text/plain": [
       "[<matplotlib.lines.Line2D at 0x1cd467d2430>]"
      ]
     },
     "execution_count": 62,
     "metadata": {},
     "output_type": "execute_result"
    }
   ],
   "source": [
    "plt.plot(year_of_lam_1)"
   ]
  },
  {
   "cell_type": "code",
   "execution_count": 101,
   "metadata": {},
   "outputs": [],
   "source": [
    "len_d = len(year_of_lam_1)\n",
    "year_series = pd.Series(year_of_lam_1, index=pd.date_range(\"2020\", freq=\"H\", periods=len_d))"
   ]
  },
  {
   "cell_type": "code",
   "execution_count": 64,
   "metadata": {},
   "outputs": [],
   "source": [
    "res = sm.tsa.seasonal_decompose(year_series)\n",
    "resplot = res.plot()"
   ]
  },
  {
   "cell_type": "code",
   "execution_count": null,
   "metadata": {},
   "outputs": [],
   "source": []
  },
  {
   "cell_type": "code",
   "execution_count": 102,
   "metadata": {},
   "outputs": [],
   "source": [
    "summed_car_counts = lam_1_dir_1[\"CarCount\"].map(sum).values"
   ]
  },
  {
   "cell_type": "code",
   "execution_count": 103,
   "metadata": {},
   "outputs": [
    {
     "data": {
      "text/plain": [
       "[<matplotlib.lines.Line2D at 0x1cd4de0be20>]"
      ]
     },
     "execution_count": 103,
     "metadata": {},
     "output_type": "execute_result"
    }
   ],
   "source": [
    "plt.plot(summed_car_counts)"
   ]
  },
  {
   "cell_type": "code",
   "execution_count": 93,
   "metadata": {},
   "outputs": [],
   "source": [
    "%matplotlib qt\n",
    "summed_car_year = pd.Series(summed_car_counts, index=pd.date_range(pd.to_datetime(\"1.9.2020\"), freq=\"D\", periods=len(summed_car_counts)))\n",
    "res = sm.tsa.seasonal_decompose(summed_car_year)\n",
    "resplot = res.plot()"
   ]
  },
  {
   "cell_type": "code",
   "execution_count": 55,
   "metadata": {},
   "outputs": [
    {
     "data": {
      "text/plain": [
       "[<matplotlib.lines.Line2D at 0x1cd4481ccd0>]"
      ]
     },
     "execution_count": 55,
     "metadata": {},
     "output_type": "execute_result"
    },
    {
     "data": {
      "image/png": "[encoded data removed]",
      "text/plain": [
       "<Figure size 432x288 with 1 Axes>"
      ]
     },
     "metadata": {
      "needs_background": "light"
     },
     "output_type": "display_data"
    }
   ],
   "source": [
    "plt.plot(res.trend)"
   ]
  },
  {
   "cell_type": "code",
   "execution_count": 79,
   "metadata": {},
   "outputs": [
    {
     "data": {
      "text/plain": [
       "2020-01-09    13259\n",
       "2020-01-10    23682\n",
       "2020-01-11    16904\n",
       "2020-01-12    13739\n",
       "2020-01-13    19695\n",
       "              ...  \n",
       "2020-12-26    14688\n",
       "2020-12-27    18170\n",
       "2020-12-28    15991\n",
       "2020-12-29    20282\n",
       "2020-12-30    18674\n",
       "Freq: D, Length: 357, dtype: int32"
      ]
     },
     "execution_count": 79,
     "metadata": {},
     "output_type": "execute_result"
    }
   ],
   "source": [
    "summed_car_year"
   ]
  },
  {
   "cell_type": "code",
   "execution_count": 73,
   "metadata": {},
   "outputs": [
    {
     "data": {
      "text/plain": [
       "20      9\n",
       "20     10\n",
       "20     11\n",
       "20     12\n",
       "20     13\n",
       "     ... \n",
       "24    362\n",
       "24    363\n",
       "24    364\n",
       "24    365\n",
       "24    366\n",
       "Name: day, Length: 357, dtype: int64"
      ]
     },
     "execution_count": 73,
     "metadata": {},
     "output_type": "execute_result"
    }
   ],
   "source": [
    "lam_1_dir_1[\"day\"]"
   ]
  },
  {
   "cell_type": "code",
   "execution_count": 75,
   "metadata": {},
   "outputs": [
    {
     "data": {
      "text/plain": [
       "Timestamp('2020-09-01 00:00:00')"
      ]
     },
     "execution_count": 75,
     "metadata": {},
     "output_type": "execute_result"
    }
   ],
   "source": []
  },
  {
   "cell_type": "code",
   "execution_count": 81,
   "metadata": {},
   "outputs": [],
   "source": [
    "path_2017 = \"YOUR_PATH\\\\data\\\\full_year_pickles\\\\full_year_2017_CarCount.pkl\"\n",
    "df2 = dr.read_pickle(path_2017)"
   ]
  },
  {
   "cell_type": "code",
   "execution_count": 82,
   "metadata": {},
   "outputs": [],
   "source": [
    "lam_1_2017 = df2[df2[\"lamId\"] == 99]\n",
    "lam_1_2017_dir_1 = lam_1_2017[lam_1_2017[\"direction\"] == 1]\n",
    "one_weekday = lam_1_2017_dir_1[lam_1_2017_dir_1[\"day\"] % 7 == 0]"
   ]
  },
  {
   "cell_type": "code",
   "execution_count": 100,
   "metadata": {},
   "outputs": [],
   "source": [
    "%matplotlib qt\n",
    "summed_car_counts_2017 = lam_1_2017_dir_1[\"CarCount\"].map(sum).values\n",
    "summed_car_year_2017 = pd.Series(summed_car_counts_2017, index=pd.date_range(pd.to_datetime(\"1.1.2017\"), freq=\"D\", periods=len(summed_car_counts_2017)))\n",
    "res2 = sm.tsa.seasonal_decompose(summed_car_year_2017)\n",
    "resplot = res2.plot()"
   ]
  },
  {
   "cell_type": "code",
   "execution_count": 90,
   "metadata": {},
   "outputs": [],
   "source": [
    "days = lam_1_2017_dir_1[\"day\"].unique()"
   ]
  },
  {
   "cell_type": "code",
   "execution_count": 91,
   "metadata": {},
   "outputs": [
    {
     "name": "stdout",
     "output_type": "stream",
     "text": [
      "198\n",
      "199\n",
      "200\n",
      "201\n",
      "202\n",
      "212\n",
      "213\n",
      "214\n",
      "215\n",
      "216\n",
      "217\n",
      "218\n",
      "219\n",
      "220\n",
      "221\n",
      "222\n",
      "223\n",
      "224\n",
      "225\n",
      "226\n",
      "227\n",
      "228\n"
     ]
    }
   ],
   "source": [
    "for i in range(1, 366):\n",
    "  if i not in days:\n",
    "    print(i)"
   ]
  },
  {
   "cell_type": "code",
   "execution_count": 98,
   "metadata": {},
   "outputs": [
    {
     "data": {
      "text/plain": [
       "[<matplotlib.lines.Line2D at 0x1cd43eb14f0>]"
      ]
     },
     "execution_count": 98,
     "metadata": {},
     "output_type": "execute_result"
    }
   ],
   "source": [
    "plt.plot(res.trend-res2.trend)"
   ]
  },
  {
   "cell_type": "code",
   "execution_count": null,
   "metadata": {},
   "outputs": [],
   "source": []
  }
 ],
 "metadata": {
  "interpreter": {
   "hash": "3c0b52ca80764a1dd840b1e249101c987e7c79ab6aa47aa3ae0c0a2c7735eb98"
  },
  "kernelspec": {
   "display_name": "Python 3.9.7 64-bit ('gradu': conda)",
   "language": "python",
   "name": "python3"
  },
  "language_info": {
   "codemirror_mode": {
    "name": "ipython",
    "version": 3
   },
   "file_extension": ".py",
   "mimetype": "text/x-python",
   "name": "python",
   "nbconvert_exporter": "python",
   "pygments_lexer": "ipython3",
   "version": "3.9.7"
  },
  "orig_nbformat": 4
 },
 "nbformat": 4,
 "nbformat_minor": 2
}
