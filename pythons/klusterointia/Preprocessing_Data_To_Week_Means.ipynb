{
 "cells": [
  {
   "cell_type": "code",
   "execution_count": 1,
   "metadata": {},
   "outputs": [],
   "source": [
    "import importlib\n",
    "import DataPaths\n",
    "import DatasetReader\n",
    "import MeanMaker\n",
    "importlib.reload(MeanMaker)\n",
    "importlib.reload(DataPaths)\n",
    "importlib.reload(DatasetReader)\n",
    "\n",
    "import pandas as pd"
   ]
  },
  {
   "cell_type": "code",
   "execution_count": 2,
   "metadata": {},
   "outputs": [],
   "source": [
    "mm = MeanMaker.MeanMaker()\n",
    "dr = DatasetReader.DatasetReader()"
   ]
  },
  {
   "cell_type": "code",
   "execution_count": 3,
   "metadata": {},
   "outputs": [],
   "source": [
    "full_year_contents = dr.read_directories(DataPaths.Paths.full_year_pickle_path)"
   ]
  },
  {
   "cell_type": "code",
   "execution_count": 4,
   "metadata": {},
   "outputs": [
    {
     "data": {
      "text/plain": [
       "Directories: ['testfolder']\n",
       "Files: ['full_year_2016_CarCount.pkl', 'full_year_2017_CarCount.pkl', 'full_year_2020_CarCount.pkl', 'full_year_2021_CarCount.pkl']\n",
       "Full file paths: ['YOUR_PATH\\\\data\\\\full_year_pickles\\\\full_year_2016_CarCount.pkl', 'YOUR_PATH\\\\data\\\\full_year_pickles\\\\full_year_2017_CarCount.pkl', 'YOUR_PATH\\\\data\\\\full_year_pickles\\\\full_year_2020_CarCount.pkl', 'YOUR_PATH\\\\data\\\\full_year_pickles\\\\full_year_2021_CarCount.pkl']"
      ]
     },
     "execution_count": 4,
     "metadata": {},
     "output_type": "execute_result"
    }
   ],
   "source": [
    "full_year_contents"
   ]
  },
  {
   "cell_type": "code",
   "execution_count": 5,
   "metadata": {},
   "outputs": [
    {
     "name": "stdout",
     "output_type": "stream",
     "text": [
      "[158, 159, 160, 161, 162, 163, 164]\n",
      "[165, 166, 167, 168, 169, 170, 171]\n",
      "[172, 173, 174, 175, 176, 177, 178]\n",
      "[156, 157, 158, 159, 160, 161, 162]\n",
      "[163, 164, 165, 166, 167, 168, 169]\n",
      "[170, 171, 172, 173, 174, 175, 176]\n",
      "[153, 154, 155, 156, 157, 158, 159]\n",
      "[160, 161, 162, 163, 164, 165, 166]\n",
      "[167, 168, 169, 170, 171, 172, 173]\n",
      "[158, 159, 160, 161, 162, 163, 164]\n",
      "[165, 166, 167, 168, 169, 170, 171]\n",
      "[172, 173, 174, 175, 176, 177, 178]\n"
     ]
    }
   ],
   "source": [
    "all_means = []\n",
    "for path in full_year_contents.full_file_paths:\n",
    "  year = int(path.split(\"_\")[-2])\n",
    "  means_df = mm.create_means_from_monday(1, 6, year, 3, dr.read_pickle(path), \"CarCount\")\n",
    "  all_means.append(means_df)\n",
    "\n",
    "data = pd.concat(all_means)"
   ]
  },
  {
   "cell_type": "code",
   "execution_count": 6,
   "metadata": {},
   "outputs": [
    {
     "data": {
      "text/html": [
       "<div>\n",
       "<style scoped>\n",
       "    .dataframe tbody tr th:only-of-type {\n",
       "        vertical-align: middle;\n",
       "    }\n",
       "\n",
       "    .dataframe tbody tr th {\n",
       "        vertical-align: top;\n",
       "    }\n",
       "\n",
       "    .dataframe thead th {\n",
       "        text-align: right;\n",
       "    }\n",
       "</style>\n",
       "<table border=\"1\" class=\"dataframe\">\n",
       "  <thead>\n",
       "    <tr style=\"text-align: right;\">\n",
       "      <th></th>\n",
       "      <th>lamId</th>\n",
       "      <th>year</th>\n",
       "      <th>startDay</th>\n",
       "      <th>weeksInMean</th>\n",
       "      <th>direction</th>\n",
       "      <th>CarCount</th>\n",
       "    </tr>\n",
       "  </thead>\n",
       "  <tbody>\n",
       "    <tr>\n",
       "      <th>0</th>\n",
       "      <td>1</td>\n",
       "      <td>2016</td>\n",
       "      <td>158</td>\n",
       "      <td>3</td>\n",
       "      <td>1</td>\n",
       "      <td>[14.666666666666666, 9.666666666666666, 13.0, ...</td>\n",
       "    </tr>\n",
       "    <tr>\n",
       "      <th>1</th>\n",
       "      <td>1</td>\n",
       "      <td>2016</td>\n",
       "      <td>158</td>\n",
       "      <td>3</td>\n",
       "      <td>2</td>\n",
       "      <td>[16.0, 10.666666666666666, 14.0, 11.3333333333...</td>\n",
       "    </tr>\n",
       "    <tr>\n",
       "      <th>2</th>\n",
       "      <td>99</td>\n",
       "      <td>2016</td>\n",
       "      <td>158</td>\n",
       "      <td>3</td>\n",
       "      <td>1</td>\n",
       "      <td>[16.0, 16.333333333333332, 9.666666666666666, ...</td>\n",
       "    </tr>\n",
       "    <tr>\n",
       "      <th>3</th>\n",
       "      <td>99</td>\n",
       "      <td>2016</td>\n",
       "      <td>158</td>\n",
       "      <td>3</td>\n",
       "      <td>2</td>\n",
       "      <td>[26.333333333333332, 28.333333333333332, 30.66...</td>\n",
       "    </tr>\n",
       "    <tr>\n",
       "      <th>4</th>\n",
       "      <td>102</td>\n",
       "      <td>2016</td>\n",
       "      <td>158</td>\n",
       "      <td>3</td>\n",
       "      <td>1</td>\n",
       "      <td>[9.666666666666666, 12.0, 11.333333333333334, ...</td>\n",
       "    </tr>\n",
       "    <tr>\n",
       "      <th>...</th>\n",
       "      <td>...</td>\n",
       "      <td>...</td>\n",
       "      <td>...</td>\n",
       "      <td>...</td>\n",
       "      <td>...</td>\n",
       "      <td>...</td>\n",
       "    </tr>\n",
       "    <tr>\n",
       "      <th>817</th>\n",
       "      <td>1604</td>\n",
       "      <td>2021</td>\n",
       "      <td>158</td>\n",
       "      <td>3</td>\n",
       "      <td>2</td>\n",
       "      <td>[14.333333333333334, 8.0, 4.0, 9.0, 6.33333333...</td>\n",
       "    </tr>\n",
       "    <tr>\n",
       "      <th>818</th>\n",
       "      <td>1605</td>\n",
       "      <td>2021</td>\n",
       "      <td>158</td>\n",
       "      <td>3</td>\n",
       "      <td>1</td>\n",
       "      <td>[12.666666666666666, 7.666666666666667, 8.0, 5...</td>\n",
       "    </tr>\n",
       "    <tr>\n",
       "      <th>819</th>\n",
       "      <td>1605</td>\n",
       "      <td>2021</td>\n",
       "      <td>158</td>\n",
       "      <td>3</td>\n",
       "      <td>2</td>\n",
       "      <td>[17.0, 12.0, 7.333333333333333, 4.0, 10.333333...</td>\n",
       "    </tr>\n",
       "    <tr>\n",
       "      <th>820</th>\n",
       "      <td>1606</td>\n",
       "      <td>2021</td>\n",
       "      <td>158</td>\n",
       "      <td>3</td>\n",
       "      <td>1</td>\n",
       "      <td>[12.0, 6.666666666666667, 8.0, 6.3333333333333...</td>\n",
       "    </tr>\n",
       "    <tr>\n",
       "      <th>821</th>\n",
       "      <td>1606</td>\n",
       "      <td>2021</td>\n",
       "      <td>158</td>\n",
       "      <td>3</td>\n",
       "      <td>2</td>\n",
       "      <td>[16.666666666666668, 15.0, 10.333333333333334,...</td>\n",
       "    </tr>\n",
       "  </tbody>\n",
       "</table>\n",
       "<p>3218 rows × 6 columns</p>\n",
       "</div>"
      ],
      "text/plain": [
       "     lamId  year  startDay  weeksInMean  direction  \\\n",
       "0        1  2016       158            3          1   \n",
       "1        1  2016       158            3          2   \n",
       "2       99  2016       158            3          1   \n",
       "3       99  2016       158            3          2   \n",
       "4      102  2016       158            3          1   \n",
       "..     ...   ...       ...          ...        ...   \n",
       "817   1604  2021       158            3          2   \n",
       "818   1605  2021       158            3          1   \n",
       "819   1605  2021       158            3          2   \n",
       "820   1606  2021       158            3          1   \n",
       "821   1606  2021       158            3          2   \n",
       "\n",
       "                                              CarCount  \n",
       "0    [14.666666666666666, 9.666666666666666, 13.0, ...  \n",
       "1    [16.0, 10.666666666666666, 14.0, 11.3333333333...  \n",
       "2    [16.0, 16.333333333333332, 9.666666666666666, ...  \n",
       "3    [26.333333333333332, 28.333333333333332, 30.66...  \n",
       "4    [9.666666666666666, 12.0, 11.333333333333334, ...  \n",
       "..                                                 ...  \n",
       "817  [14.333333333333334, 8.0, 4.0, 9.0, 6.33333333...  \n",
       "818  [12.666666666666666, 7.666666666666667, 8.0, 5...  \n",
       "819  [17.0, 12.0, 7.333333333333333, 4.0, 10.333333...  \n",
       "820  [12.0, 6.666666666666667, 8.0, 6.3333333333333...  \n",
       "821  [16.666666666666668, 15.0, 10.333333333333334,...  \n",
       "\n",
       "[3218 rows x 6 columns]"
      ]
     },
     "execution_count": 6,
     "metadata": {},
     "output_type": "execute_result"
    }
   ],
   "source": [
    "data"
   ]
  },
  {
   "cell_type": "code",
   "execution_count": 7,
   "metadata": {},
   "outputs": [],
   "source": [
    "lam_1 = data[data[\"lamId\"]==3]"
   ]
  },
  {
   "cell_type": "code",
   "execution_count": 8,
   "metadata": {},
   "outputs": [],
   "source": [
    "lam_1_dir_1 = lam_1[lam_1[\"direction\"]==2]"
   ]
  },
  {
   "cell_type": "code",
   "execution_count": 9,
   "metadata": {},
   "outputs": [
    {
     "data": {
      "text/html": [
       "<div>\n",
       "<style scoped>\n",
       "    .dataframe tbody tr th:only-of-type {\n",
       "        vertical-align: middle;\n",
       "    }\n",
       "\n",
       "    .dataframe tbody tr th {\n",
       "        vertical-align: top;\n",
       "    }\n",
       "\n",
       "    .dataframe thead th {\n",
       "        text-align: right;\n",
       "    }\n",
       "</style>\n",
       "<table border=\"1\" class=\"dataframe\">\n",
       "  <thead>\n",
       "    <tr style=\"text-align: right;\">\n",
       "      <th></th>\n",
       "      <th>lamId</th>\n",
       "      <th>year</th>\n",
       "      <th>startDay</th>\n",
       "      <th>weeksInMean</th>\n",
       "      <th>direction</th>\n",
       "      <th>CarCount</th>\n",
       "    </tr>\n",
       "  </thead>\n",
       "  <tbody>\n",
       "    <tr>\n",
       "      <th>3</th>\n",
       "      <td>3</td>\n",
       "      <td>2017</td>\n",
       "      <td>156</td>\n",
       "      <td>3</td>\n",
       "      <td>2</td>\n",
       "      <td>[13.0, 12.0, 11.0, 8.333333333333334, 4.0, 7.3...</td>\n",
       "    </tr>\n",
       "    <tr>\n",
       "      <th>3</th>\n",
       "      <td>3</td>\n",
       "      <td>2021</td>\n",
       "      <td>158</td>\n",
       "      <td>3</td>\n",
       "      <td>2</td>\n",
       "      <td>[20.0, 16.0, 13.0, 11.0, 17.0, 12.0, 11.0, 14....</td>\n",
       "    </tr>\n",
       "  </tbody>\n",
       "</table>\n",
       "</div>"
      ],
      "text/plain": [
       "   lamId  year  startDay  weeksInMean  direction  \\\n",
       "3      3  2017       156            3          2   \n",
       "3      3  2021       158            3          2   \n",
       "\n",
       "                                            CarCount  \n",
       "3  [13.0, 12.0, 11.0, 8.333333333333334, 4.0, 7.3...  \n",
       "3  [20.0, 16.0, 13.0, 11.0, 17.0, 12.0, 11.0, 14....  "
      ]
     },
     "execution_count": 9,
     "metadata": {},
     "output_type": "execute_result"
    }
   ],
   "source": [
    "lam_1_dir_1"
   ]
  },
  {
   "cell_type": "code",
   "execution_count": 10,
   "metadata": {},
   "outputs": [],
   "source": [
    "import matplotlib.pyplot as plt\n",
    "import numpy as np"
   ]
  },
  {
   "cell_type": "code",
   "execution_count": 11,
   "metadata": {},
   "outputs": [],
   "source": [
    "def blur(data, blur_range):\n",
    "  data_len = len(data)\n",
    "  blurred = []\n",
    "  for i in range(data_len):\n",
    "    sum = 0\n",
    "    count = 0\n",
    "    for j in range(i-1, i+blur_range+1):\n",
    "      if j < 0 or j > data_len-1:\n",
    "        continue\n",
    "      sum += data[j]\n",
    "      count += 1\n",
    "    blurred.append(sum / count)\n",
    "  return blurred\n"
   ]
  },
  {
   "cell_type": "code",
   "execution_count": 12,
   "metadata": {},
   "outputs": [
    {
     "data": {
      "text/plain": [
       "<matplotlib.legend.Legend at 0x202534b9100>"
      ]
     },
     "execution_count": 12,
     "metadata": {},
     "output_type": "execute_result"
    }
   ],
   "source": [
    "%matplotlib qt \n",
    "blur_amount = 20\n",
    "hours = np.array([i for i in range(2016)]) / 12\n",
    "# plt.plot(hours, blur(lam_1_dir_1[\"CarCount\"].values[0], blur_amount), label=\"2016\")\n",
    "plt.plot(hours, blur(lam_1_dir_1[\"CarCount\"].values[0], blur_amount), label=\"2017\")\n",
    "# plt.plot(hours, blur(lam_1_dir_1[\"CarCount\"].values[2], blur_amount), label=\"2020\")\n",
    "plt.plot(hours, blur(lam_1_dir_1[\"CarCount\"].values[1], blur_amount), label=\"2021\")\n",
    "plt.legend()"
   ]
  },
  {
   "cell_type": "code",
   "execution_count": 135,
   "metadata": {},
   "outputs": [],
   "source": [
    "filtered = data.groupby([\"lamId\", \"direction\"]).filter(lambda x: len(x) == 4)"
   ]
  },
  {
   "cell_type": "code",
   "execution_count": 136,
   "metadata": {},
   "outputs": [],
   "source": [
    "def vis_4years(lam_id, direction):\n",
    "  vis_data = filtered[filtered[\"lamId\"] == lam_id]\n",
    "  vis_data = vis_data[vis_data[\"direction\"] == direction]\n",
    "\n",
    "  blur_amount = 20\n",
    "  hours = np.array([i for i in range(2016)]) / 12\n",
    "  plt.plot(hours, blur(vis_data[\"CarCount\"].values[0], blur_amount), label=\"2016\")\n",
    "  plt.plot(hours, blur(vis_data[\"CarCount\"].values[1], blur_amount), label=\"2017\")\n",
    "  plt.plot(hours, blur(vis_data[\"CarCount\"].values[2], blur_amount), label=\"2020\")\n",
    "  plt.plot(hours, blur(vis_data[\"CarCount\"].values[3], blur_amount), label=\"2021\")\n",
    "  plt.legend()"
   ]
  },
  {
   "cell_type": "code",
   "execution_count": 138,
   "metadata": {},
   "outputs": [
    {
     "data": {
      "text/plain": [
       "array([   1,   99,  104,  105,  106,  107,  108,  109,  110,  111,  112,\n",
       "        114,  115,  116,  117,  119,  121,  122,  123,  124,  127,  129,\n",
       "        131,  133,  134,  135,  138,  139,  141,  142,  143,  144,  145,\n",
       "        146,  147,  149,  150,  151,  152,  153,  155,  158,  159,  160,\n",
       "        162,  163,  164,  165,  169,  172,  175,  176,  177,  178,  182,\n",
       "        183,  184,  185,  186,  187,  188,  190,  191,  192,  193,  194,\n",
       "        195,  196,  197,  198,  201,  203,  204,  205,  206,  207,  208,\n",
       "        209,  210,  211,  221,  223,  224,  225,  226,  227,  231,  232,\n",
       "        233,  234,  235,  237,  239,  242,  243,  244,  247,  248,  249,\n",
       "        251,  252,  254,  255,  257,  302,  303,  304,  305,  306,  401,\n",
       "        402,  403,  404,  405,  406,  407,  408,  409,  421,  422,  424,\n",
       "        425,  426,  428,  430,  431,  433,  435,  436,  437,  438,  439,\n",
       "        440,  442,  445,  447,  448,  449,  450,  451,  453,  455,  456,\n",
       "        458,  460,  461,  462,  463,  464,  465,  466,  501,  521,  526,\n",
       "        527,  528,  529,  530,  531,  532,  533,  534,  535,  547,  550,\n",
       "        556,  558,  559,  560,  561,  562,  563,  564,  574,  576,  577,\n",
       "        578,  579,  580,  581,  582,  583,  584,  586,  587,  591,  595,\n",
       "        596,  597,  598,  602,  603,  604,  605,  607,  622,  623,  628,\n",
       "        629,  630,  631,  701,  704,  705,  723,  724,  725,  726,  727,\n",
       "        729,  730,  731,  732,  733,  801,  803,  804,  805,  806,  821,\n",
       "        822,  824,  825,  826,  827,  832,  833,  834,  835,  836,  902,\n",
       "        903,  904,  905,  923,  925,  927,  931,  933,  934,  935,  936,\n",
       "        998, 1052, 1101, 1104, 1105, 1121, 1123, 1124, 1201, 1202, 1203,\n",
       "       1205, 1221, 1222, 1223, 1224, 1225, 1227, 1228, 1229, 1230, 1231,\n",
       "       1232, 1233, 1234, 1235, 1236, 1237, 1238, 1239, 1243, 1244, 1246,\n",
       "       1247, 1248, 1249, 1250, 1251, 1252, 1254, 1255, 1301, 1302, 1303,\n",
       "       1321, 1322, 1323, 1324, 1325, 1326, 1327, 1328, 1329, 1401, 1402,\n",
       "       1403, 1404, 1405, 1421, 1422, 1423, 1424, 1425, 1426, 1427, 1429,\n",
       "       1431, 1432, 1433, 1434, 1435, 1436, 1437, 1439, 1441, 1442, 1443,\n",
       "       1444, 1445, 1446, 1447, 1448, 1449, 1451, 1452, 1453, 1454, 1455,\n",
       "       1456, 1457, 1458, 1459, 1460, 1461, 1462, 1463, 1602, 1604, 1605,\n",
       "       1606], dtype=int64)"
      ]
     },
     "execution_count": 138,
     "metadata": {},
     "output_type": "execute_result"
    }
   ],
   "source": [
    "filtered[\"lamId\"].unique()"
   ]
  },
  {
   "cell_type": "code",
   "execution_count": 147,
   "metadata": {},
   "outputs": [],
   "source": [
    "vis_4years(110, 2)"
   ]
  },
  {
   "cell_type": "code",
   "execution_count": 148,
   "metadata": {},
   "outputs": [
    {
     "name": "stdout",
     "output_type": "stream",
     "text": [
      "[62, 63, 64, 65, 66, 67, 68]\n",
      "[69, 70, 71, 72, 73, 74, 75]\n",
      "[76, 77, 78, 79, 80, 81, 82]\n",
      "[97, 98, 99, 100, 101, 102, 103]\n",
      "[104, 105, 106, 107, 108, 109, 110]\n",
      "[111, 112, 113, 114, 115, 116, 117]\n"
     ]
    }
   ],
   "source": [
    "pre_post_covid_sulku = []\n",
    "\n",
    "all_means.append(mm.create_means_from_monday(1, 3, 2020, 3, dr.read_pickle('YOUR_PATH\\\\data\\\\full_year_pickles\\\\full_year_2020_CarCount.pkl'), \"CarCount\"))\n",
    "all_means.append(mm.create_means_from_monday(1, 4, 2020, 3, dr.read_pickle('YOUR_PATH\\\\data\\\\full_year_pickles\\\\full_year_2020_CarCount.pkl'), \"CarCount\"))\n",
    "\n",
    "covid = pd.concat(all_means)"
   ]
  },
  {
   "cell_type": "code",
   "execution_count": 149,
   "metadata": {},
   "outputs": [
    {
     "data": {
      "text/html": [
       "<div>\n",
       "<style scoped>\n",
       "    .dataframe tbody tr th:only-of-type {\n",
       "        vertical-align: middle;\n",
       "    }\n",
       "\n",
       "    .dataframe tbody tr th {\n",
       "        vertical-align: top;\n",
       "    }\n",
       "\n",
       "    .dataframe thead th {\n",
       "        text-align: right;\n",
       "    }\n",
       "</style>\n",
       "<table border=\"1\" class=\"dataframe\">\n",
       "  <thead>\n",
       "    <tr style=\"text-align: right;\">\n",
       "      <th></th>\n",
       "      <th>lamId</th>\n",
       "      <th>year</th>\n",
       "      <th>startDay</th>\n",
       "      <th>weeksInMean</th>\n",
       "      <th>direction</th>\n",
       "      <th>CarCount</th>\n",
       "    </tr>\n",
       "  </thead>\n",
       "  <tbody>\n",
       "    <tr>\n",
       "      <th>0</th>\n",
       "      <td>1</td>\n",
       "      <td>2016</td>\n",
       "      <td>158</td>\n",
       "      <td>3</td>\n",
       "      <td>1</td>\n",
       "      <td>[14.666666666666666, 9.666666666666666, 13.0, ...</td>\n",
       "    </tr>\n",
       "    <tr>\n",
       "      <th>1</th>\n",
       "      <td>1</td>\n",
       "      <td>2016</td>\n",
       "      <td>158</td>\n",
       "      <td>3</td>\n",
       "      <td>2</td>\n",
       "      <td>[16.0, 10.666666666666666, 14.0, 11.3333333333...</td>\n",
       "    </tr>\n",
       "    <tr>\n",
       "      <th>2</th>\n",
       "      <td>99</td>\n",
       "      <td>2016</td>\n",
       "      <td>158</td>\n",
       "      <td>3</td>\n",
       "      <td>1</td>\n",
       "      <td>[16.0, 16.333333333333332, 9.666666666666666, ...</td>\n",
       "    </tr>\n",
       "    <tr>\n",
       "      <th>3</th>\n",
       "      <td>99</td>\n",
       "      <td>2016</td>\n",
       "      <td>158</td>\n",
       "      <td>3</td>\n",
       "      <td>2</td>\n",
       "      <td>[26.333333333333332, 28.333333333333332, 30.66...</td>\n",
       "    </tr>\n",
       "    <tr>\n",
       "      <th>4</th>\n",
       "      <td>102</td>\n",
       "      <td>2016</td>\n",
       "      <td>158</td>\n",
       "      <td>3</td>\n",
       "      <td>1</td>\n",
       "      <td>[9.666666666666666, 12.0, 11.333333333333334, ...</td>\n",
       "    </tr>\n",
       "    <tr>\n",
       "      <th>...</th>\n",
       "      <td>...</td>\n",
       "      <td>...</td>\n",
       "      <td>...</td>\n",
       "      <td>...</td>\n",
       "      <td>...</td>\n",
       "      <td>...</td>\n",
       "    </tr>\n",
       "    <tr>\n",
       "      <th>835</th>\n",
       "      <td>1605</td>\n",
       "      <td>2020</td>\n",
       "      <td>97</td>\n",
       "      <td>3</td>\n",
       "      <td>2</td>\n",
       "      <td>[0.0, 1.3333333333333333, 0.3333333333333333, ...</td>\n",
       "    </tr>\n",
       "    <tr>\n",
       "      <th>836</th>\n",
       "      <td>1606</td>\n",
       "      <td>2020</td>\n",
       "      <td>97</td>\n",
       "      <td>3</td>\n",
       "      <td>1</td>\n",
       "      <td>[5.0, 2.3333333333333335, 0.6666666666666666, ...</td>\n",
       "    </tr>\n",
       "    <tr>\n",
       "      <th>837</th>\n",
       "      <td>1606</td>\n",
       "      <td>2020</td>\n",
       "      <td>97</td>\n",
       "      <td>3</td>\n",
       "      <td>2</td>\n",
       "      <td>[1.0, 0.3333333333333333, 2.3333333333333335, ...</td>\n",
       "    </tr>\n",
       "    <tr>\n",
       "      <th>838</th>\n",
       "      <td>1607</td>\n",
       "      <td>2020</td>\n",
       "      <td>97</td>\n",
       "      <td>3</td>\n",
       "      <td>1</td>\n",
       "      <td>[0.6666666666666666, 0.6666666666666666, 5.333...</td>\n",
       "    </tr>\n",
       "    <tr>\n",
       "      <th>839</th>\n",
       "      <td>1607</td>\n",
       "      <td>2020</td>\n",
       "      <td>97</td>\n",
       "      <td>3</td>\n",
       "      <td>2</td>\n",
       "      <td>[1.6666666666666667, 1.6666666666666667, 2.0, ...</td>\n",
       "    </tr>\n",
       "  </tbody>\n",
       "</table>\n",
       "<p>4906 rows × 6 columns</p>\n",
       "</div>"
      ],
      "text/plain": [
       "     lamId  year  startDay  weeksInMean  direction  \\\n",
       "0        1  2016       158            3          1   \n",
       "1        1  2016       158            3          2   \n",
       "2       99  2016       158            3          1   \n",
       "3       99  2016       158            3          2   \n",
       "4      102  2016       158            3          1   \n",
       "..     ...   ...       ...          ...        ...   \n",
       "835   1605  2020        97            3          2   \n",
       "836   1606  2020        97            3          1   \n",
       "837   1606  2020        97            3          2   \n",
       "838   1607  2020        97            3          1   \n",
       "839   1607  2020        97            3          2   \n",
       "\n",
       "                                              CarCount  \n",
       "0    [14.666666666666666, 9.666666666666666, 13.0, ...  \n",
       "1    [16.0, 10.666666666666666, 14.0, 11.3333333333...  \n",
       "2    [16.0, 16.333333333333332, 9.666666666666666, ...  \n",
       "3    [26.333333333333332, 28.333333333333332, 30.66...  \n",
       "4    [9.666666666666666, 12.0, 11.333333333333334, ...  \n",
       "..                                                 ...  \n",
       "835  [0.0, 1.3333333333333333, 0.3333333333333333, ...  \n",
       "836  [5.0, 2.3333333333333335, 0.6666666666666666, ...  \n",
       "837  [1.0, 0.3333333333333333, 2.3333333333333335, ...  \n",
       "838  [0.6666666666666666, 0.6666666666666666, 5.333...  \n",
       "839  [1.6666666666666667, 1.6666666666666667, 2.0, ...  \n",
       "\n",
       "[4906 rows x 6 columns]"
      ]
     },
     "execution_count": 149,
     "metadata": {},
     "output_type": "execute_result"
    }
   ],
   "source": [
    "covid"
   ]
  },
  {
   "cell_type": "code",
   "execution_count": 150,
   "metadata": {},
   "outputs": [],
   "source": [
    "pre = covid[covid[\"startDay\"] == 62]\n",
    "post = covid[covid[\"startDay\"] == 97]"
   ]
  },
  {
   "cell_type": "code",
   "execution_count": 201,
   "metadata": {},
   "outputs": [],
   "source": [
    "def vis_pre_and_post_covid(lam_id, direction, blur_amount):\n",
    "\n",
    "  pre_y = pre[pre[\"lamId\"]==lam_id]\n",
    "  pre_y = pre_y[pre_y[\"direction\"]==direction][\"CarCount\"].values[0]\n",
    "  post_y = post[post[\"lamId\"]==lam_id]\n",
    "  post_y = post_y[post_y[\"direction\"]==direction][\"CarCount\"].values[0]\n",
    "  pre_y = blur(pre_y, blur_amount)\n",
    "  post_y = blur(post_y, blur_amount)\n",
    "  plt.plot(pre_y, label=\"Pre\")\n",
    "  plt.plot(post_y, label=\"Post\")\n",
    "  diff = []\n",
    "  for i in range(len(post_y)):\n",
    "    diff.append(post_y[i]-pre_y[i])\n",
    "  plt.plot(diff, label=\"diff\")\n",
    "  plt.legend()"
   ]
  },
  {
   "cell_type": "code",
   "execution_count": 202,
   "metadata": {},
   "outputs": [
    {
     "data": {
      "text/plain": [
       "array([   1,    3,    4,    5,    6,    7,    8,    9,   11,   98,   99,\n",
       "        102,  103,  104,  105,  106,  107,  108,  109,  110,  111,  112,\n",
       "        114,  115,  116,  117,  118,  119,  121,  122,  123,  124,  125,\n",
       "        126,  127,  128,  129,  130,  131,  133,  134,  135,  136,  137,\n",
       "        138,  139,  140,  141,  142,  143,  144,  145,  146,  147,  148,\n",
       "        149,  150,  151,  152,  153,  154,  155,  156,  158,  159,  160,\n",
       "        162,  163,  165,  167,  168,  169,  172,  175,  176,  177,  178,\n",
       "        179,  182,  183,  184,  185,  186,  187,  188,  189,  190,  191,\n",
       "        192,  193,  194,  195,  196,  197,  198,  201,  203,  204,  205,\n",
       "        206,  207,  208,  209,  210,  211,  221,  223,  224,  225,  226,\n",
       "        227,  230,  231,  232,  233,  234,  235,  237,  238,  239,  240,\n",
       "        242,  243,  244,  245,  247,  248,  249,  250,  251,  252,  254,\n",
       "        257,  302,  303,  304,  305,  306,  307,  308,  309,  310,  401,\n",
       "        402,  403,  404,  405,  406,  407,  408,  409,  421,  422,  424,\n",
       "        425,  426,  428,  429,  430,  431,  432,  433,  435,  436,  437,\n",
       "        438,  439,  440,  441,  442,  443,  445,  446,  447,  448,  449,\n",
       "        450,  451,  452,  453,  455,  456,  457,  458,  460,  461,  462,\n",
       "        463,  464,  465,  466,  501,  503,  504,  505,  506,  521,  522,\n",
       "        524,  526,  527,  528,  529,  530,  531,  532,  533,  534,  535,\n",
       "        547,  550,  556,  558,  559,  560,  561,  562,  563,  564,  572,\n",
       "        573,  574,  575,  576,  577,  578,  579,  580,  581,  582,  583,\n",
       "        584,  586,  587,  591,  592,  593,  594,  595,  596,  597,  598,\n",
       "        599,  602,  603,  604,  605,  606,  607,  622,  623,  628,  629,\n",
       "        630,  631,  632,  633,  701,  704,  705,  723,  724,  725,  726,\n",
       "        727,  729,  730,  731,  732,  733,  801,  803,  804,  805,  806,\n",
       "        807,  821,  822,  824,  825,  826,  827,  828,  832,  833,  834,\n",
       "        835,  836,  902,  903,  904,  905,  922,  923,  925,  927,  928,\n",
       "        929,  930,  931,  932,  933,  934,  935,  936,  937,  938,  998,\n",
       "       1052, 1101, 1103, 1104, 1105, 1121, 1123, 1124, 1201, 1202, 1203,\n",
       "       1204, 1205, 1206, 1221, 1222, 1223, 1224, 1225, 1226, 1227, 1228,\n",
       "       1229, 1230, 1231, 1232, 1233, 1234, 1235, 1236, 1237, 1238, 1239,\n",
       "       1243, 1244, 1246, 1247, 1248, 1249, 1250, 1251, 1252, 1253, 1254,\n",
       "       1255, 1256, 1257, 1301, 1302, 1303, 1321, 1322, 1323, 1324, 1325,\n",
       "       1326, 1327, 1328, 1329, 1401, 1402, 1403, 1404, 1405, 1421, 1422,\n",
       "       1423, 1424, 1425, 1426, 1427, 1429, 1430, 1431, 1432, 1433, 1434,\n",
       "       1435, 1436, 1437, 1438, 1439, 1441, 1442, 1443, 1444, 1445, 1446,\n",
       "       1447, 1448, 1449, 1450, 1451, 1452, 1453, 1454, 1455, 1456, 1457,\n",
       "       1458, 1459, 1460, 1461, 1462, 1463, 1464, 1465, 1466, 1467, 1468,\n",
       "       1601, 1602, 1603, 1605, 1606, 1607], dtype=int64)"
      ]
     },
     "execution_count": 202,
     "metadata": {},
     "output_type": "execute_result"
    }
   ],
   "source": [
    "pre[\"lamId\"].unique()"
   ]
  },
  {
   "cell_type": "code",
   "execution_count": 217,
   "metadata": {},
   "outputs": [],
   "source": [
    "vis_pre_and_post_covid(130, 1, 25)"
   ]
  },
  {
   "cell_type": "code",
   "execution_count": 185,
   "metadata": {},
   "outputs": [
    {
     "data": {
      "text/plain": [
       "array([array([3.        , 6.66666667, 4.33333333, ..., 2.33333333, 4.33333333,\n",
       "              7.66666667])                                                    ],\n",
       "      dtype=object)"
      ]
     },
     "execution_count": 185,
     "metadata": {},
     "output_type": "execute_result"
    }
   ],
   "source": []
  },
  {
   "cell_type": "code",
   "execution_count": 226,
   "metadata": {},
   "outputs": [],
   "source": [
    "fft_data = pre.iloc[6][\"CarCount\"]\n"
   ]
  },
  {
   "cell_type": "code",
   "execution_count": 231,
   "metadata": {},
   "outputs": [
    {
     "name": "stderr",
     "output_type": "stream",
     "text": [
      "C:\\Users\\Mikko\\anaconda3\\envs\\gradu\\lib\\site-packages\\numpy\\core\\_asarray.py:102: ComplexWarning: Casting complex values to real discards the imaginary part\n",
      "  return array(a, dtype, copy=False, order=order)\n"
     ]
    },
    {
     "data": {
      "text/plain": [
       "[<matplotlib.lines.Line2D at 0x1941680e670>]"
      ]
     },
     "execution_count": 231,
     "metadata": {},
     "output_type": "execute_result"
    }
   ],
   "source": [
    "plt.plot(fftd)"
   ]
  },
  {
   "cell_type": "code",
   "execution_count": 229,
   "metadata": {},
   "outputs": [],
   "source": [
    "fftd = np.fft.fft(fft_data)"
   ]
  },
  {
   "cell_type": "code",
   "execution_count": 230,
   "metadata": {},
   "outputs": [
    {
     "data": {
      "text/plain": [
       "array([68411.33333333   +0.j        , -2479.61563364-4560.20909429j,\n",
       "        1410.23295417-2494.89864111j, ...,  2169.37764669 +325.01314138j,\n",
       "        1410.23295417+2494.89864111j, -2479.61563364+4560.20909429j])"
      ]
     },
     "execution_count": 230,
     "metadata": {},
     "output_type": "execute_result"
    }
   ],
   "source": []
  },
  {
   "cell_type": "code",
   "execution_count": null,
   "metadata": {},
   "outputs": [],
   "source": []
  }
 ],
 "metadata": {
  "interpreter": {
   "hash": "3c0b52ca80764a1dd840b1e249101c987e7c79ab6aa47aa3ae0c0a2c7735eb98"
  },
  "kernelspec": {
   "display_name": "Python 3.9.7 64-bit ('gradu': conda)",
   "language": "python",
   "name": "python3"
  },
  "language_info": {
   "codemirror_mode": {
    "name": "ipython",
    "version": 3
   },
   "file_extension": ".py",
   "mimetype": "text/x-python",
   "name": "python",
   "nbconvert_exporter": "python",
   "pygments_lexer": "ipython3",
   "version": "3.9.7"
  },
  "orig_nbformat": 4
 },
 "nbformat": 4,
 "nbformat_minor": 2
}
