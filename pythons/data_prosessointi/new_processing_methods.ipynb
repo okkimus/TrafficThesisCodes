{
 "cells": [
  {
   "cell_type": "code",
   "execution_count": 1,
   "id": "ba46f3f2-9fe7-41a6-b94f-3884ccb37ea3",
   "metadata": {},
   "outputs": [],
   "source": [
    "import numpy as np\n",
    "import pandas as pd\n",
    "\n",
    "from os import walk\n",
    "from os import listdir"
   ]
  },
  {
   "cell_type": "code",
   "execution_count": 2,
   "id": "7ab268fd-1658-4350-93f5-1b4348836077",
   "metadata": {},
   "outputs": [
    {
     "name": "stdout",
     "output_type": "stream",
     "text": [
      "Available years 2016, 2017.\n"
     ]
    }
   ],
   "source": [
    "raw_data_path = \"../lataus/data/lam\"\n",
    "years = listdir(raw_data_path)\n",
    "\n",
    "if len(years) < 1:\n",
    "    print(f\"No data folders found in path {raw_data_path}\")\n",
    "else:\n",
    "    print(f\"Available years {', '.join(years)}.\")"
   ]
  },
  {
   "cell_type": "code",
   "execution_count": 3,
   "id": "32c26421-d369-4ab2-b020-f97801da7c42",
   "metadata": {},
   "outputs": [
    {
     "name": "stdout",
     "output_type": "stream",
     "text": [
      "Available elys 01, 02, 03, 04, 08, 09, 12, 14.\n"
     ]
    }
   ],
   "source": [
    "selected_year = \"2016\"\n",
    "\n",
    "elys = listdir(f\"{raw_data_path}/{selected_year}\")\n",
    "\n",
    "if len(elys) < 1:\n",
    "    print(f\"No data folders found in path {raw_data_path}\")\n",
    "else:\n",
    "    print(f\"Available elys {', '.join(elys)}.\")"
   ]
  },
  {
   "cell_type": "code",
   "execution_count": 116,
   "id": "601507e0-cd5d-46d2-8ce0-a02019a44754",
   "metadata": {},
   "outputs": [
    {
     "name": "stdout",
     "output_type": "stream",
     "text": [
      "Available lam ids 1, 10, 11, 12, 13, 14, 15, 16, 17, 18, 19, 2, 20, 21, 22, 23, 24, 25, 26, 27, 28, 29, 3, 30, 31, 4, 5, 6, 7, 8, 9.\n"
     ]
    }
   ],
   "source": [
    "selected_ely = \"01\"\n",
    "\n",
    "lam_data_files = listdir(f\"{raw_data_path}/{selected_year}/{selected_ely}\")\n",
    "lam_ids = set()\n",
    "\n",
    "for filename in lam_data_files:\n",
    "    lam_ids.add(filename.split(\"_\")[-1].split(\".\")[0])\n",
    "\n",
    "if len(lam_ids) < 1:\n",
    "    print(f\"No data folders found in path {raw_data_path}\")\n",
    "else:\n",
    "    print(f\"Available lam ids {', '.join(sorted(lam_ids))}.\")"
   ]
  },
  {
   "cell_type": "code",
   "execution_count": 5,
   "id": "9a153c53-c18a-4285-8595-a51c70914733",
   "metadata": {},
   "outputs": [
    {
     "name": "stdout",
     "output_type": "stream",
     "text": [
      "31 file(s) found for lam id 1.\n"
     ]
    }
   ],
   "source": [
    "selected_lam = \"1\"\n",
    "\n",
    "files = []\n",
    "\n",
    "for filename in lam_data_files:\n",
    "    if filename.split(\"_\")[1] == selected_lam:\n",
    "        files.append(filename)\n",
    "\n",
    "print(f\"{len(files)} file(s) found for lam id {selected_lam}.\")"
   ]
  },
  {
   "cell_type": "code",
   "execution_count": 6,
   "id": "88cbfe94-3ad8-481c-8e96-35bfeb3ea97a",
   "metadata": {},
   "outputs": [],
   "source": [
    "# Start reading files\n",
    "COLUMN_NAMES = [\"pistetunnus\", \"vuosi\", \"päivän järjestysnumero\", \"tunti\", \"minuutti\", \"sekunti\", \"sadasosasekunti\", \"pituus (m)\", \"kaista\", \"suunta\", \"ajoneuvoluokka\", \"nopeus (km/h)\", \"faulty\", \"kokonaisaika\", \"aikaväli\", \"jonoalku\"]\n",
    "CARGO_IDS = [2,4,5]\n",
    "CAR_IDS = [1,3,6]"
   ]
  },
  {
   "cell_type": "code",
   "execution_count": 7,
   "id": "dfc82a63-a4b7-4448-a687-a64b3e90b325",
   "metadata": {},
   "outputs": [],
   "source": [
    "df = pd.read_csv(f\"{raw_data_path}/{selected_year}/{selected_ely}/{files[0]}\", sep=\";\", names=COLUMN_NAMES)"
   ]
  },
  {
   "cell_type": "code",
   "execution_count": 8,
   "id": "87a3c498-572a-4a8d-9efc-484f66860c6f",
   "metadata": {},
   "outputs": [],
   "source": [
    "df[\"time_index\"] = df[\"tunti\"] * 60 + df[\"minuutti\"]\n",
    "df = df.drop([\"tunti\", \"minuutti\", \"sekunti\", \"sadasosasekunti\"], axis=1)"
   ]
  },
  {
   "cell_type": "code",
   "execution_count": 9,
   "id": "0cd0cbd9-3124-4de9-b40b-22d60a0b0c84",
   "metadata": {},
   "outputs": [],
   "source": [
    "df = df.drop([\"kokonaisaika\", \"aikaväli\", \"jonoalku\", \"kaista\"], axis=1)"
   ]
  },
  {
   "cell_type": "code",
   "execution_count": 10,
   "id": "7b34d392-3f0d-449c-ac24-8aa9f0418319",
   "metadata": {},
   "outputs": [],
   "source": [
    "def create_bin_definition(minute_interval):\n",
    "    return np.arange(0, 24 * 60, minute_interval)"
   ]
  },
  {
   "cell_type": "code",
   "execution_count": 11,
   "id": "a2c0aad6-5a0e-44dc-9890-4b1712c01892",
   "metadata": {},
   "outputs": [],
   "source": [
    "bins =  create_bin_definition(5)\n",
    "ind = np.digitize(df[\"time_index\"], bins)"
   ]
  },
  {
   "cell_type": "code",
   "execution_count": 16,
   "id": "1e2935c6-1563-466c-a779-1c962949bbc7",
   "metadata": {},
   "outputs": [],
   "source": [
    "def process_data(data, i):\n",
    "    direction_1 = data.loc[data[\"suunta\"] == 1]\n",
    "    direction_2 = data.loc[data[\"suunta\"] == 2]\n",
    "    \n",
    "    cargo_cols_1 = process_car_type(direction_1, [2,4,5])\n",
    "    car_cols_1 = process_car_type(direction_1, [1,3,6])\n",
    "    cargo_cols_2 = process_car_type(direction_2, [2,4,5])\n",
    "    car_cols_2 = process_car_type(direction_2, [1,3,6])\n",
    "    \n",
    "    return ([i, 1] + cargo_cols_1 + car_cols_1, [i, 2] + cargo_cols_2 + car_cols_2)\n",
    "\n",
    "def process_car_type(data, car_types):\n",
    "    CAR_IDS = [1,3,6]\n",
    "    car_type_data = data[data['ajoneuvoluokka'].isin(car_types)]\n",
    "    speeds = calculate_speed_data(car_type_data[\"nopeus (km/h)\"])\n",
    "    count = len(car_type_data)\n",
    "    \n",
    "    return speeds + [count]\n",
    "    \n",
    "def calculate_speed_data(speed_col):\n",
    "    if len(speed_col) == 0:\n",
    "        return [0, 0, 0]\n",
    "    max_v = speed_col.max()\n",
    "    min_v = speed_col.min()\n",
    "    mean_v = round(speed_col.mean())\n",
    "    return [max_v, min_v, mean_v]\n",
    "    "
   ]
  },
  {
   "cell_type": "code",
   "execution_count": 65,
   "id": "fcd4a6a5-08c7-42b3-aa67-6e6756429d6c",
   "metadata": {},
   "outputs": [],
   "source": [
    "processed_rows = []\n",
    "\n",
    "for bin_index in set(ind):\n",
    "    # Process the bin\n",
    "    processed = process_data(df.loc[ind == bin_index], bin_index)\n",
    "    processed_rows.append(processed[0])\n",
    "    processed_rows.append(processed[1])\n",
    "    \n",
    "processed_np = np.array(processed_rows)"
   ]
  },
  {
   "cell_type": "code",
   "execution_count": 66,
   "id": "d20f0675-0b66-456b-9c1d-79fb2593d233",
   "metadata": {},
   "outputs": [],
   "source": [
    "processed_col_names = [\"time_index\", \"direction\", \"cargo_min_v\", \"cargo_max_v\", \"cargo_mean_v\", \"cargo_count\", \"car_min_v\", \"car_max_v\", \"car_mean_v\", \"car_count\"]"
   ]
  },
  {
   "cell_type": "code",
   "execution_count": 67,
   "id": "ddecc0e6-cb6f-47ee-b3d2-f6f56ac52fb3",
   "metadata": {},
   "outputs": [],
   "source": [
    "def preprocess_col(a, min_value, max_value, col_name):\n",
    "    processed_col_names = [\"time_index\", \"direction\", \"cargo_min_v\", \"cargo_max_v\", \"cargo_mean_v\", \"cargo_count\", \"car_min_v\", \"car_max_v\", \"car_mean_v\", \"car_count\"]    \n",
    "    col_index = processed_col_names.index(col_name)\n",
    "    a[a[:, col_index] >= max_value, col_index] = max_value\n",
    "    a[a[:, col_index] < min_value, col_index] = min_value\n",
    "    a[:, col_index] = a[:, col_index] - min_value\n",
    "    return a"
   ]
  },
  {
   "cell_type": "code",
   "execution_count": 68,
   "id": "47a147ad-f3da-403c-83f4-945cd1b1a2fd",
   "metadata": {},
   "outputs": [],
   "source": [
    "speed_cols = [\"cargo_min_v\", \"cargo_max_v\", \"cargo_mean_v\", \"car_min_v\", \"car_max_v\", \"car_mean_v\"]\n",
    "min_speed = 20\n",
    "max_speed = 140\n",
    "\n",
    "for col in speed_cols:\n",
    "    processed_np = preprocess_col(processed_np, min_speed, max_speed, col)"
   ]
  },
  {
   "cell_type": "code",
   "execution_count": 69,
   "id": "b4889ccd-437a-425f-9cf8-9f7c29d77f3c",
   "metadata": {},
   "outputs": [],
   "source": [
    "processed_np[:, 2:5] = processed_np[:, 2:5] / (max_speed - min_speed) * 256\n",
    "processed_np[:, 7:10] = processed_np[:, 7:10] / (max_speed - min_speed) * 256"
   ]
  },
  {
   "cell_type": "code",
   "execution_count": 98,
   "id": "177e25d4-1b0b-45c3-bd7f-5b272643a445",
   "metadata": {},
   "outputs": [],
   "source": [
    "def create_columns(a, column_name):\n",
    "    processed_col_names = [\"time_index\", \"direction\", \"cargo_min_v\", \"cargo_max_v\", \"cargo_mean_v\", \"cargo_count\", \"car_min_v\", \"car_max_v\", \"car_mean_v\", \"car_count\"]    \n",
    "    col_index = processed_col_names.index(column_name)\n",
    "    \n",
    "    dir_1 = a[a[:, 1] == 1]\n",
    "    dir_2 = a[a[:, 1] == 2]\n",
    "    col_1 = dir_1[:, col_index]\n",
    "    col_2 = dir_2[:, col_index]\n",
    "    \n",
    "    result = np.column_stack((col_1, col_2))\n",
    "    \n",
    "    return result"
   ]
  },
  {
   "cell_type": "code",
   "execution_count": 113,
   "id": "31d92ff2-5268-4f64-a40a-c4c3a57c141c",
   "metadata": {},
   "outputs": [
    {
     "data": {
      "text/plain": [
       "array([[108,  86],\n",
       "       [ 92, 104],\n",
       "       [ 89,  91],\n",
       "       [ 91, 107],\n",
       "       [ 76,  90]], dtype=int64)"
      ]
     },
     "execution_count": 113,
     "metadata": {},
     "output_type": "execute_result"
    }
   ],
   "source": [
    "car_count_matrix = create_columns(processed_np, \"car_min_v\")\n",
    "car_count_matrix[0:5]"
   ]
  },
  {
   "cell_type": "code",
   "execution_count": 114,
   "id": "f2e955ed-f3e1-4d2c-bba6-f7158207b017",
   "metadata": {},
   "outputs": [
    {
     "data": {
      "image/png": "[encoded data removed]",
      "text/plain": [
       "<Figure size 432x288 with 1 Axes>"
      ]
     },
     "metadata": {
      "needs_background": "light"
     },
     "output_type": "display_data"
    }
   ],
   "source": [
    "import matplotlib.pyplot as plt\n",
    "import matplotlib.cm as cm\n",
    "\n",
    "fig = plt.figure()\n",
    "ax1 = fig.add_subplot(121)\n",
    "\n",
    "# 'nearest' interpolation - faithful but blocky\n",
    "ax1.imshow(car_count_matrix, cmap=cm.Greys_r)\n",
    "\n",
    "plt.show()"
   ]
  },
  {
   "cell_type": "code",
   "execution_count": 117,
   "id": "f1983e56-fa4b-4a3d-ad71-826e39d33c15",
   "metadata": {},
   "outputs": [
    {
     "data": {
      "text/plain": [
       "array([  1,   1,   1, ..., 288, 288, 288], dtype=int64)"
      ]
     },
     "execution_count": 117,
     "metadata": {},
     "output_type": "execute_result"
    }
   ],
   "source": [
    "ind"
   ]
  },
  {
   "cell_type": "code",
   "execution_count": 118,
   "id": "d0d759ef-6fed-4147-85a0-28665aecfa5c",
   "metadata": {},
   "outputs": [
    {
     "data": {
      "text/plain": [
       "array([   0,    5,   10,   15,   20,   25,   30,   35,   40,   45,   50,\n",
       "         55,   60,   65,   70,   75,   80,   85,   90,   95,  100,  105,\n",
       "        110,  115,  120,  125,  130,  135,  140,  145,  150,  155,  160,\n",
       "        165,  170,  175,  180,  185,  190,  195,  200,  205,  210,  215,\n",
       "        220,  225,  230,  235,  240,  245,  250,  255,  260,  265,  270,\n",
       "        275,  280,  285,  290,  295,  300,  305,  310,  315,  320,  325,\n",
       "        330,  335,  340,  345,  350,  355,  360,  365,  370,  375,  380,\n",
       "        385,  390,  395,  400,  405,  410,  415,  420,  425,  430,  435,\n",
       "        440,  445,  450,  455,  460,  465,  470,  475,  480,  485,  490,\n",
       "        495,  500,  505,  510,  515,  520,  525,  530,  535,  540,  545,\n",
       "        550,  555,  560,  565,  570,  575,  580,  585,  590,  595,  600,\n",
       "        605,  610,  615,  620,  625,  630,  635,  640,  645,  650,  655,\n",
       "        660,  665,  670,  675,  680,  685,  690,  695,  700,  705,  710,\n",
       "        715,  720,  725,  730,  735,  740,  745,  750,  755,  760,  765,\n",
       "        770,  775,  780,  785,  790,  795,  800,  805,  810,  815,  820,\n",
       "        825,  830,  835,  840,  845,  850,  855,  860,  865,  870,  875,\n",
       "        880,  885,  890,  895,  900,  905,  910,  915,  920,  925,  930,\n",
       "        935,  940,  945,  950,  955,  960,  965,  970,  975,  980,  985,\n",
       "        990,  995, 1000, 1005, 1010, 1015, 1020, 1025, 1030, 1035, 1040,\n",
       "       1045, 1050, 1055, 1060, 1065, 1070, 1075, 1080, 1085, 1090, 1095,\n",
       "       1100, 1105, 1110, 1115, 1120, 1125, 1130, 1135, 1140, 1145, 1150,\n",
       "       1155, 1160, 1165, 1170, 1175, 1180, 1185, 1190, 1195, 1200, 1205,\n",
       "       1210, 1215, 1220, 1225, 1230, 1235, 1240, 1245, 1250, 1255, 1260,\n",
       "       1265, 1270, 1275, 1280, 1285, 1290, 1295, 1300, 1305, 1310, 1315,\n",
       "       1320, 1325, 1330, 1335, 1340, 1345, 1350, 1355, 1360, 1365, 1370,\n",
       "       1375, 1380, 1385, 1390, 1395, 1400, 1405, 1410, 1415, 1420, 1425,\n",
       "       1430, 1435])"
      ]
     },
     "execution_count": 118,
     "metadata": {},
     "output_type": "execute_result"
    }
   ],
   "source": [
    "bins"
   ]
  },
  {
   "cell_type": "code",
   "execution_count": 119,
   "id": "adf72b35-4220-465b-9a0a-0cf565914bca",
   "metadata": {},
   "outputs": [
    {
     "data": {
      "text/plain": [
       "288"
      ]
     },
     "execution_count": 119,
     "metadata": {},
     "output_type": "execute_result"
    }
   ],
   "source": [
    "len(bins)"
   ]
  },
  {
   "cell_type": "code",
   "execution_count": 122,
   "id": "8636ca44-ac44-4f9d-a7a2-c195a5f05c4d",
   "metadata": {},
   "outputs": [
    {
     "ename": "AttributeError",
     "evalue": "'set' object has no attribute 'index'",
     "output_type": "error",
     "traceback": [
      "\u001b[1;31m---------------------------------------------------------------------------\u001b[0m",
      "\u001b[1;31mAttributeError\u001b[0m                            Traceback (most recent call last)",
      "\u001b[1;32m~\\AppData\\Local\\Temp/ipykernel_21444/477239293.py\u001b[0m in \u001b[0;36m<module>\u001b[1;34m\u001b[0m\n\u001b[1;32m----> 1\u001b[1;33m \u001b[0mset\u001b[0m\u001b[1;33m(\u001b[0m\u001b[0mind\u001b[0m\u001b[1;33m)\u001b[0m\u001b[1;33m.\u001b[0m\u001b[0mindex\u001b[0m\u001b[1;33m(\u001b[0m\u001b[1;36m1\u001b[0m\u001b[1;33m)\u001b[0m\u001b[1;33m\u001b[0m\u001b[1;33m\u001b[0m\u001b[0m\n\u001b[0m",
      "\u001b[1;31mAttributeError\u001b[0m: 'set' object has no attribute 'index'"
     ]
    }
   ],
   "source": [
    "set(ind).index(1)"
   ]
  },
  {
   "cell_type": "code",
   "execution_count": null,
   "id": "da4bd0d0-cbf0-493f-9172-a837454aa577",
   "metadata": {},
   "outputs": [],
   "source": []
  }
 ],
 "metadata": {
  "kernelspec": {
   "display_name": "Python 3 (ipykernel)",
   "language": "python",
   "name": "python3"
  },
  "language_info": {
   "codemirror_mode": {
    "name": "ipython",
    "version": 3
   },
   "file_extension": ".py",
   "mimetype": "text/x-python",
   "name": "python",
   "nbconvert_exporter": "python",
   "pygments_lexer": "ipython3",
   "version": "3.9.7"
  }
 },
 "nbformat": 4,
 "nbformat_minor": 5
}
