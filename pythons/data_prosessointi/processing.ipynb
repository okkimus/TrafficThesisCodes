{
 "cells": [
  {
   "cell_type": "code",
   "execution_count": 150,
   "id": "1f522580-0d33-4a7a-af3f-610b3eecae37",
   "metadata": {},
   "outputs": [],
   "source": [
    "from os import walk\n",
    "from os import listdir\n",
    "\n",
    "import matplotlib.pyplot as plt\n",
    "import numpy as np\n",
    "import pandas as pd"
   ]
  },
  {
   "cell_type": "code",
   "execution_count": 2,
   "id": "eb15c16a-8fcc-4b4a-9d89-1c0ba6fe70da",
   "metadata": {},
   "outputs": [
    {
     "name": "stdout",
     "output_type": "stream",
     "text": [
      "Available years 2016.\n"
     ]
    }
   ],
   "source": [
    "is_demo = True\n",
    "data_path = \"example_data/\" if is_demo else \"../lataus/data/lam/\"\n",
    "\n",
    "available_years = listdir(data_path)\n",
    "print(f\"Available years {', '.join(available_years)}.\")"
   ]
  },
  {
   "cell_type": "code",
   "execution_count": 3,
   "id": "90e22456-d65a-4183-b872-a49e802dfd25",
   "metadata": {},
   "outputs": [
    {
     "name": "stdout",
     "output_type": "stream",
     "text": [
      "Available ELY codes are .ipynb_checkpoints, 01.\n"
     ]
    }
   ],
   "source": [
    "selected_year = \"2016\"\n",
    "\n",
    "available_elys = listdir(data_path + selected_year)\n",
    "print(f\"Available ELY codes are {', '.join(available_elys)}.\")"
   ]
  },
  {
   "cell_type": "code",
   "execution_count": 4,
   "id": "0502c8d6-caa1-452a-aedb-b6afd5a0c37a",
   "metadata": {},
   "outputs": [
    {
     "name": "stdout",
     "output_type": "stream",
     "text": [
      "Available lams are 1.\n"
     ]
    }
   ],
   "source": [
    "selected_ely = \"01\"\n",
    "\n",
    "available_lam_files = listdir(data_path + selected_year + \"/\" + selected_ely)\n",
    "\n",
    "def get_lam_id(file_name):\n",
    "    end_of_id = file_name.index(\"_\", 7)\n",
    "    return file_name[7:end_of_id]\n",
    "\n",
    "available_lams = set()\n",
    "for file_name in available_lam_files:\n",
    "    available_lams.add(get_lam_id(file_name))\n",
    "\n",
    "print(f\"Available lams are {', '.join(sorted(available_lams))}.\")"
   ]
  },
  {
   "cell_type": "code",
   "execution_count": null,
   "id": "bea1c6de-cf21-4827-8c2a-0a1104ed83ba",
   "metadata": {},
   "outputs": [],
   "source": []
  },
  {
   "cell_type": "code",
   "execution_count": 5,
   "id": "b245b3b3-8503-4f60-acea-e443dd50e7c1",
   "metadata": {},
   "outputs": [],
   "source": [
    "column_names = [\"pistetunnus\", \"vuosi\", \"päivän järjestysnumero\", \"tunti\", \"minuutti\", \"sekunti\", \"sadasosasekunti\", \"pituus (m)\", \"kaista\", \"suunta\", \"ajoneuvoluokka\", \"nopeus (km/h)\", \"faulty\", \"kokonaisaika \", \"aikaväli \", \"jonoalku \"]\n",
    "\n",
    "df = pd.read_csv(f\"{data_path}{selected_year}/{selected_ely}/{available_lam_files[0]}\", sep=\";\", names=column_names)"
   ]
  },
  {
   "cell_type": "code",
   "execution_count": 6,
   "id": "8791ff12-0ae1-4e0c-87f5-88f02b7a9996",
   "metadata": {},
   "outputs": [
    {
     "name": "stdout",
     "output_type": "stream",
     "text": [
      "df from: example_data/2016/01/lamraw_1_16_1.csv\n"
     ]
    }
   ],
   "source": [
    "print(f\"df from: {data_path}{selected_year}/{selected_ely}/{available_lam_files[0]}\")"
   ]
  },
  {
   "cell_type": "code",
   "execution_count": 7,
   "id": "d442dae3-430a-4dce-a0c3-a414b37ad355",
   "metadata": {},
   "outputs": [],
   "source": [
    "def divide_to_bins(df, minute_interval):\n",
    "    interval = np.arange(0, 61, minute_interval)\n",
    "    cut = pd.cut(df[\"minuutti\"], interval, include_lowest=True)\n",
    "    grouped = df.groupby([\"tunti\", cut, \"suunta\"])\n",
    "    return (grouped, interval)"
   ]
  },
  {
   "cell_type": "code",
   "execution_count": 8,
   "id": "940c0b70-9d1c-45a0-b7a1-008d1855f430",
   "metadata": {},
   "outputs": [],
   "source": [
    "grouped_df, interval = divide_to_bins(df, 5)"
   ]
  },
  {
   "cell_type": "code",
   "execution_count": 9,
   "id": "4aca9e8e-4928-414f-81ef-80894e911ed8",
   "metadata": {},
   "outputs": [],
   "source": [
    "# halutut tiedot <LAMid, suunta, aikaindeksi, tavaralkm, tavaraV, hlölkm, hlöV, tavara pituus>"
   ]
  },
  {
   "cell_type": "code",
   "execution_count": 144,
   "id": "30fb98a1-4ef9-4cdf-a3c6-e933a0d584c4",
   "metadata": {},
   "outputs": [],
   "source": [
    "cargo_ids = [2,4,5]\n",
    "car_ids = [1,3,6,7]\n",
    "\n",
    "def create_data_file(dataframe, interval_in_minutes):\n",
    "    grouped, interval = divide_to_bins(dataframe, interval_in_minutes)\n",
    "    lam_id = dataframe[\"pistetunnus\"].min()\n",
    "    year = dataframe[\"vuosi\"].min()\n",
    "    day = dataframe[\"päivän järjestysnumero\"].min()\n",
    "    direction = grouped[\"suunta\"].max()\n",
    "    cargo_group = get_vehicle_class_rows(grouped, cargo_ids)\n",
    "    car_group = get_vehicle_class_rows(grouped, car_ids)\n",
    "    \n",
    "    result = pd.DataFrame({\n",
    "        \"lamid\": lam_id,\n",
    "        \"year\": year,\n",
    "        \"day\": day,\n",
    "        \"speed_cargo\": speed_sum(cargo_group),\n",
    "        \"speed_car\": speed_sum(car_group),\n",
    "        \"count_car\": vehicle_count(car_group),\n",
    "        \"count_cargo\": vehicle_count(cargo_group),\n",
    "    }).reset_index()\n",
    "    \n",
    "    result = add_minute_index(result)\n",
    "    result = result.rename(columns={\"tunti\": \"hour\", \"suunta\": \"direction\"})\n",
    "    \n",
    "    return result\n",
    "\n",
    "# Will return only the rows which are in intreset for now...\n",
    "def get_vehicle_class_rows(df, vehicle_classes):\n",
    "    return df.apply(lambda x: x[x['ajoneuvoluokka'].isin(vehicle_classes)])[[\"nopeus (km/h)\", \"pituus (m)\"]].groupby([\"tunti\", \"minuutti\", \"suunta\"])\n",
    "\n",
    "def add_minute_index(df):\n",
    "    df[\"minuutti\"] = df[\"minuutti\"].apply(lambda x: x.right / 5 - 1).astype({\"minuutti\": int})\n",
    "    df = df.rename(columns={\"minuutti\": \"minute_index\"})\n",
    "    return df    \n",
    "\n",
    "def get_minute_indices(df):\n",
    "    return pd.DataFrame(df).reset_index()[0].apply(lambda x: x[1].right / 5 - 1)\n",
    "\n",
    "def vehicle_count(df):\n",
    "    return df.size()\n",
    "\n",
    "def speed_sum(df):\n",
    "    return df['nopeus (km/h)'].sum()\n",
    "\n",
    "def minutes(df, interval):\n",
    "    return (df[\"minuutti\"].max() / interval - 1).round()\n",
    "\n",
    "def hours(df):\n",
    "    return grouped_df[\"tunti\"].min()\n",
    "\n",
    "def cargo_length(df):\n",
    "    return df.apply(lambda x: x[x['ajoneuvoluokka'].isin([2,4,5])]['pituus (m)'].sum())"
   ]
  },
  {
   "cell_type": "code",
   "execution_count": 139,
   "id": "a445cc8f-fde7-4e6d-a765-91bc3aaf9f9a",
   "metadata": {},
   "outputs": [],
   "source": [
    "new_df = create_data_file(df, 5)"
   ]
  },
  {
   "cell_type": "code",
   "execution_count": 149,
   "id": "725c8d8d-5103-48cd-9c37-3867e59d8aeb",
   "metadata": {},
   "outputs": [],
   "source": [
    "dir1 = new_df.loc[new_df[\"direction\"]==1]"
   ]
  },
  {
   "cell_type": "code",
   "execution_count": 157,
   "id": "1f18cce3-f6bd-44de-97a8-33a184319a58",
   "metadata": {},
   "outputs": [],
   "source": [
    "new_df[\"time_index\"] = new_df[\"hour\"] * 60 / 5 + new_df[\"minute_index\"]"
   ]
  },
  {
   "cell_type": "code",
   "execution_count": 164,
   "id": "e51fc71a-7468-4b96-bd8e-c8685b027ceb",
   "metadata": {},
   "outputs": [
    {
     "data": {
      "image/png": "[encoded data removed]",
      "text/plain": [
       "<Figure size 432x288 with 1 Axes>"
      ]
     },
     "metadata": {
      "needs_background": "light"
     },
     "output_type": "display_data"
    }
   ],
   "source": [
    "fig, ax = plt.subplots()\n",
    "rects1 = ax.bar(new_df.time_index, new_df.count_car, label='Suunta 1')"
   ]
  },
  {
   "cell_type": "code",
   "execution_count": 167,
   "id": "6241e852-e7e6-42fb-bfcc-352c66dbab63",
   "metadata": {},
   "outputs": [
    {
     "data": {
      "text/html": [
       "<div>\n",
       "<style scoped>\n",
       "    .dataframe tbody tr th:only-of-type {\n",
       "        vertical-align: middle;\n",
       "    }\n",
       "\n",
       "    .dataframe tbody tr th {\n",
       "        vertical-align: top;\n",
       "    }\n",
       "\n",
       "    .dataframe thead th {\n",
       "        text-align: right;\n",
       "    }\n",
       "</style>\n",
       "<table border=\"1\" class=\"dataframe\">\n",
       "  <thead>\n",
       "    <tr style=\"text-align: right;\">\n",
       "      <th></th>\n",
       "      <th>hour</th>\n",
       "      <th>minute_index</th>\n",
       "      <th>direction</th>\n",
       "      <th>lamid</th>\n",
       "      <th>year</th>\n",
       "      <th>day</th>\n",
       "      <th>speed_cargo</th>\n",
       "      <th>speed_car</th>\n",
       "      <th>count_car</th>\n",
       "      <th>count_cargo</th>\n",
       "    </tr>\n",
       "  </thead>\n",
       "  <tbody>\n",
       "    <tr>\n",
       "      <th>40</th>\n",
       "      <td>1</td>\n",
       "      <td>8</td>\n",
       "      <td>1</td>\n",
       "      <td>1</td>\n",
       "      <td>16</td>\n",
       "      <td>1</td>\n",
       "      <td>0</td>\n",
       "      <td>0</td>\n",
       "      <td>0</td>\n",
       "      <td>0</td>\n",
       "    </tr>\n",
       "    <tr>\n",
       "      <th>72</th>\n",
       "      <td>3</td>\n",
       "      <td>0</td>\n",
       "      <td>1</td>\n",
       "      <td>1</td>\n",
       "      <td>16</td>\n",
       "      <td>1</td>\n",
       "      <td>0</td>\n",
       "      <td>0</td>\n",
       "      <td>0</td>\n",
       "      <td>0</td>\n",
       "    </tr>\n",
       "    <tr>\n",
       "      <th>80</th>\n",
       "      <td>3</td>\n",
       "      <td>4</td>\n",
       "      <td>1</td>\n",
       "      <td>1</td>\n",
       "      <td>16</td>\n",
       "      <td>1</td>\n",
       "      <td>0</td>\n",
       "      <td>0</td>\n",
       "      <td>0</td>\n",
       "      <td>0</td>\n",
       "    </tr>\n",
       "    <tr>\n",
       "      <th>98</th>\n",
       "      <td>4</td>\n",
       "      <td>1</td>\n",
       "      <td>1</td>\n",
       "      <td>1</td>\n",
       "      <td>16</td>\n",
       "      <td>1</td>\n",
       "      <td>0</td>\n",
       "      <td>0</td>\n",
       "      <td>0</td>\n",
       "      <td>0</td>\n",
       "    </tr>\n",
       "    <tr>\n",
       "      <th>102</th>\n",
       "      <td>4</td>\n",
       "      <td>3</td>\n",
       "      <td>1</td>\n",
       "      <td>1</td>\n",
       "      <td>16</td>\n",
       "      <td>1</td>\n",
       "      <td>86</td>\n",
       "      <td>0</td>\n",
       "      <td>0</td>\n",
       "      <td>1</td>\n",
       "    </tr>\n",
       "    <tr>\n",
       "      <th>122</th>\n",
       "      <td>5</td>\n",
       "      <td>1</td>\n",
       "      <td>1</td>\n",
       "      <td>1</td>\n",
       "      <td>16</td>\n",
       "      <td>1</td>\n",
       "      <td>0</td>\n",
       "      <td>0</td>\n",
       "      <td>0</td>\n",
       "      <td>0</td>\n",
       "    </tr>\n",
       "    <tr>\n",
       "      <th>128</th>\n",
       "      <td>5</td>\n",
       "      <td>4</td>\n",
       "      <td>1</td>\n",
       "      <td>1</td>\n",
       "      <td>16</td>\n",
       "      <td>1</td>\n",
       "      <td>0</td>\n",
       "      <td>0</td>\n",
       "      <td>0</td>\n",
       "      <td>0</td>\n",
       "    </tr>\n",
       "    <tr>\n",
       "      <th>136</th>\n",
       "      <td>5</td>\n",
       "      <td>8</td>\n",
       "      <td>1</td>\n",
       "      <td>1</td>\n",
       "      <td>16</td>\n",
       "      <td>1</td>\n",
       "      <td>0</td>\n",
       "      <td>0</td>\n",
       "      <td>0</td>\n",
       "      <td>0</td>\n",
       "    </tr>\n",
       "    <tr>\n",
       "      <th>142</th>\n",
       "      <td>5</td>\n",
       "      <td>11</td>\n",
       "      <td>1</td>\n",
       "      <td>1</td>\n",
       "      <td>16</td>\n",
       "      <td>1</td>\n",
       "      <td>0</td>\n",
       "      <td>0</td>\n",
       "      <td>0</td>\n",
       "      <td>0</td>\n",
       "    </tr>\n",
       "    <tr>\n",
       "      <th>160</th>\n",
       "      <td>6</td>\n",
       "      <td>8</td>\n",
       "      <td>1</td>\n",
       "      <td>1</td>\n",
       "      <td>16</td>\n",
       "      <td>1</td>\n",
       "      <td>0</td>\n",
       "      <td>0</td>\n",
       "      <td>0</td>\n",
       "      <td>0</td>\n",
       "    </tr>\n",
       "    <tr>\n",
       "      <th>564</th>\n",
       "      <td>23</td>\n",
       "      <td>6</td>\n",
       "      <td>1</td>\n",
       "      <td>1</td>\n",
       "      <td>16</td>\n",
       "      <td>1</td>\n",
       "      <td>0</td>\n",
       "      <td>0</td>\n",
       "      <td>0</td>\n",
       "      <td>0</td>\n",
       "    </tr>\n",
       "  </tbody>\n",
       "</table>\n",
       "</div>"
      ],
      "text/plain": [
       "     hour  minute_index  direction  lamid  year  day  speed_cargo  speed_car  \\\n",
       "40      1             8          1      1    16    1            0          0   \n",
       "72      3             0          1      1    16    1            0          0   \n",
       "80      3             4          1      1    16    1            0          0   \n",
       "98      4             1          1      1    16    1            0          0   \n",
       "102     4             3          1      1    16    1           86          0   \n",
       "122     5             1          1      1    16    1            0          0   \n",
       "128     5             4          1      1    16    1            0          0   \n",
       "136     5             8          1      1    16    1            0          0   \n",
       "142     5            11          1      1    16    1            0          0   \n",
       "160     6             8          1      1    16    1            0          0   \n",
       "564    23             6          1      1    16    1            0          0   \n",
       "\n",
       "     count_car  count_cargo  \n",
       "40           0            0  \n",
       "72           0            0  \n",
       "80           0            0  \n",
       "98           0            0  \n",
       "102          0            1  \n",
       "122          0            0  \n",
       "128          0            0  \n",
       "136          0            0  \n",
       "142          0            0  \n",
       "160          0            0  \n",
       "564          0            0  "
      ]
     },
     "execution_count": 167,
     "metadata": {},
     "output_type": "execute_result"
    }
   ],
   "source": [
    "dir1.loc[dir1[\"count_car\"] == 0].loc[dir1[\"count_car\"] == 0]"
   ]
  },
  {
   "cell_type": "code",
   "execution_count": null,
   "id": "7afcec55-eb44-4504-aca1-9b96b89463a5",
   "metadata": {},
   "outputs": [],
   "source": []
  },
  {
   "cell_type": "code",
   "execution_count": null,
   "id": "ad3cb9b0-ae50-47dc-8849-4dca99fc5f29",
   "metadata": {},
   "outputs": [],
   "source": []
  },
  {
   "cell_type": "code",
   "execution_count": null,
   "id": "372cf214-c00a-441a-a69f-73b2c2d7e760",
   "metadata": {},
   "outputs": [],
   "source": []
  },
  {
   "cell_type": "code",
   "execution_count": null,
   "id": "51286359-e13f-4737-96a0-bd23ad120d92",
   "metadata": {},
   "outputs": [],
   "source": []
  },
  {
   "cell_type": "code",
   "execution_count": null,
   "id": "e41fd6a9-03c8-4df1-9f51-9392c7234197",
   "metadata": {},
   "outputs": [],
   "source": []
  },
  {
   "cell_type": "code",
   "execution_count": null,
   "id": "dffc252a-d917-435c-a813-9385cc88376c",
   "metadata": {},
   "outputs": [],
   "source": []
  },
  {
   "cell_type": "code",
   "execution_count": null,
   "id": "06b03041-f9ca-4a29-81d1-3bf29ea54d7b",
   "metadata": {},
   "outputs": [],
   "source": []
  },
  {
   "cell_type": "code",
   "execution_count": null,
   "id": "a7b1a9bf-7b83-4160-a5b9-c082549f18ae",
   "metadata": {},
   "outputs": [],
   "source": []
  }
 ],
 "metadata": {
  "kernelspec": {
   "display_name": "Python 3 (ipykernel)",
   "language": "python",
   "name": "python3"
  },
  "language_info": {
   "codemirror_mode": {
    "name": "ipython",
    "version": 3
   },
   "file_extension": ".py",
   "mimetype": "text/x-python",
   "name": "python",
   "nbconvert_exporter": "python",
   "pygments_lexer": "ipython3",
   "version": "3.9.7"
  }
 },
 "nbformat": 4,
 "nbformat_minor": 5
}
