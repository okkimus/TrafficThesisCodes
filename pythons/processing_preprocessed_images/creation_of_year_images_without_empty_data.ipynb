{
 "cells": [
  {
   "cell_type": "code",
   "execution_count": 1,
   "id": "0c1b7907-ff01-4dd9-8f04-92df779db359",
   "metadata": {},
   "outputs": [],
   "source": [
    "from PIL import Image\n",
    "import numpy as np\n",
    "\n",
    "utils_path = \"../utils\"\n",
    "import sys  \n",
    "sys.path.insert(0, utils_path)\n",
    "\n",
    "from LamIndexer import LamIndexer \n",
    "\n",
    "lam_indexer = LamIndexer()"
   ]
  },
  {
   "cell_type": "code",
   "execution_count": 2,
   "id": "67e1249a-59f6-49b3-b801-6c001616aa5e",
   "metadata": {},
   "outputs": [],
   "source": [
    "your_path = \"PATH\"\n",
    "processed_images_path = f\"{your_path}\\\\data\\\\processed_image_files\"\n",
    "lam_point_data = f\"{your_path}\\\\data\\\\lam_point_data\"\n",
    "selected_year = 2016"
   ]
  },
  {
   "cell_type": "code",
   "execution_count": 3,
   "id": "c204bb77-9933-4188-abed-3e48617c2a53",
   "metadata": {},
   "outputs": [],
   "source": [
    "selected_filename_stub = \"CargoSpeedMean_day$_year2016_interval5_greyscale.bmp\""
   ]
  },
  {
   "cell_type": "code",
   "execution_count": 4,
   "id": "b3bee297-ccff-42ac-a582-1ef038990b49",
   "metadata": {},
   "outputs": [],
   "source": [
    "def create_filepaths_for_year(year, filename_stub):\n",
    "    files = []\n",
    "    for day in range(1, 366):\n",
    "        filename = filename_stub.replace(\"$\", str(day))\n",
    "        files.append(f\"{processed_images_path}\\\\{year}\\\\{day}\\\\{filename}\")\n",
    "    return files"
   ]
  },
  {
   "cell_type": "code",
   "execution_count": null,
   "id": "e44f340b-f0b0-451a-9d30-ccef980248c8",
   "metadata": {},
   "outputs": [],
   "source": []
  },
  {
   "cell_type": "code",
   "execution_count": 15,
   "id": "317e11bf-2a79-4621-9240-1aa56109da8a",
   "metadata": {},
   "outputs": [],
   "source": [
    "def create_year_images_for_lams(year, stub):\n",
    "    filenames = create_filepaths_for_year(2016, stub)\n",
    "    lam_data = []\n",
    "    for i in range(len(lam_indexer.INDICES)):\n",
    "        lam_data.append(np.array([], dtype=\"uint8\"))\n",
    "    \n",
    "    for path in filenames:\n",
    "        img = Image.open(path)\n",
    "        img_bytes = img.tobytes()\n",
    "        \n",
    "        for i in range(len(lam_indexer.INDICES)):\n",
    "            data = lam_data[i]\n",
    "            new_data = np.append(data, np.array(bytearray(img_bytes[i::img.width]), dtype=\"uint8\"))\n",
    "            lam_data[i] = new_data\n",
    "    \n",
    "    # save image data to files\n",
    "    for i in range(len(lam_data)):\n",
    "        filename = stub.replace(f\"day$_year{year}_\", \"\").replace(\".bmp\", \"\")\n",
    "        dir_name = stub.split(\"_\")[0]\n",
    "        direction = i % 2\n",
    "        \n",
    "        file_save_path = f\"{lam_point_data}\\\\{dir_name}\\\\{filename}_lam_{lam_indexer.get_lam_id_for_index(i)}_dir_{direction}_year_{year}.bmp\"\n",
    "        Image.fromarray(np.transpose(lam_data[i].reshape(365, 290)), \"L\").save()\n",
    "            "
   ]
  },
  {
   "cell_type": "code",
   "execution_count": 16,
   "id": "014e7284-8ced-4dfd-9de0-0309a4c9e08f",
   "metadata": {},
   "outputs": [],
   "source": [
    "create_year_images_for_lams(selected_year, selected_filename_stub)"
   ]
  },
  {
   "cell_type": "code",
   "execution_count": 17,
   "id": "eb314434-2fff-4352-935c-c3b31d454769",
   "metadata": {},
   "outputs": [
    {
     "name": "stdout",
     "output_type": "stream",
     "text": [
      "Done creating for stub: CarCount_day$_year2016_interval5_greyscale.bmp.\n",
      "Done creating for stub: CargoCount_day$_year2016_interval5_greyscale.bmp.\n",
      "Done creating for stub: CargoLength_day$_year2016_interval5_greyscale.bmp.\n",
      "Done creating for stub: CargoSpeedMax_day$_year2016_interval5_greyscale.bmp.\n",
      "Done creating for stub: CargoSpeedMin_day$_year2016_interval5_greyscale.bmp.\n",
      "Done creating for stub: CarSpeedMax_day$_year2016_interval5_greyscale.bmp.\n",
      "Done creating for stub: CarSpeedMean_day$_year2016_interval5_greyscale.bmp.\n",
      "Done creating for stub: CarSpeedMin_day$_year2016_interval5_greyscale.bmp.\n"
     ]
    }
   ],
   "source": [
    "filename_stubs = [\"CarCount_day$_year2016_interval5_greyscale.bmp\", \"CargoCount_day$_year2016_interval5_greyscale.bmp\", \"CargoLength_day$_year2016_interval5_greyscale.bmp\", \"CargoSpeedMax_day$_year2016_interval5_greyscale.bmp\", \"CargoSpeedMin_day$_year2016_interval5_greyscale.bmp\", \"CarSpeedMax_day$_year2016_interval5_greyscale.bmp\", \"CarSpeedMean_day$_year2016_interval5_greyscale.bmp\", \"CarSpeedMin_day$_year2016_interval5_greyscale.bmp\"]\n",
    "\n",
    "for stub in filename_stubs:\n",
    "    create_year_images_for_lams(selected_year, stub)\n",
    "    print(f\"Done creating for stub: {stub}.\")"
   ]
  },
  {
   "cell_type": "code",
   "execution_count": null,
   "id": "0d2b8c2e-e97d-4e17-aa94-a0625aa9e770",
   "metadata": {},
   "outputs": [],
   "source": []
  }
 ],
 "metadata": {
  "kernelspec": {
   "display_name": "Python 3 (ipykernel)",
   "language": "python",
   "name": "python3"
  },
  "language_info": {
   "codemirror_mode": {
    "name": "ipython",
    "version": 3
   },
   "file_extension": ".py",
   "mimetype": "text/x-python",
   "name": "python",
   "nbconvert_exporter": "python",
   "pygments_lexer": "ipython3",
   "version": "3.9.7"
  }
 },
 "nbformat": 4,
 "nbformat_minor": 5
}
