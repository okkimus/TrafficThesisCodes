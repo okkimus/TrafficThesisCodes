{
 "cells": [
  {
   "cell_type": "code",
   "execution_count": 388,
   "id": "3da824ce-c4ca-4106-babc-23fdb316736f",
   "metadata": {},
   "outputs": [],
   "source": [
    "from os import listdir\n",
    "import numpy as np\n",
    "import pandas as pd\n",
    "import matplotlib.pyplot as plt\n",
    "from PIL import Image\n",
    "from tslearn.clustering import KShape\n",
    "from tslearn.neighbors import KNeighborsTimeSeries\n",
    "from tslearn.preprocessing import TimeSeriesScalerMeanVariance\n",
    "from sklearn.metrics import confusion_matrix\n",
    "from tslearn.clustering import TimeSeriesKMeans, silhouette_score\n"
   ]
  },
  {
   "cell_type": "code",
   "execution_count": 389,
   "id": "040fd6d7-61c4-41f3-94cf-5d1078dbefb1",
   "metadata": {},
   "outputs": [],
   "source": [
    "year_file_path = \"YOUR_PATH\\\\data\\\\year_processed_features\\\\2016\\\\car_count\"\n",
    "files = listdir(year_file_path)"
   ]
  },
  {
   "cell_type": "code",
   "execution_count": 390,
   "id": "0caab489-ef79-4865-974b-7f2056adf7e5",
   "metadata": {},
   "outputs": [],
   "source": [
    "filename_stub = \"CarCount_interval5_greyscale_lam_610_\"\n",
    "filtered = filter(lambda path: filename_stub in path, files)"
   ]
  },
  {
   "cell_type": "code",
   "execution_count": 391,
   "id": "3178c4a6-6e65-41e0-acab-6aeb7bfaf256",
   "metadata": {},
   "outputs": [],
   "source": [
    "days = [\"mon\", \"tue\", \"wed\", \"thu\", \"fri\", \"sat\", \"sun\"]"
   ]
  },
  {
   "cell_type": "code",
   "execution_count": 392,
   "id": "e1d33604-4b48-4e5f-8871-8610b449d408",
   "metadata": {},
   "outputs": [],
   "source": [
    "datasets = []\n",
    "\n",
    "for path in filtered:\n",
    "    if (path[-7:-4] in days):\n",
    "        datasets.append(path)"
   ]
  },
  {
   "cell_type": "code",
   "execution_count": 393,
   "id": "a63bd27a-6f51-4028-8a96-25c4c9dbb1c6",
   "metadata": {},
   "outputs": [],
   "source": [
    "def create_data_matrix(file_path):\n",
    "    img_data = Image.open(file_path)\n",
    "    day_data = np.array(bytearray(img_data.tobytes()), dtype=\"uint8\")\n",
    "    return np.transpose(day_data.reshape(288, 48))    "
   ]
  },
  {
   "cell_type": "code",
   "execution_count": 394,
   "id": "349a56a6-dc58-4955-8eab-16e7719b9f44",
   "metadata": {},
   "outputs": [],
   "source": [
    "day_data = create_data_matrix(f\"{year_file_path}\\\\{datasets[0]}\")\n",
    "\n",
    "for i in range(1, 7):\n",
    "    day_path = f\"{year_file_path}\\\\{datasets[i]}\"\n",
    "    day_data = np.concatenate((day_data, create_data_matrix(day_path)))"
   ]
  },
  {
   "cell_type": "code",
   "execution_count": 395,
   "id": "a7c5a417-8a82-44a3-ab2d-c3c5c174d3f6",
   "metadata": {},
   "outputs": [],
   "source": [
    "def create_bar_chart(preds):\n",
    "    counts = np.zeros(len(np.unique(preds)), dtype=\"uint8\")\n",
    "    for i in preds:\n",
    "        counts[i] += 1\n",
    "    _ = plt.bar(np.arange(len(counts)), counts)\n",
    "    plt.show()"
   ]
  },
  {
   "cell_type": "code",
   "execution_count": 396,
   "id": "38f49a4c-aa82-4e67-b8bb-b6ef77fc0eca",
   "metadata": {},
   "outputs": [],
   "source": [
    "def cluster_and_visualise(timeseries_data, cluster_count):\n",
    "    metric = \"dtw\"\n",
    "    \n",
    "    X_train = TimeSeriesScalerMeanVariance().fit_transform(data)\n",
    "    sz = X_train.shape[1]\n",
    "\n",
    "    # kShape clustering\n",
    "    model = TimeSeriesKMeans(n_clusters=cluster_count, metric=metric,\n",
    "                        n_jobs=-1)\n",
    "    y_pred = model.fit_predict(X_train)\n",
    "    \n",
    "    plt.figure()\n",
    "    for yi in range(cluster_count):\n",
    "        plt.subplot(4, 2, 1 + yi)\n",
    "        \n",
    "        plt.plot(model.cluster_centers_[yi].ravel(), \"r-\")\n",
    "        plt.xlim(0, sz)\n",
    "        plt.ylim(-4, 4)\n",
    "        plt.title(\"Cluster %d\" % (yi + 1))\n",
    "\n",
    "    plt.tight_layout()\n",
    "    plt.show()\n",
    "    \n",
    "    create_bar_chart(y_pred)\n",
    "    \n",
    "    visualise_predictions(y_pred)\n",
    "    \n",
    "    return y_pred\n",
    "    \n",
    "def visualise_predictions(preds):\n",
    "    day_labels = [\"mon\", \"tue\", \"wed\", \"thu\", \"fri\", \"sat\", \"sun\"]\n",
    "    preds_in_class = {}\n",
    "    for pred_class in np.unique(preds):\n",
    "        preds_in_class[pred_class] = []\n",
    "    \n",
    "    for i in range(len(preds)):\n",
    "        pred = preds[i]\n",
    "        preds_in_class[pred].append(i%7)\n",
    "        \n",
    "    plt.figure()\n",
    "    for key in preds_in_class.keys():\n",
    "        plt.subplot(4, 2, 1 + key)\n",
    "        data = count_entries(preds_in_class[key])\n",
    "        plt.bar(np.arange(len(data)) + 0.5, data)\n",
    "        plt.xlim(0, 7)\n",
    "        \n",
    "    plt.tight_layout()\n",
    "    plt.show()\n",
    "        \n",
    "def count_entries(data):\n",
    "    counts = np.zeros(7, dtype=\"uint8\")\n",
    "    for d in data:\n",
    "        counts[d] += 1\n",
    "        \n",
    "    return counts"
   ]
  },
  {
   "cell_type": "code",
   "execution_count": 397,
   "id": "dc39febf-50a8-409e-9526-018b670765b3",
   "metadata": {},
   "outputs": [
    {
     "data": {
      "image/png": "[encoded data removed]",
      "text/plain": [
       "<Figure size 432x288 with 2 Axes>"
      ]
     },
     "metadata": {
      "needs_background": "light"
     },
     "output_type": "display_data"
    },
    {
     "data": {
      "image/png": "[encoded data removed]",
      "text/plain": [
       "<Figure size 432x288 with 1 Axes>"
      ]
     },
     "metadata": {
      "needs_background": "light"
     },
     "output_type": "display_data"
    },
    {
     "data": {
      "image/png": "[encoded data removed]",
      "text/plain": [
       "<Figure size 432x288 with 2 Axes>"
      ]
     },
     "metadata": {
      "needs_background": "light"
     },
     "output_type": "display_data"
    }
   ],
   "source": [
    "y_preds = cluster_and_visualise(data, 2)"
   ]
  },
  {
   "cell_type": "code",
   "execution_count": 340,
   "id": "e8cb7039-33fb-4175-b618-3a4beb70ae9a",
   "metadata": {},
   "outputs": [
    {
     "data": {
      "text/plain": [
       "(672, 288)"
      ]
     },
     "execution_count": 340,
     "metadata": {},
     "output_type": "execute_result"
    }
   ],
   "source": [
    "day_data.shape"
   ]
  },
  {
   "cell_type": "code",
   "execution_count": 341,
   "id": "1c5dc858-93ef-460b-9ca8-f1cd36485c36",
   "metadata": {},
   "outputs": [],
   "source": []
  },
  {
   "cell_type": "code",
   "execution_count": 384,
   "id": "06365027-b513-46a9-82fc-cbe5dd3eedc1",
   "metadata": {},
   "outputs": [],
   "source": [
    "week_data = []\n",
    "\n",
    "for day in range(48):\n",
    "    week = []\n",
    "    for i in range(7):\n",
    "        week = np.concatenate([week, day_data[i*48]])\n",
    "    week_data.append(week)\n",
    "\n",
    "week_data = np.array(week_data)"
   ]
  },
  {
   "cell_type": "code",
   "execution_count": 387,
   "id": "a2f7fd28-f8e4-4e7b-b54b-efa5b56943ac",
   "metadata": {},
   "outputs": [
    {
     "data": {
      "image/png": "[encoded data removed]",
      "text/plain": [
       "<Figure size 432x288 with 2 Axes>"
      ]
     },
     "metadata": {
      "needs_background": "light"
     },
     "output_type": "display_data"
    },
    {
     "data": {
      "image/png": "[encoded data removed]",
      "text/plain": [
       "<Figure size 432x288 with 1 Axes>"
      ]
     },
     "metadata": {
      "needs_background": "light"
     },
     "output_type": "display_data"
    },
    {
     "data": {
      "image/png": "[encoded data removed]",
      "text/plain": [
       "<Figure size 432x288 with 2 Axes>"
      ]
     },
     "metadata": {
      "needs_background": "light"
     },
     "output_type": "display_data"
    }
   ],
   "source": [
    "y_preds = cluster_and_visualise(data, 2)"
   ]
  },
  {
   "cell_type": "code",
   "execution_count": null,
   "id": "cf7fb06a-93ff-4b65-b618-ddefd262fc32",
   "metadata": {},
   "outputs": [],
   "source": []
  },
  {
   "cell_type": "code",
   "execution_count": null,
   "id": "9cc363ae-5ed6-440f-af42-3bae6ef2f4f9",
   "metadata": {},
   "outputs": [],
   "source": []
  },
  {
   "cell_type": "code",
   "execution_count": null,
   "id": "70f02e2d-f47e-47a4-bafa-bb2df044bbbc",
   "metadata": {},
   "outputs": [],
   "source": []
  },
  {
   "cell_type": "code",
   "execution_count": null,
   "id": "2bfa1333-fb6f-4a43-b168-b8b32031aff3",
   "metadata": {},
   "outputs": [],
   "source": []
  },
  {
   "cell_type": "code",
   "execution_count": null,
   "id": "48cb13c8-e8c6-4c6d-9c8f-ffe883449351",
   "metadata": {},
   "outputs": [],
   "source": []
  },
  {
   "cell_type": "code",
   "execution_count": null,
   "id": "494d17ed-ed09-404f-bd19-c8e3aa4132f1",
   "metadata": {},
   "outputs": [],
   "source": []
  },
  {
   "cell_type": "code",
   "execution_count": null,
   "id": "58968171-06cf-4efc-aa37-b64634377cae",
   "metadata": {},
   "outputs": [],
   "source": []
  },
  {
   "cell_type": "code",
   "execution_count": null,
   "id": "1d151fb2-c09c-42c8-ace6-c7c6d64da019",
   "metadata": {},
   "outputs": [],
   "source": []
  }
 ],
 "metadata": {
  "kernelspec": {
   "display_name": "Python 3 (ipykernel)",
   "language": "python",
   "name": "python3"
  },
  "language_info": {
   "codemirror_mode": {
    "name": "ipython",
    "version": 3
   },
   "file_extension": ".py",
   "mimetype": "text/x-python",
   "name": "python",
   "nbconvert_exporter": "python",
   "pygments_lexer": "ipython3",
   "version": "3.9.7"
  }
 },
 "nbformat": 4,
 "nbformat_minor": 5
}
