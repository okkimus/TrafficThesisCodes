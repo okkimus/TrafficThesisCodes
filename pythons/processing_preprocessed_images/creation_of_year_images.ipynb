{
 "cells": [
  {
   "cell_type": "code",
   "execution_count": 1,
   "id": "73514bff-5fae-4366-af67-f679728fc412",
   "metadata": {},
   "outputs": [],
   "source": [
    "processed_images_path = \"../processed_image_files\""
   ]
  },
  {
   "cell_type": "code",
   "execution_count": 2,
   "id": "b36098b2-45a3-40c9-afd6-a914a567551e",
   "metadata": {},
   "outputs": [],
   "source": [
    "selected_year = \"2016\"\n",
    "selected_filename_stub = \"CargoSpeedMean_day$_year2016_interval5_greyscale.bmp\""
   ]
  },
  {
   "cell_type": "code",
   "execution_count": 3,
   "id": "cf92a879-197a-4136-b037-2c0faca05277",
   "metadata": {},
   "outputs": [],
   "source": [
    "from PIL import Image\n",
    "import numpy as np"
   ]
  },
  {
   "cell_type": "code",
   "execution_count": 4,
   "id": "735c4221-4cfd-4578-a1b9-e17e649c782f",
   "metadata": {},
   "outputs": [],
   "source": [
    "def get_values_for_col(img, col):\n",
    "    return img.tobytes()[col::img.width]"
   ]
  },
  {
   "cell_type": "code",
   "execution_count": 5,
   "id": "2d5b0032-4ca0-4f7d-a729-550699f5a894",
   "metadata": {},
   "outputs": [],
   "source": [
    "def create_filepath_for_day(day_number, filename_stub, year):\n",
    "    filename = filename_stub.replace(\"$\", str(day_number))\n",
    "    return f\"{processed_images_path}/{year}/{day_number}/{filename}\""
   ]
  },
  {
   "cell_type": "code",
   "execution_count": 6,
   "id": "b994c6ad-185b-4231-9598-e850b659e1ed",
   "metadata": {},
   "outputs": [],
   "source": [
    "def create_year_for_lam(lam_index, filename_stub, year):\n",
    "    cols = np.array([], dtype=\"uint8\")\n",
    "    for i in range(365):\n",
    "        path = create_filepath_for_day(i + 1, filename_stub, year)\n",
    "        img = Image.open(path)\n",
    "        vals = get_values_for_col(img, lam_index)\n",
    "        cols = np.append(cols, np.array(bytearray(vals), dtype=\"uint8\"))\n",
    "    return cols"
   ]
  },
  {
   "cell_type": "code",
   "execution_count": 7,
   "id": "0998dce2-3f16-4cad-8d81-05ce6b35f246",
   "metadata": {},
   "outputs": [],
   "source": [
    "def create_year_image_for_lam(lam_index, filename_stub, save_folder, year):\n",
    "    matrix = create_year_for_lam(lam_index, filename_stub, year)\n",
    "    filename = filename_stub.replace(\"day$_year2016_\", \"\").replace(\".bmp\", \"\")\n",
    "    Image.fromarray(np.transpose(matrix.reshape(365, 288)), \"L\").save(f\"./{save_folder}/{filename}_lam_{lam_index}_year_{year}.bmp\") # Swap the lam index to mapped lam id"
   ]
  },
  {
   "cell_type": "code",
   "execution_count": 65,
   "id": "f3dfe2a5-6675-48f0-99b4-108cbcabd53e",
   "metadata": {},
   "outputs": [],
   "source": [
    "create_year_image_for_lam(0, selected_filename_stub, 2016)"
   ]
  },
  {
   "cell_type": "code",
   "execution_count": 66,
   "id": "1eecdd1a-188e-4fd4-b7b7-0ff59af5c11e",
   "metadata": {},
   "outputs": [],
   "source": [
    "for i in range(988):\n",
    "    create_year_image_for_lam(i, selected_filename_stub, 2016)"
   ]
  },
  {
   "cell_type": "code",
   "execution_count": 70,
   "id": "66029212-448c-40b0-87ed-5f64b8edd208",
   "metadata": {},
   "outputs": [],
   "source": [
    "left_to_create = [(\"CargoCount_day$_year2016_interval5_greyscale.bmp\", \"cargo_count\"), (\"CargoLength_day$_year2016_interval5_greyscale.bmp\", \"cargo_length\"), (\"CargoSpeedMax_day$_year2016_interval5_greyscale.bmp\", \"cargo_speed_max\"), (\"CargoSpeedMin_day$_year2016_interval5_greyscale.bmp\", \"cargo_speed_min\"), (\"CarSpeedMax_day$_year2016_interval5_greyscale.bmp\", \"car_speed_max\"), (\"CarSpeedMin_day$_year2016_interval5_greyscale.bmp\", \"car_speed_min\")]"
   ]
  },
  {
   "cell_type": "code",
   "execution_count": 72,
   "id": "c4b5c8a3-0744-4f7c-bae2-30b60d55be2a",
   "metadata": {},
   "outputs": [],
   "source": [
    "for (stub, save_folder) in left_to_create:\n",
    "    for i in range(988):\n",
    "        create_year_image_for_lam(i, stub, save_folder, 2016)"
   ]
  },
  {
   "cell_type": "code",
   "execution_count": 8,
   "id": "431917e3-7775-49a4-bc52-18f9df8eb4fa",
   "metadata": {},
   "outputs": [],
   "source": [
    "from datetime import datetime"
   ]
  },
  {
   "cell_type": "code",
   "execution_count": 9,
   "id": "9315f605-2a8e-42d4-8c92-4c6b874c682a",
   "metadata": {},
   "outputs": [],
   "source": [
    "def get_daynumber_of_nth_monday(year, n):\n",
    "    first_day = datetime(year, 1, 1).weekday()\n",
    "    \n",
    "    return n * 7 - first_day + 1"
   ]
  },
  {
   "cell_type": "code",
   "execution_count": 10,
   "id": "da88f48f-a240-4713-94ea-ac5d01cc0a6d",
   "metadata": {},
   "outputs": [],
   "source": [
    "def get_day_range_for_year(year):\n",
    "    second_monday = get_daynumber_of_nth_monday(year, 2)\n",
    "    return (second_monday, second_monday + 48 * 7)"
   ]
  },
  {
   "cell_type": "code",
   "execution_count": 11,
   "id": "a9ddffa9-8e5d-4b9e-a2f1-ae133b51ffbc",
   "metadata": {},
   "outputs": [],
   "source": [
    "day_arr = [\"mon\", \"tue\", \"wed\", \"thu\", \"fri\", \"sat\", \"sun\"]\n",
    "\n",
    "def create_yearish_for_weekdays(lam_index, filepath_stub, year):\n",
    "    filepath = filepath_stub.replace(\"$\", str(lam_index))\n",
    "    img = Image.open(filepath)\n",
    "    day_range = get_day_range_for_year(year)\n",
    "    for day in range(7):\n",
    "        cols = np.array([], dtype=\"uint8\")\n",
    "    \n",
    "        for day_i in range(day_range[0] + day, day_range[1], 7):\n",
    "            vals = get_values_for_col(img, day_i)\n",
    "            cols = np.append(cols, np.array(bytearray(vals), dtype=\"uint8\"))\n",
    "        \n",
    "        save_path = f\"{filepath[:-4]}_{day_arr[day]}.bmp\"\n",
    "        Image.fromarray(np.transpose(cols.reshape(48, 288)), \"L\").save(save_path)"
   ]
  },
  {
   "cell_type": "code",
   "execution_count": null,
   "id": "a927e4c5-a104-4130-9b0a-922e93e0d717",
   "metadata": {},
   "outputs": [],
   "source": []
  },
  {
   "cell_type": "code",
   "execution_count": 15,
   "id": "8bbc3546-b3fb-439d-9a3d-111ea032a22b",
   "metadata": {},
   "outputs": [],
   "source": [
    "stub = \"YOUR_PATH\\\\data\\\\year_processed_features\\\\2016\\\\car_speed_mean\\\\CarSpeedMean_interval5_greyscale_lam_$_year_2016.bmp\" "
   ]
  },
  {
   "cell_type": "code",
   "execution_count": 16,
   "id": "21f22743-4fb1-4396-b35d-a963c85f2b18",
   "metadata": {},
   "outputs": [
    {
     "data": {
      "text/plain": [
       "'YOUR_PATH\\\\data\\\\year_processed_features\\\\2016\\\\car_speed_mean\\\\CarSpeedMean_interval5_greyscale_lam_$_year_2016_tuesday.bmp'"
      ]
     },
     "execution_count": 16,
     "metadata": {},
     "output_type": "execute_result"
    }
   ],
   "source": [
    "stub[:-4] + \"_tuesday.bmp\""
   ]
  },
  {
   "cell_type": "code",
   "execution_count": 17,
   "id": "5d76a96b-fb8a-4615-aa64-50c83761d996",
   "metadata": {},
   "outputs": [],
   "source": [
    "for i in range(988):  \n",
    "    create_yearish_for_weekdays(i, stub, 2016)"
   ]
  },
  {
   "cell_type": "code",
   "execution_count": 103,
   "id": "718e6165-d50f-40f2-8d5a-e6f8175ff50f",
   "metadata": {},
   "outputs": [
    {
     "data": {
      "text/plain": [
       "'mon'"
      ]
     },
     "execution_count": 103,
     "metadata": {},
     "output_type": "execute_result"
    }
   ],
   "source": [
    "day_map[1]"
   ]
  },
  {
   "cell_type": "code",
   "execution_count": 159,
   "id": "0b473a26-723a-4956-b493-e0bcd946651a",
   "metadata": {},
   "outputs": [
    {
     "name": "stdout",
     "output_type": "stream",
     "text": [
      "11\n"
     ]
    }
   ],
   "source": [
    "for day_i in range(range(11, 347)[0], range(11, 347)[1], 7):\n",
    "    print(day_i)"
   ]
  },
  {
   "cell_type": "code",
   "execution_count": null,
   "id": "922a531d-9dff-4ad2-89cf-60652f74cf27",
   "metadata": {},
   "outputs": [],
   "source": [
    "range(11, 347)"
   ]
  }
 ],
 "metadata": {
  "kernelspec": {
   "display_name": "Python 3 (ipykernel)",
   "language": "python",
   "name": "python3"
  },
  "language_info": {
   "codemirror_mode": {
    "name": "ipython",
    "version": 3
   },
   "file_extension": ".py",
   "mimetype": "text/x-python",
   "name": "python",
   "nbconvert_exporter": "python",
   "pygments_lexer": "ipython3",
   "version": "3.9.7"
  }
 },
 "nbformat": 4,
 "nbformat_minor": 5
}
