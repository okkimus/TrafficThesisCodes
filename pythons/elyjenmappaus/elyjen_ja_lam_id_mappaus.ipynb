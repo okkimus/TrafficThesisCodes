{
 "cells": [
  {
   "cell_type": "code",
   "execution_count": 1,
   "id": "74350be3-4062-4c23-a239-f316b3fef49b",
   "metadata": {},
   "outputs": [],
   "source": [
    "import concurrent.futures\n",
    "import os\n",
    "import requests\n",
    "import json"
   ]
  },
  {
   "cell_type": "code",
   "execution_count": 2,
   "id": "842a7a6c-4cd7-422f-a604-d569510c997a",
   "metadata": {},
   "outputs": [],
   "source": [
    "def get_ely_code(road_number, road_section, distance_from_road_section_start):\n",
    "    try:\n",
    "        url = f\"https://julkinen.vayla.fi/viitekehysmuunnin/muunna?tie={road_number}&osa={road_section}&etaisyys={distance_from_road_section_start}&valihaku=false&palautusarvot=4\"\n",
    "        response = requests.get(url, timeout=10)\n",
    "        return response.json()[\"features\"][0][\"properties\"][\"ely\"]\n",
    "    except Exception as e:\n",
    "        template = \"An exception of type {0} occurred. Arguments:\\n{1!r}\"\n",
    "        message = template.format(type(e).__name__, e.args)\n",
    "        print (message, road_number, road_section, distance_from_road_section_start)"
   ]
  },
  {
   "cell_type": "code",
   "execution_count": 3,
   "id": "3307cce9-4dd3-44cb-8840-3c5b7eaabb79",
   "metadata": {},
   "outputs": [],
   "source": [
    "json_location = \"../visualisointi/tms-stations.json\"\n",
    "with open(json_location, 'r') as myfile:\n",
    "    data = myfile.read()\n",
    "\n",
    "tms_data = json.loads(data)[\"features\"]"
   ]
  },
  {
   "cell_type": "code",
   "execution_count": 4,
   "id": "611299ad-ff68-464a-b03a-047dab062a44",
   "metadata": {},
   "outputs": [],
   "source": [
    "def get_ely_for_tms(tms):\n",
    "    road_data = tms[\"properties\"][\"roadAddress\"]\n",
    "    road_nr = road_data[\"roadNumber\"]\n",
    "    road_section = road_data[\"roadSection\"]\n",
    "    distance = road_data[\"distanceFromRoadSectionStart\"]\n",
    "    ely_code = get_ely_code(road_nr, road_section, distance)\n",
    "    return ely_code"
   ]
  },
  {
   "cell_type": "code",
   "execution_count": 5,
   "id": "9ae3ebdf-cd61-4cfd-9661-9de0e286da18",
   "metadata": {},
   "outputs": [],
   "source": [
    "def addOrAppendAtKey(key, value_to_add, dictionary):\n",
    "    value = dictionary.get(key, None)\n",
    "    if value is not None: \n",
    "        value.append(value_to_add)\n",
    "    else:\n",
    "        dictionary[key] = [value_to_add]"
   ]
  },
  {
   "cell_type": "code",
   "execution_count": 6,
   "id": "e58329fb-e6a1-4591-b9fa-75c574679c5b",
   "metadata": {},
   "outputs": [],
   "source": [
    "mapping = {}"
   ]
  },
  {
   "cell_type": "code",
   "execution_count": 7,
   "id": "a20b0b42-9062-4a40-bb8e-f59faf97be49",
   "metadata": {},
   "outputs": [
    {
     "name": "stdout",
     "output_type": "stream",
     "text": [
      "An exception of type KeyError occurred. Arguments:\n",
      "('ely',) 51 2 3797\n",
      "An exception of type KeyError occurred. Arguments:\n",
      "('ely',) 5 133 6185\n",
      "An exception of type KeyError occurred. Arguments:\n",
      "('ely',) 4 303 3210\n"
     ]
    }
   ],
   "source": [
    "for tms in tms_data:\n",
    "    ely = get_ely_for_tms(tms)\n",
    "    tms_id = tms[\"properties\"][\"tmsNumber\"]\n",
    "    if ely is not None:\n",
    "        addOrAppendAtKey(ely, tms_id, mapping)"
   ]
  },
  {
   "cell_type": "code",
   "execution_count": 70,
   "id": "5cd103f4-b38a-4d14-8fbf-6877b4938331",
   "metadata": {},
   "outputs": [],
   "source": [
    "with open('ely_lamid_mapping.json', 'w') as fp:\n",
    "    json.dump(mapping, fp, sort_keys=True)\n"
   ]
  },
  {
   "cell_type": "code",
   "execution_count": null,
   "id": "8e25bf7f-c849-4932-9241-18b914ec9c4a",
   "metadata": {},
   "outputs": [],
   "source": []
  },
  {
   "cell_type": "code",
   "execution_count": null,
   "id": "fcf94837-7bf5-48a3-8f92-d44d69ee2866",
   "metadata": {},
   "outputs": [],
   "source": []
  },
  {
   "cell_type": "code",
   "execution_count": null,
   "id": "b9d8714c-d73c-4a33-84de-1d3709e7147e",
   "metadata": {},
   "outputs": [],
   "source": []
  },
  {
   "cell_type": "code",
   "execution_count": 9,
   "id": "cf0b9708-24b3-4fbd-a940-88af63e3a92d",
   "metadata": {},
   "outputs": [
    {
     "data": {
      "text/plain": [
       "497"
      ]
     },
     "execution_count": 9,
     "metadata": {},
     "output_type": "execute_result"
    }
   ],
   "source": [
    "len(tms_data)"
   ]
  },
  {
   "cell_type": "code",
   "execution_count": 14,
   "id": "3f240607-e769-4fef-b8ed-1faeb75b75d0",
   "metadata": {},
   "outputs": [],
   "source": [
    "length = 0\n",
    "for key in mapping.keys():\n",
    "    length += len(mapping[key])"
   ]
  },
  {
   "cell_type": "code",
   "execution_count": 15,
   "id": "a263421d-c499-45d5-950b-bad53a34a937",
   "metadata": {},
   "outputs": [
    {
     "data": {
      "text/plain": [
       "494"
      ]
     },
     "execution_count": 15,
     "metadata": {},
     "output_type": "execute_result"
    }
   ],
   "source": [
    "length"
   ]
  },
  {
   "cell_type": "code",
   "execution_count": null,
   "id": "d9aed36f-f06b-4cf8-815b-66d0db1bcd1f",
   "metadata": {},
   "outputs": [],
   "source": []
  }
 ],
 "metadata": {
  "kernelspec": {
   "display_name": "Python 3 (ipykernel)",
   "language": "python",
   "name": "python3"
  },
  "language_info": {
   "codemirror_mode": {
    "name": "ipython",
    "version": 3
   },
   "file_extension": ".py",
   "mimetype": "text/x-python",
   "name": "python",
   "nbconvert_exporter": "python",
   "pygments_lexer": "ipython3",
   "version": "3.9.7"
  }
 },
 "nbformat": 4,
 "nbformat_minor": 5
}
