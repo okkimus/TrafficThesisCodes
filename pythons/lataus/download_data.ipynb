{
 "cells": [
  {
   "cell_type": "code",
   "execution_count": 1,
   "id": "02a89be4-cf90-4fe0-beff-4fd80f6c4081",
   "metadata": {},
   "outputs": [],
   "source": [
    "from downloader import download\n",
    "from calendar import monthrange\n",
    "from datetime import datetime\n",
    "import json"
   ]
  },
  {
   "cell_type": "code",
   "execution_count": 2,
   "id": "28110a92-be0a-4065-b58d-c1a4a2cc4b88",
   "metadata": {},
   "outputs": [],
   "source": [
    "ely_codes = ['01', '02', '03', '04', '08', '09', '10', '12', '14']\n",
    "with open('../elyjenmappaus/ely_lamid_mapping.json', 'r') as mappings:\n",
    "    lam_id_mapping = json.loads(mappings.read())"
   ]
  },
  {
   "cell_type": "code",
   "execution_count": 3,
   "id": "4716bcb2-9e98-4267-8f4b-5da5ff55653b",
   "metadata": {},
   "outputs": [],
   "source": [
    "def create_file_name(lam_id, year, day_number):\n",
    "    year_short = year % 100\n",
    "    return f\"lamraw_{lam_id}_{year_short}_{day_number}.csv\"\n",
    "\n",
    "def first_and_last_day_number(month, year):\n",
    "    first_day = datetime(year, month, 1)\n",
    "    last_day = datetime(year, month, monthrange(year, month)[1])\n",
    "    \n",
    "    first = first_day.timetuple().tm_yday\n",
    "    last = last_day.timetuple().tm_yday\n",
    "    \n",
    "    return (first, last)\n",
    "\n",
    "def create_download_parameters_for_months(lam_id, year, months, ely_code, path):\n",
    "    parameters = []\n",
    "    for month in months:\n",
    "        first_day, last_day = first_and_last_day_number(month, year)\n",
    "\n",
    "        for day_number in range(first_day, last_day + 1):\n",
    "            parameters.append((year, ely_code, create_file_name(lam_id, year, day_number), path))    \n",
    "    \n",
    "    \n",
    "    return parameters"
   ]
  },
  {
   "cell_type": "code",
   "execution_count": 4,
   "id": "5e0dd34b-7cdd-405a-87bb-c0fa72a0aa78",
   "metadata": {},
   "outputs": [],
   "source": [
    "parameters = []\n",
    "selected_months = [1, 2, 3, 4, 5, 6, 7, 8, 9, 10, 11, 12]\n",
    "selected_year = 2017\n",
    "\n",
    "# create params for each ELY code and it's LAM\n",
    "for ely in ely_codes:\n",
    "    lams = lam_id_mapping[ely.strip(\"0\")]\n",
    "    for lam in lams:\n",
    "        parameters = parameters + create_download_parameters_for_months(lam, selected_year, selected_months, ely)"
   ]
  },
  {
   "cell_type": "code",
   "execution_count": 5,
   "id": "d19ce737-5f34-42c4-b074-4dd1c88f3d5c",
   "metadata": {},
   "outputs": [],
   "source": [
    "external_drive_path = \"YOUR_PATH\\\\data\\\\raw_data\"\n",
    "failed_and_existed = download(parameters)"
   ]
  },
  {
   "cell_type": "code",
   "execution_count": 6,
   "id": "0a67ea67-2e34-453b-b096-c520473d6911",
   "metadata": {},
   "outputs": [
    {
     "data": {
      "text/plain": [
       "5641"
      ]
     },
     "execution_count": 6,
     "metadata": {},
     "output_type": "execute_result"
    }
   ],
   "source": [
    "len(failed_and_existed[0])"
   ]
  },
  {
   "cell_type": "code",
   "execution_count": 20,
   "id": "30de3470-a662-452f-bfe9-b5fb66923cf2",
   "metadata": {},
   "outputs": [
    {
     "data": {
      "text/plain": [
       "True"
      ]
     },
     "execution_count": 20,
     "metadata": {},
     "output_type": "execute_result"
    }
   ],
   "source": [
    "int('4') in lam_id_mapping['1']"
   ]
  },
  {
   "cell_type": "code",
   "execution_count": 4,
   "id": "ba08f0a8-6b51-47e9-84db-078a7c910520",
   "metadata": {},
   "outputs": [],
   "source": [
    "def find_ely(lam_id):\n",
    "    for key in lam_id_mapping.keys():\n",
    "        if int(lam_id) in lam_id_mapping[key]:\n",
    "            return key\n",
    "    return -1\n",
    "\n",
    "def append_to_key_value(dictionary, key, value):\n",
    "    if key in dictionary:\n",
    "        dictionary[key].append(value)\n",
    "    else:\n",
    "        dictionary[key] = [value]\n",
    "        \n",
    "def add_missing_dict(dictionary, key):\n",
    "    if key not in dictionary:\n",
    "        dictionary[key] = {}\n",
    "\n",
    "def create_errored_json(errored):\n",
    "    errored_dict = {}\n",
    "    for msg in errored:\n",
    "        filename = msg.split(\" \")[-1]\n",
    "        lam_id = filename.split(\"_\")[1]\n",
    "        day = filename.split(\"_\")[-1].split(\".\")[0]\n",
    "        ely = find_ely(lam_id)\n",
    "        add_missing_dict(errored_dict, ely)\n",
    "        append_to_key_value(errored_dict[ely], lam_id, day)\n",
    "        \n",
    "    return errored_dict"
   ]
  },
  {
   "cell_type": "code",
   "execution_count": 29,
   "id": "699cf636-2510-499e-b25c-6e26db816fca",
   "metadata": {},
   "outputs": [],
   "source": [
    "errored_json = create_errored_json(failed_and_existed[0])"
   ]
  },
  {
   "cell_type": "code",
   "execution_count": 5,
   "id": "f40fb7c5-cbf8-4288-ab1b-0729960fd167",
   "metadata": {},
   "outputs": [],
   "source": [
    "import json"
   ]
  },
  {
   "cell_type": "code",
   "execution_count": 6,
   "id": "41cf9143-5107-4aa3-b0ee-d0a2fd2bf563",
   "metadata": {},
   "outputs": [],
   "source": [
    "def save_json(json_data, filename):\n",
    "    with open(filename, 'w') as fp:\n",
    "        json.dump(json_data, fp, sort_keys=True)\n"
   ]
  },
  {
   "cell_type": "code",
   "execution_count": 42,
   "id": "d1298673-b0cc-4e89-b355-14d1f65f036f",
   "metadata": {},
   "outputs": [],
   "source": [
    "save_json(errored_json, 'errored_file_downloads_2017_1-12.json')"
   ]
  },
  {
   "cell_type": "code",
   "execution_count": 7,
   "id": "3a01aad4-a923-49f5-87c1-22cf8ee668f6",
   "metadata": {},
   "outputs": [],
   "source": [
    "parameters = []\n",
    "selected_months = [1, 2, 3, 4, 5, 6, 7, 8, 9, 10, 11, 12]\n",
    "selected_year = 2017\n",
    "external_drive_path = \"YOUR_PATH\\\\data\\\\raw_data\"\n",
    "\n",
    "# create params for each ELY code and it's LAM\n",
    "for ely in ely_codes:\n",
    "    lams = lam_id_mapping[ely.strip(\"0\")]\n",
    "    for lam in lams:\n",
    "        parameters = parameters + create_download_parameters_for_months(lam, selected_year, selected_months, ely, external_drive_path)"
   ]
  },
  {
   "cell_type": "code",
   "execution_count": 8,
   "id": "6bc688d8-5bfa-42ed-8d2e-76dd3b89f6bf",
   "metadata": {},
   "outputs": [],
   "source": [
    "failed_and_existed = download(parameters)\n",
    "print(f\"Failed count: {len(failed_and_existed[0])}\")\n",
    "errored_json = create_errored_json(failed_and_existed[0])\n",
    "save_json(errored_json, f\"{external_drive_path}\\\\errored_file_downloads_2017_1-12.json\")"
   ]
  },
  {
   "cell_type": "code",
   "execution_count": 46,
   "id": "a801755d-07e9-471e-a811-fe6b5174f985",
   "metadata": {},
   "outputs": [
    {
     "data": {
      "text/plain": [
       "2"
      ]
     },
     "execution_count": 46,
     "metadata": {},
     "output_type": "execute_result"
    }
   ],
   "source": [
    "len(failed_and_existed)"
   ]
  },
  {
   "cell_type": "code",
   "execution_count": 47,
   "id": "30e3e252-64ab-4846-ba71-699df2912a6e",
   "metadata": {},
   "outputs": [],
   "source": [
    "errored_json = create_errored_json(failed_and_existed[0])"
   ]
  },
  {
   "cell_type": "code",
   "execution_count": 48,
   "id": "b5e78065-7112-4561-8e5a-8460c76c6794",
   "metadata": {},
   "outputs": [],
   "source": [
    "save_json(errored_json, 'errored_file_downloads_2016_1-12.json')"
   ]
  },
  {
   "cell_type": "code",
   "execution_count": 54,
   "id": "8a37a5b8-f9cd-4060-9d27-a9c525eb8550",
   "metadata": {},
   "outputs": [
    {
     "name": "stdout",
     "output_type": "stream",
     "text": [
      "59803 file downloads failed\n"
     ]
    }
   ],
   "source": [
    "error_len = 0\n",
    "for key in errored_json.keys():\n",
    "    for lam_key in errored_json[key]:\n",
    "        error_len += len(errored_json[key][lam_key])\n",
    "        \n",
    "print(f\"{error_len} file downloads failed\")"
   ]
  },
  {
   "cell_type": "code",
   "execution_count": null,
   "id": "e80046be-0979-4b39-89f0-9dc2965a5292",
   "metadata": {},
   "outputs": [],
   "source": []
  }
 ],
 "metadata": {
  "kernelspec": {
   "display_name": "Python 3 (ipykernel)",
   "language": "python",
   "name": "python3"
  },
  "language_info": {
   "codemirror_mode": {
    "name": "ipython",
    "version": 3
   },
   "file_extension": ".py",
   "mimetype": "text/x-python",
   "name": "python",
   "nbconvert_exporter": "python",
   "pygments_lexer": "ipython3",
   "version": "3.9.7"
  }
 },
 "nbformat": 4,
 "nbformat_minor": 5
}
