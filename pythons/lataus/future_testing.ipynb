{
 "cells": [
  {
   "cell_type": "code",
   "execution_count": 1,
   "metadata": {},
   "outputs": [],
   "source": [
    "import concurrent.futures\n",
    "import os\n",
    "import queue\n",
    "import threading\n",
    "import time\n",
    "import random"
   ]
  },
  {
   "cell_type": "code",
   "execution_count": 2,
   "metadata": {},
   "outputs": [
    {
     "ename": "NameError",
     "evalue": "name 'parameters' is not defined",
     "output_type": "error",
     "traceback": [
      "\u001b[1;31m---------------------------------------------------------------------------\u001b[0m",
      "\u001b[1;31mNameError\u001b[0m                                 Traceback (most recent call last)",
      "\u001b[1;32m~\\AppData\\Local\\Temp/ipykernel_35848/2419583364.py\u001b[0m in \u001b[0;36m<module>\u001b[1;34m\u001b[0m\n\u001b[0;32m      1\u001b[0m \u001b[0mexisting_files\u001b[0m \u001b[1;33m=\u001b[0m \u001b[1;33m[\u001b[0m\u001b[1;33m]\u001b[0m\u001b[1;33m\u001b[0m\u001b[1;33m\u001b[0m\u001b[0m\n\u001b[1;32m----> 2\u001b[1;33m \u001b[0msingle_args\u001b[0m \u001b[1;33m=\u001b[0m \u001b[0mparameters\u001b[0m\u001b[1;33m[\u001b[0m\u001b[1;36m0\u001b[0m\u001b[1;33m]\u001b[0m\u001b[1;33m\u001b[0m\u001b[1;33m\u001b[0m\u001b[0m\n\u001b[0m\u001b[0;32m      3\u001b[0m \u001b[0mdest_arg\u001b[0m \u001b[1;33m=\u001b[0m \u001b[0msingle_args\u001b[0m\u001b[1;33m[\u001b[0m\u001b[1;33m-\u001b[0m\u001b[1;36m1\u001b[0m\u001b[1;33m]\u001b[0m\u001b[1;33m\u001b[0m\u001b[1;33m\u001b[0m\u001b[0m\n\u001b[0;32m      4\u001b[0m \u001b[0myear_arg\u001b[0m \u001b[1;33m=\u001b[0m \u001b[0msingle_args\u001b[0m\u001b[1;33m[\u001b[0m\u001b[1;36m0\u001b[0m\u001b[1;33m]\u001b[0m\u001b[1;33m\u001b[0m\u001b[1;33m\u001b[0m\u001b[0m\n\u001b[0;32m      5\u001b[0m \u001b[0mdata_parent_dir\u001b[0m \u001b[1;33m=\u001b[0m \u001b[1;34mf\"{dest_arg}\\\\{year_arg}\"\u001b[0m\u001b[1;33m\u001b[0m\u001b[1;33m\u001b[0m\u001b[0m\n",
      "\u001b[1;31mNameError\u001b[0m: name 'parameters' is not defined"
     ]
    }
   ],
   "source": [
    "existing_files = []\n",
    "single_args = parameters[0]\n",
    "dest_arg = single_args[-1]\n",
    "year_arg = single_args[0]\n",
    "data_parent_dir = f\"{dest_arg}\\\\{year_arg}\"\n",
    "for directory in os.listdir(data_parent_dir):\n",
    "  existing_files.append(os.listdir(f\"{data_parent_dir}\\\\{directory}\"))\n",
    "\n",
    "ely_codes = ['01', '02', '03', '04', '08', '09', '10', '12', '14']\n",
    "\n",
    "def wait_fn(t):\n",
    "  time_to_wait = random.random() * t\n",
    "  time.sleep(time_to_wait)\n",
    "  print(f\"Waited {time_to_wait}s\")\n",
    "\n",
    "\n",
    "print(\"Starting downloaders\")\n",
    "with concurrent.futures.ThreadPoolExecutor(max_workers=1) as executor:\n",
    " future_to_tuple = {executor.submit((wait_fn), 0.01): args_list for args_list in parameters}\n",
    " for future in concurrent.futures.as_completed(future_to_tuple):\n",
    "    year, ely, filename, destination = future_to_tuple[future]\n",
    "    for paras in parameters:\n",
    "      file_name = paras[2]\n",
    "      exists =  file_name in existing_files[ely_codes.index(ely)]\n",
    "      if exists:\n",
    "        # pass\n",
    "        print(\"Exists!\")\n",
    "        # self.existed_queue.put(filename)\n",
    "      else:\n",
    "        print(\"Not exist\")\n",
    "      \n",
    "      #time.sleep(1)\n",
    "        # try:\n",
    "        #   status = future.result()\n",
    "        #   if status[-2:] == \"OK\":\n",
    "        #     self.done_queue.put(status)\n",
    "        # except Exception as exc:\n",
    "        #   print('%r generated an exception: %s' % ((year, ely, filename), exc))\n",
    "        # else:\n",
    "        #   if status[:7] == \"Invalid\":\n",
    "        #     self.error_queue.put(status)"
   ]
  }
 ],
 "metadata": {
  "interpreter": {
   "hash": "3c0b52ca80764a1dd840b1e249101c987e7c79ab6aa47aa3ae0c0a2c7735eb98"
  },
  "kernelspec": {
   "display_name": "Python 3.9.7 64-bit ('gradu': conda)",
   "language": "python",
   "name": "python3"
  },
  "language_info": {
   "codemirror_mode": {
    "name": "ipython",
    "version": 3
   },
   "file_extension": ".py",
   "mimetype": "text/x-python",
   "name": "python",
   "nbconvert_exporter": "python",
   "pygments_lexer": "ipython3",
   "version": "3.9.7"
  },
  "orig_nbformat": 4
 },
 "nbformat": 4,
 "nbformat_minor": 2
}
